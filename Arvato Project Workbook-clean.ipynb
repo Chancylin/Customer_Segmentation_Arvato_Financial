{
 "cells": [
  {
   "cell_type": "markdown",
   "metadata": {},
   "source": [
    "# Udacity + Arvato Financial Solutions: Identify Customers from a Mailout Campaign\n",
    "\n",
    "In the project, a mail-order sales company in Germany is interested in identifying segments of the general population to target with their marketing in order to grow. Demographics information has been provided for both the general population at large as well as for prior customers of the mail-order company in order to build a model of the customer base of the company. **The target dataset contains demographics information for targets of a mailout marketing campaign.** The objective is **to identify which individuals are most likely to respond to the campaign and become customers of the mail-order company**.\n",
    "\n",
    "As part of the project, half of the mailout data has been provided with included response column. For the competition, the remaining half of the mailout data has had its response column withheld; the competition will be scored based on the predictions on that half of the data."
   ]
  },
  {
   "cell_type": "markdown",
   "metadata": {},
   "source": [
    "## Work in this notebook\n",
    "**High-level summary:** \n",
    "1. In the unsupervised problem, KMeans Clustering is used to achieve the customer segmentation. More specifically, PCA will be used to reduce the dimensions of the raw features and extract most useful features (i.e., principle components). \n",
    "2. The PCA transformer learned from the unsupervised problem will play as a key feature engineering approach for the supervised problem. \n",
    "3. In the supervised problem, various machine learning algorithms (e.g., Random Forest, XGBoost, Logistic Regression) have been employed to solve the classification problem. \n",
    "4. Necessary visualizations are performed for better exploring the problem, and typical machine learning training practices are conducted, for example, cross-validation/early stopping for hyperparameter tuning.\n",
    "\n",
    "## Part 1. Unsupervised problem:\n",
    "**DataSet 1:** demographics data for customers of a mail-order sales company in Germany. <br>\n",
    "name: Udacity_CUSTOMERS_052018.csv <br>\n",
    "size: (191652, 369) <br>\n",
    "\n",
    "**DataSet 2:** demographics information for the general population name: Udacity_AZDIAS_052018.csv <br>\n",
    "Size: (891211, 366) <br>\n",
    "## Part 2. Supervised problem:\n",
    "**DataSet 3 (Training set):** demographics data for individuals who were targets of a marketing campaign; <br>\n",
    "name: Udacity_MAILOUT_052018_TRAIN.csv, <br>\n",
    "(42982, 367) <br>\n",
    "\n",
    "**Data Set 4 (Test set):** demographics data for individuals who were targets of a marketing campaign <br>\n",
    "name: Udacity_MAILOUT_052018_TEST.csv <br>\n",
    "size: (42833, 366)<br>\n",
    "\n",
    "**Note:** there are three extra columns in **DataSet 1**; and **DataSet 3** in supervised problem has a \"RESPONSE\" column."
   ]
  },
  {
   "cell_type": "markdown",
   "metadata": {},
   "source": [
    "<a id=\"table\"><br>\n",
    "### [Table]:  \n",
    "#### [Part 0: explore the data](#part-0) \n",
    "#### [Part 1: PCA and KMeans clustering](#part-1) \n",
    "##### [Part 1.1: PCA: PCA1](#part-1.1) \n",
    "##### [Part 1.2: revisit PCA: PCA2](#part-1.2) \n",
    "#### [Part 2: Supervised learning](#part-2)\n",
    "##### [Part 2.1: data preprocess](#part-2-step1)\n",
    "##### [Legacy: modelling using PCA1](#part-2-PCA1)\n",
    "##### [Part 2.2: Apply PCA and train a classifier](#part-2-step2)\n",
    "    2.2.1 apply new PCA\n",
    "    2.2.2  XGB\n",
    "    2.2.3. XGB with calibration\n",
    "    2.2.4. Another random forest\n",
    "    2.2.5. Logistic regression\n",
    "    2.2.6. Other attempts    \n",
    "#### [Part 3: Kaggle competition](#part-3)\n",
    "</a></br>"
   ]
  },
  {
   "cell_type": "code",
   "execution_count": 1,
   "metadata": {},
   "outputs": [],
   "source": [
    "# import libraries here; add more as necessary\n",
    "import numpy as np\n",
    "import pandas as pd\n",
    "import matplotlib.pyplot as plt\n",
    "import seaborn as sns\n",
    "\n",
    "# magic word for producing visualizations in notebook\n",
    "%matplotlib inline"
   ]
  },
  {
   "cell_type": "code",
   "execution_count": 2,
   "metadata": {},
   "outputs": [],
   "source": [
    "# lcx:\n",
    "import gc"
   ]
  },
  {
   "cell_type": "code",
   "execution_count": 3,
   "metadata": {},
   "outputs": [
    {
     "name": "stdout",
     "output_type": "stream",
     "text": [
      "3.6.3 | packaged by conda-forge | (default, Dec  9 2017, 04:28:46) \n",
      "[GCC 4.8.2 20140120 (Red Hat 4.8.2-15)]\n",
      "['', '/opt/spark-2.4.3-bin-hadoop2.7/python', '/opt/spark-2.4.3-bin-hadoop2.7/python/lib/py4j-0.10.7-src.zip', '/home/workspace', '/opt/conda/lib/python36.zip', '/opt/conda/lib/python3.6', '/opt/conda/lib/python3.6/lib-dynload', '/opt/conda/lib/python3.6/site-packages', '/opt/conda/lib/python3.6/site-packages/Mako-1.0.7-py3.6.egg', '/opt/conda/lib/python3.6/site-packages/cycler-0.10.0-py3.6.egg', '/opt/conda/lib/python3.6/site-packages/torchvision-0.2.1-py3.6.egg', '/opt/conda/lib/python3.6/site-packages/IPython/extensions', '/root/.ipython']\n"
     ]
    }
   ],
   "source": [
    "import sys\n",
    "print(sys.version)\n",
    "print(sys.path)"
   ]
  },
  {
   "cell_type": "code",
   "execution_count": 4,
   "metadata": {},
   "outputs": [],
   "source": [
    "%load_ext autoreload\n",
    "%autoreload 2"
   ]
  },
  {
   "cell_type": "code",
   "execution_count": 5,
   "metadata": {},
   "outputs": [],
   "source": [
    "# import some helper functions\n",
    "sys.path.insert(0, \"./helper_functions/\")"
   ]
  },
  {
   "cell_type": "markdown",
   "metadata": {},
   "source": [
    "<a id=\"part-0\"><br>\n",
    "    \n",
    "## Part 0: Get to Know the Data\n",
    "</a></br> Go to [Table](#table)<br>\n",
    "\n",
    "There are four data files associated with this project:\n",
    "\n",
    "- `Udacity_AZDIAS_052018.csv`: Demographics data for the general population of Germany; 891 211 persons (rows) x 366 features (columns).\n",
    "- `Udacity_CUSTOMERS_052018.csv`: Demographics data for customers of a mail-order company; 191 652 persons (rows) x 369 features (columns).\n",
    "- `Udacity_MAILOUT_052018_TRAIN.csv`: Demographics data for individuals who were targets of a marketing campaign; 42 982 persons (rows) x 367 (columns).\n",
    "- `Udacity_MAILOUT_052018_TEST.csv`: Demographics data for individuals who were targets of a marketing campaign; 42 833 persons (rows) x 366 (columns).\n",
    "\n",
    "Each row of the demographics files represents a single person, but also includes information outside of individuals, including information about their household, building, and neighborhood. **Use the information from the first two files to figure out how customers (\"CUSTOMERS\") are similar to or differ from the general population at large (\"AZDIAS\"), then use your analysis to make predictions on the other two files (\"MAILOUT\"), predicting which recipients are most likely to become a customer for the mail-order company.**\n",
    "\n",
    "The \"CUSTOMERS\" file contains three extra columns ('CUSTOMER_GROUP', 'ONLINE_PURCHASE', and 'PRODUCT_GROUP'), which provide broad information about the customers depicted in the file. The original \"MAILOUT\" file included one additional column, \"RESPONSE\", which indicated whether or not each recipient became a customer of the company. For the \"TRAIN\" subset, this column has been retained, but in the \"TEST\" subset it has been removed; it is against that withheld column that your final predictions will be assessed in the Kaggle competition.\n",
    "\n",
    "Otherwise, all of the remaining columns are the same between the three data files. For more information about the columns depicted in the files, you can refer to two Excel spreadsheets provided in the workspace. [One of them](./DIAS Information Levels - Attributes 2017.xlsx) is a top-level list of attributes and descriptions, organized by informational category. [The other](./DIAS Attributes - Values 2017.xlsx) is a detailed mapping of data values for each feature in alphabetical order."
   ]
  },
  {
   "cell_type": "code",
   "execution_count": 6,
   "metadata": {},
   "outputs": [
    {
     "name": "stderr",
     "output_type": "stream",
     "text": [
      "/opt/conda/lib/python3.6/site-packages/IPython/core/interactiveshell.py:2785: DtypeWarning: Columns (18,19) have mixed types. Specify dtype option on import or set low_memory=False.\n",
      "  interactivity=interactivity, compiler=compiler, result=result)\n"
     ]
    }
   ],
   "source": [
    "# load in the data\n",
    "azdias = pd.read_csv('../../data/Term2/capstone/arvato_data/Udacity_AZDIAS_052018.csv', sep=';')\n",
    "customers = pd.read_csv('../../data/Term2/capstone/arvato_data/Udacity_CUSTOMERS_052018.csv', sep=';')"
   ]
  },
  {
   "cell_type": "code",
   "execution_count": null,
   "metadata": {},
   "outputs": [],
   "source": [
    "# Be sure to add in a lot more cells (both markdown and code) to document your\n",
    "# approach and findings!"
   ]
  },
  {
   "cell_type": "markdown",
   "metadata": {},
   "source": [
    "### Check the missing data, column-wise and row-wise"
   ]
  },
  {
   "cell_type": "code",
   "execution_count": 24,
   "metadata": {},
   "outputs": [],
   "source": [
    "def miss_data_check_col(df):\n",
    "    # pandas.core.series.Series\n",
    "    col_nan = df.isnull().sum()/df.shape[0]\n",
    "    print('Columns with null values:' )\n",
    "    #print('\\n'.join('{:6.2f}'.format(val) for val in col_nan.values))\n",
    "    print(\"-\"*10)\n",
    "    print('Columns null values histogram:\\n')\n",
    "    fig, ax = plt.subplots(figsize=(8,6))\n",
    "    ax = col_nan.hist(bins=np.arange(11)*0.1)\n",
    "    ax.set_xlabel(\"Missing value percentage\")\n",
    "    ax.set_ylabel(\"Numbers of columns\")\n",
    "    return col_nan"
   ]
  },
  {
   "cell_type": "code",
   "execution_count": 25,
   "metadata": {},
   "outputs": [
    {
     "name": "stdout",
     "output_type": "stream",
     "text": [
      "Columns with null values:\n",
      "----------\n",
      "Columns null values histogram:\n",
      "\n"
     ]
    },
    {
     "data": {
      "image/png": "[encoded data removed]",
      "text/plain": [
       "<matplotlib.figure.Figure at 0x7f24035e0ac8>"
      ]
     },
     "metadata": {
      "needs_background": "light"
     },
     "output_type": "display_data"
    }
   ],
   "source": [
    "col_nan = miss_data_check_col(customers)\n",
    "plt.savefig(\"missing_value_column_wise.pdf\")"
   ]
  },
  {
   "cell_type": "code",
   "execution_count": 23,
   "metadata": {},
   "outputs": [
    {
     "data": {
      "text/plain": [
       "ALTER_KIND1    0.938607\n",
       "ALTER_KIND2    0.973389\n",
       "ALTER_KIND3    0.993347\n",
       "ALTER_KIND4    0.998769\n",
       "dtype: float64"
      ]
     },
     "execution_count": 23,
     "metadata": {},
     "output_type": "execute_result"
    }
   ],
   "source": [
    "col_nan[col_nan > 0.6]"
   ]
  },
  {
   "cell_type": "code",
   "execution_count": 27,
   "metadata": {},
   "outputs": [
    {
     "data": {
      "text/plain": [
       "ALTER_KIND1     0.938607\n",
       "ALTER_KIND2     0.973389\n",
       "ALTER_KIND3     0.993347\n",
       "ALTER_KIND4     0.998769\n",
       "EXTSEL992       0.444989\n",
       "KK_KUNDENTYP    0.584064\n",
       "dtype: float64"
      ]
     },
     "execution_count": 27,
     "metadata": {},
     "output_type": "execute_result"
    }
   ],
   "source": [
    "col_nan[col_nan > 0.4]"
   ]
  },
  {
   "cell_type": "code",
   "execution_count": 36,
   "metadata": {
    "collapsed": true
   },
   "outputs": [
    {
     "data": {
      "text/plain": [
       "ALTER_KIND4                  0.998769\n",
       "ALTER_KIND3                  0.993347\n",
       "ALTER_KIND2                  0.973389\n",
       "ALTER_KIND1                  0.938607\n",
       "KK_KUNDENTYP                 0.584064\n",
       "EXTSEL992                    0.444989\n",
       "KBA05_SEG7                   0.292092\n",
       "KBA05_KW1                    0.292092\n",
       "KBA05_SEG4                   0.292092\n",
       "KBA05_SEG5                   0.292092\n",
       "KBA05_SEG6                   0.292092\n",
       "KBA05_MAXAH                  0.292092\n",
       "KBA05_SEG8                   0.292092\n",
       "KBA05_KW2                    0.292092\n",
       "KBA05_VORB0                  0.292092\n",
       "KBA05_KRSZUL                 0.292092\n",
       "KBA05_VORB1                  0.292092\n",
       "KBA05_KRSVAN                 0.292092\n",
       "KBA05_KRSOBER                0.292092\n",
       "KBA05_SEG9                   0.292092\n",
       "MOBI_REGIO                   0.292092\n",
       "KBA05_KW3                    0.292092\n",
       "KBA05_SEG3                   0.292092\n",
       "KBA05_KRSHERST3              0.292092\n",
       "KBA05_MAXBJ                  0.292092\n",
       "KBA05_MAXHERST               0.292092\n",
       "KBA05_MAXSEG                 0.292092\n",
       "KBA05_MAXVORB                0.292092\n",
       "KBA05_MOD1                   0.292092\n",
       "KBA05_MOD2                   0.292092\n",
       "                               ...   \n",
       "D19_VERSAND_ANZ_24           0.000000\n",
       "D19_SAMMELARTIKEL            0.000000\n",
       "D19_SCHUHE                   0.000000\n",
       "D19_SONSTIGE                 0.000000\n",
       "D19_TECHNIK                  0.000000\n",
       "D19_TELKO_ANZ_12             0.000000\n",
       "D19_TELKO_ANZ_24             0.000000\n",
       "D19_TELKO_DATUM              0.000000\n",
       "D19_TELKO_MOBILE             0.000000\n",
       "D19_TELKO_OFFLINE_DATUM      0.000000\n",
       "D19_TELKO_ONLINE_DATUM       0.000000\n",
       "D19_TELKO_REST               0.000000\n",
       "D19_TIERARTIKEL              0.000000\n",
       "D19_VERSAND_ANZ_12           0.000000\n",
       "D19_VERSAND_DATUM            0.000000\n",
       "FINANZ_MINIMALIST            0.000000\n",
       "D19_VERSAND_OFFLINE_DATUM    0.000000\n",
       "D19_VERSAND_ONLINE_DATUM     0.000000\n",
       "D19_VERSAND_REST             0.000000\n",
       "D19_VERSI_ANZ_12             0.000000\n",
       "D19_VERSI_ANZ_24             0.000000\n",
       "D19_VERSI_DATUM              0.000000\n",
       "D19_VERSI_OFFLINE_DATUM      0.000000\n",
       "D19_VERSI_ONLINE_DATUM       0.000000\n",
       "D19_VERSICHERUNGEN           0.000000\n",
       "D19_VOLLSORTIMENT            0.000000\n",
       "D19_WEIN_FEINKOST            0.000000\n",
       "FINANZ_ANLEGER               0.000000\n",
       "FINANZ_HAUSBAUER             0.000000\n",
       "LNR                          0.000000\n",
       "Length: 369, dtype: float64"
      ]
     },
     "execution_count": 36,
     "metadata": {},
     "output_type": "execute_result"
    }
   ],
   "source": [
    "col_nan.sort_values(ascending=False)"
   ]
  },
  {
   "cell_type": "code",
   "execution_count": 40,
   "metadata": {},
   "outputs": [],
   "source": [
    "# define a function to search the columns whose names include the keyword\n",
    "def print_col_contain_keyword(keyword, col_all):\n",
    "    #for col_name in customers.columns.tolist():\n",
    "    for col_name in col_all:\n",
    "        if keyword in col_name:\n",
    "            print(col_name)\n",
    "\n",
    "print_col_contain_keyword(\"DIGIT_SERV\", customers.columns.tolist())"
   ]
  },
  {
   "cell_type": "markdown",
   "metadata": {},
   "source": [
    "#### the type \"object\" (str) should also be taken care of\n",
    "* why they are \"object(str)\" type;\n",
    "* how should we transform them so they can be fed to the algorithm."
   ]
  },
  {
   "cell_type": "code",
   "execution_count": 45,
   "metadata": {},
   "outputs": [
    {
     "data": {
      "text/plain": [
       "CAMEO_DEU_2015              object\n",
       "CAMEO_DEUG_2015             object\n",
       "CAMEO_INTL_2015             object\n",
       "D19_LETZTER_KAUF_BRANCHE    object\n",
       "EINGEFUEGT_AM               object\n",
       "OST_WEST_KZ                 object\n",
       "PRODUCT_GROUP               object\n",
       "CUSTOMER_GROUP              object\n",
       "dtype: object"
      ]
     },
     "execution_count": 45,
     "metadata": {},
     "output_type": "execute_result"
    }
   ],
   "source": [
    "col_types = customers.dtypes\n",
    "\n",
    "col_types[col_types == object]"
   ]
  },
  {
   "cell_type": "code",
   "execution_count": 47,
   "metadata": {},
   "outputs": [
    {
     "data": {
      "text/html": [
       "<div>\n",
       "<style scoped>\n",
       "    .dataframe tbody tr th:only-of-type {\n",
       "        vertical-align: middle;\n",
       "    }\n",
       "\n",
       "    .dataframe tbody tr th {\n",
       "        vertical-align: top;\n",
       "    }\n",
       "\n",
       "    .dataframe thead th {\n",
       "        text-align: right;\n",
       "    }\n",
       "</style>\n",
       "<table border=\"1\" class=\"dataframe\">\n",
       "  <thead>\n",
       "    <tr style=\"text-align: right;\">\n",
       "      <th></th>\n",
       "      <th>CAMEO_DEU_2015</th>\n",
       "      <th>CAMEO_DEUG_2015</th>\n",
       "      <th>CAMEO_INTL_2015</th>\n",
       "      <th>D19_LETZTER_KAUF_BRANCHE</th>\n",
       "      <th>EINGEFUEGT_AM</th>\n",
       "      <th>OST_WEST_KZ</th>\n",
       "      <th>PRODUCT_GROUP</th>\n",
       "      <th>CUSTOMER_GROUP</th>\n",
       "    </tr>\n",
       "  </thead>\n",
       "  <tbody>\n",
       "    <tr>\n",
       "      <th>0</th>\n",
       "      <td>1A</td>\n",
       "      <td>1</td>\n",
       "      <td>13</td>\n",
       "      <td>D19_UNBEKANNT</td>\n",
       "      <td>1992-02-12 00:00:00</td>\n",
       "      <td>W</td>\n",
       "      <td>COSMETIC_AND_FOOD</td>\n",
       "      <td>MULTI_BUYER</td>\n",
       "    </tr>\n",
       "    <tr>\n",
       "      <th>1</th>\n",
       "      <td>NaN</td>\n",
       "      <td>NaN</td>\n",
       "      <td>NaN</td>\n",
       "      <td>D19_BANKEN_GROSS</td>\n",
       "      <td>NaN</td>\n",
       "      <td>NaN</td>\n",
       "      <td>FOOD</td>\n",
       "      <td>SINGLE_BUYER</td>\n",
       "    </tr>\n",
       "    <tr>\n",
       "      <th>2</th>\n",
       "      <td>5D</td>\n",
       "      <td>5</td>\n",
       "      <td>34</td>\n",
       "      <td>D19_UNBEKANNT</td>\n",
       "      <td>1992-02-10 00:00:00</td>\n",
       "      <td>W</td>\n",
       "      <td>COSMETIC_AND_FOOD</td>\n",
       "      <td>MULTI_BUYER</td>\n",
       "    </tr>\n",
       "    <tr>\n",
       "      <th>3</th>\n",
       "      <td>4C</td>\n",
       "      <td>4</td>\n",
       "      <td>24</td>\n",
       "      <td>D19_NAHRUNGSERGAENZUNG</td>\n",
       "      <td>1992-02-10 00:00:00</td>\n",
       "      <td>W</td>\n",
       "      <td>COSMETIC</td>\n",
       "      <td>MULTI_BUYER</td>\n",
       "    </tr>\n",
       "  </tbody>\n",
       "</table>\n",
       "</div>"
      ],
      "text/plain": [
       "  CAMEO_DEU_2015 CAMEO_DEUG_2015 CAMEO_INTL_2015 D19_LETZTER_KAUF_BRANCHE  \\\n",
       "0             1A               1              13            D19_UNBEKANNT   \n",
       "1            NaN             NaN             NaN         D19_BANKEN_GROSS   \n",
       "2             5D               5              34            D19_UNBEKANNT   \n",
       "3             4C               4              24   D19_NAHRUNGSERGAENZUNG   \n",
       "\n",
       "         EINGEFUEGT_AM OST_WEST_KZ      PRODUCT_GROUP CUSTOMER_GROUP  \n",
       "0  1992-02-12 00:00:00           W  COSMETIC_AND_FOOD    MULTI_BUYER  \n",
       "1                  NaN         NaN               FOOD   SINGLE_BUYER  \n",
       "2  1992-02-10 00:00:00           W  COSMETIC_AND_FOOD    MULTI_BUYER  \n",
       "3  1992-02-10 00:00:00           W           COSMETIC    MULTI_BUYER  "
      ]
     },
     "execution_count": 47,
     "metadata": {},
     "output_type": "execute_result"
    }
   ],
   "source": [
    "col_obj_type = col_types[col_types == object].index.tolist()\n",
    "customers[col_obj_type].head(4)"
   ]
  },
  {
   "cell_type": "code",
   "execution_count": 50,
   "metadata": {},
   "outputs": [
    {
     "name": "stdout",
     "output_type": "stream",
     "text": [
      "['1A' nan '5D' '4C' '7B' '3B' '1D' '9E' '2D' '4A' '6B' '9D' '8B' '5C' '9C'\n",
      " '4E' '6C' '8C' '8A' '5B' '9B' '3D' '2A' '3C' '5F' '7A' '1E' '2C' '7C' '5A'\n",
      " '2B' '6D' '7E' '5E' '6E' '3A' '9A' '4B' '1C' '1B' '6A' '8D' '7D' '6F' '4D'\n",
      " 'XX']\n",
      "[1.0 nan 5.0 4.0 7.0 3.0 9.0 2.0 6.0 8.0 '6' '3' '8' '9' '2' '4' '1' '7'\n",
      " '5' 'X']\n",
      "[13.0 nan 34.0 24.0 41.0 23.0 15.0 55.0 14.0 22.0 43.0 51.0 33.0 25.0 44.0\n",
      " 54.0 32.0 12.0 35.0 31.0 45.0 52.0 '45' '25' '55' '51' '14' '54' '43' '22'\n",
      " '15' '24' '35' '23' '12' '44' '41' '52' '31' '13' '34' '32' '33' 'XX']\n"
     ]
    }
   ],
   "source": [
    "# this group may be useful, but need to fix the data\n",
    "\n",
    "# this one may be difficult to deal with? one-hot-encoding? or maybe just delete?\n",
    "print(customers[\"CAMEO_DEU_2015\"].unique())\n",
    "\n",
    "# For this, fix the nan and x. And they can be numerical values, no need to one-hot-encoding\n",
    "print(customers[\"CAMEO_DEUG_2015\"].unique())\n",
    "\n",
    "# For this, fix the nan and x. And they can be numerical values, no need to one-hot-encoding\n",
    "print(customers[\"CAMEO_INTL_2015\"].unique())"
   ]
  },
  {
   "cell_type": "code",
   "execution_count": 35,
   "metadata": {},
   "outputs": [
    {
     "data": {
      "text/plain": [
       "array([ nan,   2.,   5.,   4.,   1.,   3.,   6.])"
      ]
     },
     "execution_count": 35,
     "metadata": {},
     "output_type": "execute_result"
    }
   ],
   "source": [
    "customers[\"KK_KUNDENTYP\"].unique()\n",
    "\n",
    "# should we impute the missing value? If we will use xgboost, this should not be a problem\n",
    "\n",
    "# According to the DIAS excel, unkown values will be -1"
   ]
  },
  {
   "cell_type": "code",
   "execution_count": 6,
   "metadata": {},
   "outputs": [],
   "source": [
    "# histogram of a selected column\n",
    "\n",
    "def col_hist_plot(df, col_name, **kw):\n",
    "    \n",
    "    #ax=plt.subplots(figsize=(6,3))\n",
    "    print(\"unique valus in colmn: \", customers[\"KK_KUNDENTYP\"].unique())\n",
    "    \n",
    "    # get data by column_name and display a histogram\n",
    "    if \"bins\" in kw:\n",
    "        df[col_name].hist(bins = bins)\n",
    "    else:\n",
    "        df[col_name].hist()\n",
    "        \n",
    "    title=\"Histogram of \" + col_name\n",
    "    plt.title(title, fontsize=12)\n",
    "    plt.show()"
   ]
  },
  {
   "cell_type": "code",
   "execution_count": 7,
   "metadata": {},
   "outputs": [
    {
     "name": "stdout",
     "output_type": "stream",
     "text": [
      "unique valus in colmn:  [ nan   2.   5.   4.   1.   3.   6.]\n"
     ]
    },
    {
     "data": {
      "image/png": "[encoded data removed]",
      "text/plain": [
       "<matplotlib.figure.Figure at 0x7fdf2d92cda0>"
      ]
     },
     "metadata": {
      "needs_background": "light"
     },
     "output_type": "display_data"
    }
   ],
   "source": [
    "col_hist_plot(customers, 'KK_KUNDENTYP')"
   ]
  },
  {
   "cell_type": "code",
   "execution_count": 26,
   "metadata": {},
   "outputs": [
    {
     "data": {
      "text/html": [
       "<div>\n",
       "<style scoped>\n",
       "    .dataframe tbody tr th:only-of-type {\n",
       "        vertical-align: middle;\n",
       "    }\n",
       "\n",
       "    .dataframe tbody tr th {\n",
       "        vertical-align: top;\n",
       "    }\n",
       "\n",
       "    .dataframe thead th {\n",
       "        text-align: right;\n",
       "    }\n",
       "</style>\n",
       "<table border=\"1\" class=\"dataframe\">\n",
       "  <thead>\n",
       "    <tr style=\"text-align: right;\">\n",
       "      <th></th>\n",
       "      <th>LNR</th>\n",
       "      <th>AGER_TYP</th>\n",
       "      <th>AKT_DAT_KL</th>\n",
       "      <th>ALTER_HH</th>\n",
       "      <th>ALTER_KIND1</th>\n",
       "      <th>ALTER_KIND2</th>\n",
       "      <th>ALTER_KIND3</th>\n",
       "      <th>ALTER_KIND4</th>\n",
       "      <th>ALTERSKATEGORIE_FEIN</th>\n",
       "      <th>ANZ_HAUSHALTE_AKTIV</th>\n",
       "      <th>...</th>\n",
       "      <th>VK_DHT4A</th>\n",
       "      <th>VK_DISTANZ</th>\n",
       "      <th>VK_ZG11</th>\n",
       "      <th>W_KEIT_KIND_HH</th>\n",
       "      <th>WOHNDAUER_2008</th>\n",
       "      <th>WOHNLAGE</th>\n",
       "      <th>ZABEOTYP</th>\n",
       "      <th>ONLINE_PURCHASE</th>\n",
       "      <th>ANREDE_KZ</th>\n",
       "      <th>ALTERSKATEGORIE_GROB</th>\n",
       "    </tr>\n",
       "  </thead>\n",
       "  <tbody>\n",
       "    <tr>\n",
       "      <th>count</th>\n",
       "      <td>191652.000000</td>\n",
       "      <td>191652.000000</td>\n",
       "      <td>145056.000000</td>\n",
       "      <td>145056.000000</td>\n",
       "      <td>11766.000000</td>\n",
       "      <td>5100.000000</td>\n",
       "      <td>1275.000000</td>\n",
       "      <td>236.000000</td>\n",
       "      <td>139810.000000</td>\n",
       "      <td>141725.000000</td>\n",
       "      <td>...</td>\n",
       "      <td>143781.000000</td>\n",
       "      <td>143781.000000</td>\n",
       "      <td>143781.000000</td>\n",
       "      <td>137910.000000</td>\n",
       "      <td>145056.000000</td>\n",
       "      <td>141725.000000</td>\n",
       "      <td>191652.000000</td>\n",
       "      <td>191652.000000</td>\n",
       "      <td>191652.000000</td>\n",
       "      <td>191652.000000</td>\n",
       "    </tr>\n",
       "    <tr>\n",
       "      <th>mean</th>\n",
       "      <td>95826.500000</td>\n",
       "      <td>0.344359</td>\n",
       "      <td>1.747525</td>\n",
       "      <td>11.352009</td>\n",
       "      <td>12.337243</td>\n",
       "      <td>13.672353</td>\n",
       "      <td>14.647059</td>\n",
       "      <td>15.377119</td>\n",
       "      <td>10.331579</td>\n",
       "      <td>4.965863</td>\n",
       "      <td>...</td>\n",
       "      <td>4.374417</td>\n",
       "      <td>4.564769</td>\n",
       "      <td>3.168868</td>\n",
       "      <td>4.152716</td>\n",
       "      <td>8.646371</td>\n",
       "      <td>3.723133</td>\n",
       "      <td>2.576806</td>\n",
       "      <td>0.090247</td>\n",
       "      <td>1.376432</td>\n",
       "      <td>3.060907</td>\n",
       "    </tr>\n",
       "    <tr>\n",
       "      <th>std</th>\n",
       "      <td>55325.311233</td>\n",
       "      <td>1.391672</td>\n",
       "      <td>1.966334</td>\n",
       "      <td>6.275026</td>\n",
       "      <td>4.006050</td>\n",
       "      <td>3.243335</td>\n",
       "      <td>2.753787</td>\n",
       "      <td>2.307653</td>\n",
       "      <td>4.134828</td>\n",
       "      <td>14.309694</td>\n",
       "      <td>...</td>\n",
       "      <td>2.924355</td>\n",
       "      <td>2.887035</td>\n",
       "      <td>2.233516</td>\n",
       "      <td>1.974375</td>\n",
       "      <td>1.154001</td>\n",
       "      <td>2.095540</td>\n",
       "      <td>1.168486</td>\n",
       "      <td>0.286536</td>\n",
       "      <td>0.484492</td>\n",
       "      <td>1.086254</td>\n",
       "    </tr>\n",
       "    <tr>\n",
       "      <th>min</th>\n",
       "      <td>1.000000</td>\n",
       "      <td>-1.000000</td>\n",
       "      <td>1.000000</td>\n",
       "      <td>0.000000</td>\n",
       "      <td>2.000000</td>\n",
       "      <td>2.000000</td>\n",
       "      <td>5.000000</td>\n",
       "      <td>8.000000</td>\n",
       "      <td>0.000000</td>\n",
       "      <td>0.000000</td>\n",
       "      <td>...</td>\n",
       "      <td>1.000000</td>\n",
       "      <td>1.000000</td>\n",
       "      <td>1.000000</td>\n",
       "      <td>0.000000</td>\n",
       "      <td>1.000000</td>\n",
       "      <td>0.000000</td>\n",
       "      <td>1.000000</td>\n",
       "      <td>0.000000</td>\n",
       "      <td>1.000000</td>\n",
       "      <td>1.000000</td>\n",
       "    </tr>\n",
       "    <tr>\n",
       "      <th>25%</th>\n",
       "      <td>47913.750000</td>\n",
       "      <td>-1.000000</td>\n",
       "      <td>1.000000</td>\n",
       "      <td>8.000000</td>\n",
       "      <td>9.000000</td>\n",
       "      <td>11.000000</td>\n",
       "      <td>13.000000</td>\n",
       "      <td>14.000000</td>\n",
       "      <td>9.000000</td>\n",
       "      <td>1.000000</td>\n",
       "      <td>...</td>\n",
       "      <td>2.000000</td>\n",
       "      <td>2.000000</td>\n",
       "      <td>1.000000</td>\n",
       "      <td>2.000000</td>\n",
       "      <td>9.000000</td>\n",
       "      <td>2.000000</td>\n",
       "      <td>1.000000</td>\n",
       "      <td>0.000000</td>\n",
       "      <td>1.000000</td>\n",
       "      <td>3.000000</td>\n",
       "    </tr>\n",
       "    <tr>\n",
       "      <th>50%</th>\n",
       "      <td>95826.500000</td>\n",
       "      <td>0.000000</td>\n",
       "      <td>1.000000</td>\n",
       "      <td>11.000000</td>\n",
       "      <td>13.000000</td>\n",
       "      <td>14.000000</td>\n",
       "      <td>15.000000</td>\n",
       "      <td>16.000000</td>\n",
       "      <td>10.000000</td>\n",
       "      <td>1.000000</td>\n",
       "      <td>...</td>\n",
       "      <td>4.000000</td>\n",
       "      <td>4.000000</td>\n",
       "      <td>3.000000</td>\n",
       "      <td>5.000000</td>\n",
       "      <td>9.000000</td>\n",
       "      <td>3.000000</td>\n",
       "      <td>3.000000</td>\n",
       "      <td>0.000000</td>\n",
       "      <td>1.000000</td>\n",
       "      <td>3.000000</td>\n",
       "    </tr>\n",
       "    <tr>\n",
       "      <th>75%</th>\n",
       "      <td>143739.250000</td>\n",
       "      <td>2.000000</td>\n",
       "      <td>1.000000</td>\n",
       "      <td>16.000000</td>\n",
       "      <td>16.000000</td>\n",
       "      <td>16.000000</td>\n",
       "      <td>17.000000</td>\n",
       "      <td>17.000000</td>\n",
       "      <td>13.000000</td>\n",
       "      <td>4.000000</td>\n",
       "      <td>...</td>\n",
       "      <td>7.000000</td>\n",
       "      <td>7.000000</td>\n",
       "      <td>4.000000</td>\n",
       "      <td>6.000000</td>\n",
       "      <td>9.000000</td>\n",
       "      <td>5.000000</td>\n",
       "      <td>3.000000</td>\n",
       "      <td>0.000000</td>\n",
       "      <td>2.000000</td>\n",
       "      <td>4.000000</td>\n",
       "    </tr>\n",
       "    <tr>\n",
       "      <th>max</th>\n",
       "      <td>191652.000000</td>\n",
       "      <td>3.000000</td>\n",
       "      <td>9.000000</td>\n",
       "      <td>21.000000</td>\n",
       "      <td>18.000000</td>\n",
       "      <td>18.000000</td>\n",
       "      <td>18.000000</td>\n",
       "      <td>18.000000</td>\n",
       "      <td>25.000000</td>\n",
       "      <td>523.000000</td>\n",
       "      <td>...</td>\n",
       "      <td>11.000000</td>\n",
       "      <td>13.000000</td>\n",
       "      <td>11.000000</td>\n",
       "      <td>6.000000</td>\n",
       "      <td>9.000000</td>\n",
       "      <td>8.000000</td>\n",
       "      <td>6.000000</td>\n",
       "      <td>1.000000</td>\n",
       "      <td>2.000000</td>\n",
       "      <td>9.000000</td>\n",
       "    </tr>\n",
       "  </tbody>\n",
       "</table>\n",
       "<p>8 rows × 361 columns</p>\n",
       "</div>"
      ],
      "text/plain": [
       "                 LNR       AGER_TYP     AKT_DAT_KL       ALTER_HH  \\\n",
       "count  191652.000000  191652.000000  145056.000000  145056.000000   \n",
       "mean    95826.500000       0.344359       1.747525      11.352009   \n",
       "std     55325.311233       1.391672       1.966334       6.275026   \n",
       "min         1.000000      -1.000000       1.000000       0.000000   \n",
       "25%     47913.750000      -1.000000       1.000000       8.000000   \n",
       "50%     95826.500000       0.000000       1.000000      11.000000   \n",
       "75%    143739.250000       2.000000       1.000000      16.000000   \n",
       "max    191652.000000       3.000000       9.000000      21.000000   \n",
       "\n",
       "        ALTER_KIND1  ALTER_KIND2  ALTER_KIND3  ALTER_KIND4  \\\n",
       "count  11766.000000  5100.000000  1275.000000   236.000000   \n",
       "mean      12.337243    13.672353    14.647059    15.377119   \n",
       "std        4.006050     3.243335     2.753787     2.307653   \n",
       "min        2.000000     2.000000     5.000000     8.000000   \n",
       "25%        9.000000    11.000000    13.000000    14.000000   \n",
       "50%       13.000000    14.000000    15.000000    16.000000   \n",
       "75%       16.000000    16.000000    17.000000    17.000000   \n",
       "max       18.000000    18.000000    18.000000    18.000000   \n",
       "\n",
       "       ALTERSKATEGORIE_FEIN  ANZ_HAUSHALTE_AKTIV          ...           \\\n",
       "count         139810.000000        141725.000000          ...            \n",
       "mean              10.331579             4.965863          ...            \n",
       "std                4.134828            14.309694          ...            \n",
       "min                0.000000             0.000000          ...            \n",
       "25%                9.000000             1.000000          ...            \n",
       "50%               10.000000             1.000000          ...            \n",
       "75%               13.000000             4.000000          ...            \n",
       "max               25.000000           523.000000          ...            \n",
       "\n",
       "            VK_DHT4A     VK_DISTANZ        VK_ZG11  W_KEIT_KIND_HH  \\\n",
       "count  143781.000000  143781.000000  143781.000000   137910.000000   \n",
       "mean        4.374417       4.564769       3.168868        4.152716   \n",
       "std         2.924355       2.887035       2.233516        1.974375   \n",
       "min         1.000000       1.000000       1.000000        0.000000   \n",
       "25%         2.000000       2.000000       1.000000        2.000000   \n",
       "50%         4.000000       4.000000       3.000000        5.000000   \n",
       "75%         7.000000       7.000000       4.000000        6.000000   \n",
       "max        11.000000      13.000000      11.000000        6.000000   \n",
       "\n",
       "       WOHNDAUER_2008       WOHNLAGE       ZABEOTYP  ONLINE_PURCHASE  \\\n",
       "count   145056.000000  141725.000000  191652.000000    191652.000000   \n",
       "mean         8.646371       3.723133       2.576806         0.090247   \n",
       "std          1.154001       2.095540       1.168486         0.286536   \n",
       "min          1.000000       0.000000       1.000000         0.000000   \n",
       "25%          9.000000       2.000000       1.000000         0.000000   \n",
       "50%          9.000000       3.000000       3.000000         0.000000   \n",
       "75%          9.000000       5.000000       3.000000         0.000000   \n",
       "max          9.000000       8.000000       6.000000         1.000000   \n",
       "\n",
       "           ANREDE_KZ  ALTERSKATEGORIE_GROB  \n",
       "count  191652.000000         191652.000000  \n",
       "mean        1.376432              3.060907  \n",
       "std         0.484492              1.086254  \n",
       "min         1.000000              1.000000  \n",
       "25%         1.000000              3.000000  \n",
       "50%         1.000000              3.000000  \n",
       "75%         2.000000              4.000000  \n",
       "max         2.000000              9.000000  \n",
       "\n",
       "[8 rows x 361 columns]"
      ]
     },
     "execution_count": 26,
     "metadata": {},
     "output_type": "execute_result"
    }
   ],
   "source": [
    "customers.describe()"
   ]
  },
  {
   "cell_type": "code",
   "execution_count": 28,
   "metadata": {},
   "outputs": [
    {
     "data": {
      "text/plain": [
       "(191652, 369)"
      ]
     },
     "execution_count": 28,
     "metadata": {},
     "output_type": "execute_result"
    }
   ],
   "source": [
    "customers.shape"
   ]
  },
  {
   "cell_type": "markdown",
   "metadata": {},
   "source": [
    "#### check Row with too many missing value"
   ]
  },
  {
   "cell_type": "code",
   "execution_count": 22,
   "metadata": {},
   "outputs": [],
   "source": [
    "def miss_data_check_row(df):\n",
    "    # all a column to indicate the number of missing values\n",
    "    df[\"missing_value\"] = df.isnull().sum(axis=1)/df.shape[1]\n",
    "    \n",
    "    #print('row with null values:' )\n",
    "    #print('\\n'.join('{:6.2f}'.format(val) for val in col_nan.values))\n",
    "    print(\"-\"*10)\n",
    "    print('Row null values histogram:\\n')\n",
    "    fig, ax = plt.subplots(figsize=(8,6))\n",
    "    df[\"missing_value\"].hist(bins=np.arange(11)*0.1, ax=ax)\n",
    "    ax.set_xlabel(\"Missing value percentage\")\n",
    "    ax.set_ylabel(\"Numbers of rows\")\n",
    "    df.drop(columns = [\"missing_value\"], axis=1, inplace=True)"
   ]
  },
  {
   "cell_type": "code",
   "execution_count": 23,
   "metadata": {},
   "outputs": [
    {
     "name": "stdout",
     "output_type": "stream",
     "text": [
      "----------\n",
      "Row null values histogram:\n",
      "\n"
     ]
    },
    {
     "data": {
      "image/png": "[encoded data removed]",
      "text/plain": [
       "<matplotlib.figure.Figure at 0x7f23d5a0d278>"
      ]
     },
     "metadata": {
      "needs_background": "light"
     },
     "output_type": "display_data"
    }
   ],
   "source": [
    "miss_data_check_row(customers)\n",
    "plt.savefig(\"missing_value_row_wise.pdf\")"
   ]
  },
  {
   "cell_type": "code",
   "execution_count": 31,
   "metadata": {},
   "outputs": [
    {
     "data": {
      "text/plain": [
       "(49911, 370)"
      ]
     },
     "execution_count": 31,
     "metadata": {},
     "output_type": "execute_result"
    }
   ],
   "source": [
    "# get the number of rows that have more than 60% missing vaule\n",
    "# 60% is not a very reasonable threshold as too many \n",
    "customers[customers[\"missing_value\"] >= 0.6].shape\n",
    "\n",
    "# need to drop the \"missing_value\" column later"
   ]
  },
  {
   "cell_type": "markdown",
   "metadata": {},
   "source": [
    "### Note: \n",
    "\n",
    "* __missing value, column-wise__\n",
    "\n",
    "  1. Delete four columns that have more tha 90% missing values;\n",
    "\n",
    "  2. Delete EXTSEL992. This may be or may not be useful. The DIAS excel does not contain this variable;\n",
    "\n",
    "  3. Keep KK_KUNDENTYP, becaue \"D19_KK_KUNDENTYP\" means \"consumption movement in the last 12 months\". Guess it should be some useful information\n",
    "  \n",
    "\n",
    "* __for columns as type \"object\" (numerical value mixed with string value)__\n",
    "\n",
    "  1. \"D19_LETZTER_KAUF_BRANCHE\" \"EINGEFUEGT_AM\" \"OST_WEST_KZ\" seems unuseful, may be just delete.\n",
    "  2. Fix \"CAMEO_DEUG_2015\" and \"CAMEO_INTL_2015\".\n",
    "  3. Hard to deal with \"CAMEO_DEU_2015\" (if the oder of the values doesn't have the meaning then need to have one-hot-encoding, could create too many columns)<br>\n",
    " **Note:** \"CAMEO_xxx\" are variables representing a set of consumer classifications. <br>\n",
    "  \n",
    "\n",
    "* __missing value, row-wise__\n",
    "\n",
    "  1. Delete those rows with more than 80% missing value \n",
    "\n",
    "**All the pre-processing functions can be found in \"helper_function/preprocessing.py\"**"
   ]
  },
  {
   "cell_type": "code",
   "execution_count": 8,
   "metadata": {},
   "outputs": [],
   "source": [
    "def drop_columns(df, cols_to_drop):\n",
    "    #cols_to_drop = list(map(lambda x: \"ALTER_KIND\"+str(x), [1,2,3,4])) + [\"EXTSEL992\", \"CAMEO_DEU_2015\"]\n",
    "    return df.drop(columns = cols_to_drop, axis=1)\n",
    "    \n",
    "def remove_row(df):\n",
    "    df[\"missing_value\"] = df.isnull().sum(axis=1)/df.shape[1]\n",
    "    # use 0.6 as threshold before, maybe too much information is lost\n",
    "    df = df[df[\"missing_value\"] < 0.8]\n",
    "    return df.drop(columns = [\"missing_value\"], axis=1)\n",
    "\n",
    "def miss_data_impu(df):\n",
    "    # impute the missing value with -1, \n",
    "    # according to the data attribute table, this should be a reasonable starting approach\n",
    "    df.fillna(-1, inplace=True)\n",
    "    #\n",
    "    df.loc[df[\"CAMEO_DEUG_2015\"] == \"X\", \"CAMEO_DEUG_2015\"] = -1\n",
    "    #\n",
    "    df.loc[df[\"CAMEO_INTL_2015\"] == \"XX\", \"CAMEO_INTL_2015\"] = -1\n",
    "    # convert them from mix type to int\n",
    "    return df.astype({\"KK_KUNDENTYP\": 'float', \"CAMEO_DEUG_2015\": 'float', \"CAMEO_INTL_2015\": 'float'}).\\\n",
    "    astype({\"KK_KUNDENTYP\": 'int', \"CAMEO_DEUG_2015\": 'int', \"CAMEO_INTL_2015\": 'int'})"
   ]
  },
  {
   "cell_type": "markdown",
   "metadata": {},
   "source": [
    "__Apply the drop_columns, remove_row, miss_data_impu to customer dataset and general population dataset__"
   ]
  },
  {
   "cell_type": "code",
   "execution_count": 21,
   "metadata": {},
   "outputs": [],
   "source": [
    "cols_to_drop = list(map(lambda x: \"ALTER_KIND\"+str(x), [1,2,3,4])) \\\n",
    "+ [\"EXTSEL992\", \"CAMEO_DEU_2015\"] \\\n",
    "+ [\"D19_LETZTER_KAUF_BRANCHE\", \"EINGEFUEGT_AM\", \"OST_WEST_KZ\"]\n",
    "\n",
    "# apply to customers\n",
    "customers_clean = drop_columns(customers, cols_to_drop)\n",
    "customers_clean = remove_row(customers_clean)\n",
    "customers_clean = miss_data_impu(customers_clean)\n",
    "\n",
    "# apply to the population\n",
    "azdias_clean = drop_columns(azdias, cols_to_drop)\n",
    "azdias_clean = remove_row(azdias_clean)\n",
    "azdias_clean = miss_data_impu(azdias_clean)"
   ]
  },
  {
   "cell_type": "code",
   "execution_count": 22,
   "metadata": {},
   "outputs": [],
   "source": [
    "# save the data to csv\n",
    "\n",
    "customers_clean.to_csv(\"./clean_data/customers_clean.csv\", index=False)\n",
    "\n",
    "azdias_clean.to_csv(\"./clean_data/azdias_clean.csv\", index=False)"
   ]
  },
  {
   "cell_type": "code",
   "execution_count": 23,
   "metadata": {},
   "outputs": [
    {
     "name": "stdout",
     "output_type": "stream",
     "text": [
      "(141723, 357)\n",
      "(798057, 357)\n"
     ]
    }
   ],
   "source": [
    "# drop some useless columns further for the customer dataset\n",
    "\n",
    "extra_cols = ['PRODUCT_GROUP', 'ONLINE_PURCHASE', 'CUSTOMER_GROUP']\n",
    "\n",
    "customers_clean.drop(columns=extra_cols, inplace=True)\n",
    "\n",
    "print(customers_clean.shape)\n",
    "print(azdias_clean.shape)\n",
    "\n",
    "# make sure we don't discard too many data\n",
    "# compared to the row number 191652 for customer data and 891211 for general population data, "
   ]
  },
  {
   "cell_type": "code",
   "execution_count": 24,
   "metadata": {},
   "outputs": [
    {
     "data": {
      "text/plain": [
       "Series([], dtype: object)"
      ]
     },
     "execution_count": 24,
     "metadata": {},
     "output_type": "execute_result"
    }
   ],
   "source": [
    "# double check the types of columns before using scaling\n",
    "col_types = customers_clean.dtypes\n",
    "col_types[col_types != float][col_types != int]"
   ]
  },
  {
   "cell_type": "markdown",
   "metadata": {},
   "source": [
    "### Data normalization: use a MaxAbsScaler, fitted on customer data"
   ]
  },
  {
   "cell_type": "code",
   "execution_count": null,
   "metadata": {},
   "outputs": [],
   "source": [
    "# normalize the data, using sklearn.preprocessing\n",
    "\n",
    "from sklearn import preprocessing\n",
    "\n",
    "max_abs_scaler_customer = preprocessing.MaxAbsScaler()\n",
    "\n",
    "customers_scaled = max_abs_scaler_customer.fit_transform(customers_clean)\n",
    "azdias_scaled = max_abs_scaler_customer.transform(azdias_clean)"
   ]
  },
  {
   "cell_type": "markdown",
   "metadata": {},
   "source": [
    "**save rescaler in a picke file**"
   ]
  },
  {
   "cell_type": "code",
   "execution_count": null,
   "metadata": {},
   "outputs": [],
   "source": [
    "import pickle\n",
    "\n",
    "# save rescaler in a picke file\n",
    "with open('./clean_data/scaler.pkl', 'wb') as pickle_file:\n",
    "        pickle.dump(max_abs_scaler_customer, pickle_file)"
   ]
  },
  {
   "cell_type": "markdown",
   "metadata": {},
   "source": [
    "__Note:__\n",
    "Don't apply one-hot-encoding to the categorical variables since the numbers have the meaning of order "
   ]
  },
  {
   "cell_type": "code",
   "execution_count": 26,
   "metadata": {},
   "outputs": [
    {
     "data": {
      "text/plain": [
       "(141723, 357)"
      ]
     },
     "execution_count": 26,
     "metadata": {},
     "output_type": "execute_result"
    }
   ],
   "source": [
    "customers_scaled.shape"
   ]
  },
  {
   "cell_type": "markdown",
   "metadata": {},
   "source": [
    "**save the clean data after normalization to avoid the repetition later**"
   ]
  },
  {
   "cell_type": "code",
   "execution_count": null,
   "metadata": {},
   "outputs": [],
   "source": [
    "customers_scaled = pd.DataFrame(customers_scaled,columns=customers_clean.columns)\n",
    "customers_scaled.to_csv(\"./clean_data/customers_scaled.csv\", index=False)"
   ]
  },
  {
   "cell_type": "code",
   "execution_count": null,
   "metadata": {},
   "outputs": [],
   "source": [
    "azdias_scaled = pd.DataFrame(azdias_scaled, columns=azdias_clean.columns)\n",
    "azdias_scaled.to_csv(\"./clean_data/azdias_scaled.csv\", index=False)"
   ]
  },
  {
   "cell_type": "code",
   "execution_count": null,
   "metadata": {},
   "outputs": [],
   "source": [
    "# delete some variables to release some memory\n",
    "\n",
    "customers = azdias = None\n",
    "gc.collect()"
   ]
  },
  {
   "cell_type": "markdown",
   "metadata": {},
   "source": [
    "<a id=\"part-1\"><br>\n",
    "## Part 1: Customer Segmentation Report\n",
    "</a></br> Go to [Table](#table)<br>\n",
    "The main bulk of analysis work will come in this part of the project. Here, I will use unsupervised learning techniques to describe the relationship between the demographics of the company's existing customers and the general population of Germany. By the end of this part, we are able to describe parts of the general population that are more likely to be part of the mail-order company's main customer base, and which parts of the general population are less so."
   ]
  },
  {
   "cell_type": "markdown",
   "metadata": {},
   "source": [
    "<a id=\"part-1.1\"><br>\n",
    "### Part 1.1: the first PCA (named as PCA1)\n",
    "</a></br> Go to [Table](#table)<br>"
   ]
  },
  {
   "cell_type": "code",
   "execution_count": null,
   "metadata": {},
   "outputs": [],
   "source": [
    "from sklearn.decomposition import PCA\n",
    "\n",
    "n_copmt = 100\n",
    "\n",
    "pca_population = PCA(n_components=n_copmt)\n",
    "\n",
    "pca_population.fit(azdias_scaled)"
   ]
  },
  {
   "cell_type": "markdown",
   "metadata": {},
   "source": [
    "### make the plot of explained variance"
   ]
  },
  {
   "cell_type": "code",
   "execution_count": 61,
   "metadata": {},
   "outputs": [
    {
     "data": {
      "text/plain": [
       "[<matplotlib.lines.Line2D at 0x7f5ab8b59e10>]"
      ]
     },
     "execution_count": 61,
     "metadata": {},
     "output_type": "execute_result"
    },
    {
     "data": {
      "image/png": "[encoded data removed]",
      "text/plain": [
       "<matplotlib.figure.Figure at 0x7f5ab7e99b00>"
      ]
     },
     "metadata": {
      "needs_background": "light"
     },
     "output_type": "display_data"
    }
   ],
   "source": [
    "fig, ax = plt.subplots(figsize=(16,8))\n",
    "\n",
    "explained_var_r_all = np.cumsum(pca_population.explained_variance_ratio_)\n",
    "\n",
    "ax.plot(explained_var_r_all)\n",
    "\n",
    "ax.set_title(\"Principal Component Analysis\")\n",
    "ax.set_xlabel(\"Number of components\")\n",
    "ax.set_ylabel('total percentage of variance explained')\n",
    "\n",
    "# the first 79 [0-78] components can give more than 80%: 0.80200387300360398\n",
    "# np.where(explained_var_r_all > 0.80)\n",
    "# explained_var_r_all[78]\n",
    "\n",
    "index = 78\n",
    "ax.plot(np.arange(index+1), np.ones(index+1) * explained_var_r_all[index], \"--y\")\n",
    "\n",
    "ax.plot(np.ones(10)*index, np.linspace(0, explained_var_r_all[index], 10), \"--y\")"
   ]
  },
  {
   "cell_type": "code",
   "execution_count": null,
   "metadata": {},
   "outputs": [],
   "source": []
  },
  {
   "cell_type": "code",
   "execution_count": 46,
   "metadata": {},
   "outputs": [
    {
     "name": "stdout",
     "output_type": "stream",
     "text": [
      "(798057, 100)\n",
      "(141723, 100)\n"
     ]
    }
   ],
   "source": [
    "azdias_pca = pca_population.transform(azdias_scaled)\n",
    "customers_pca = pca_population.transform(customers_scaled)\n",
    "\n",
    "print(azdias_pca.shape)\n",
    "print(customers_pca.shape)"
   ]
  },
  {
   "cell_type": "code",
   "execution_count": 48,
   "metadata": {},
   "outputs": [],
   "source": [
    "azdias_pca = pd.DataFrame(azdias_pca)\n",
    "customers_pca = pd.DataFrame(customers_pca)"
   ]
  },
  {
   "cell_type": "markdown",
   "metadata": {},
   "source": [
    "**use the first two principal components, check the data distribution**"
   ]
  },
  {
   "cell_type": "code",
   "execution_count": 57,
   "metadata": {},
   "outputs": [
    {
     "data": {
      "image/png": "[encoded data removed]",
      "text/plain": [
       "<matplotlib.figure.Figure at 0x7f5ab87b3a58>"
      ]
     },
     "metadata": {
      "needs_background": "light"
     },
     "output_type": "display_data"
    }
   ],
   "source": [
    "# use the first two columns, check the data distribution\n",
    "\n",
    "fig, ax = plt.subplots(nrows=1, ncols=3, figsize=(16,5))\n",
    "\n",
    "ax[0].plot(azdias_pca.iloc[:,0], azdias_pca.iloc[:,1], \"bo\", markerfacecolor='none')\n",
    "\n",
    "ax[1].plot(customers_pca.iloc[:,0], customers_pca.iloc[:,1], \"ro\", markerfacecolor='none')\n",
    "\n",
    "ax[2].plot(azdias_pca.iloc[:,0], azdias_pca.iloc[:,1], \"bo\", markerfacecolor='none')\n",
    "ax[2].plot(customers_pca.iloc[:,0], customers_pca.iloc[:,1], \"ro\", markerfacecolor='none')\n",
    "\n",
    "ax[0].set_title(\"Polulation\")\n",
    "ax[0].set_xlabel(\"Component 1\")\n",
    "ax[0].set_ylabel(\"Component 2\")\n",
    "ax[0].set_xlim(-5,5)\n",
    "ax[0].set_ylim(-5,5)\n",
    "\n",
    "ax[1].set_title(\"Customers\")\n",
    "ax[1].set_xlabel(\"Component 1\")\n",
    "ax[1].set_ylabel(\"Component 2\")\n",
    "ax[1].set_xlim(-5,5)\n",
    "ax[1].set_ylim(-5,5)\n",
    "\n",
    "ax[2].set_title(\"Comparison\")\n",
    "ax[2].set_xlabel(\"Component 1\")\n",
    "ax[2].set_ylabel(\"Component 2\")\n",
    "ax[2].set_xlim(-5,5)\n",
    "ax[2].set_ylim(-5,5)\n",
    "\n",
    "plt.savefig(\"A_simple_segmentation_check.pdf\")"
   ]
  },
  {
   "cell_type": "markdown",
   "metadata": {},
   "source": [
    "__Note:__\n",
    "1. This indicates the principle components (even with only the first two compoments) can be use to seperate the customers (target) from general population;\n",
    "\n",
    "2. With the priciple components, we can further use clustering as unsupervised method to identify the target customers"
   ]
  },
  {
   "cell_type": "code",
   "execution_count": 63,
   "metadata": {},
   "outputs": [
    {
     "data": {
      "text/plain": [
       "9156"
      ]
     },
     "execution_count": 63,
     "metadata": {},
     "output_type": "execute_result"
    }
   ],
   "source": [
    "### only use the first 78 \n",
    "\n",
    "azdias_pca_reduced = azdias_pca.iloc[:,0:79]\n",
    "azidia_pca = None\n",
    "\n",
    "customers_pca_reduced = customers_pca.iloc[:,0:79]\n",
    "customers_pca = None\n",
    "\n",
    "gc.collect()"
   ]
  },
  {
   "cell_type": "code",
   "execution_count": 65,
   "metadata": {},
   "outputs": [
    {
     "name": "stdout",
     "output_type": "stream",
     "text": [
      "(798057, 79)\n",
      "(141723, 79)\n"
     ]
    },
    {
     "data": {
      "text/plain": [
       "939780"
      ]
     },
     "execution_count": 65,
     "metadata": {},
     "output_type": "execute_result"
    }
   ],
   "source": [
    "print(azdias_pca_reduced.shape)\n",
    "print(customers_pca_reduced.shape)\n",
    "798057 + 141723"
   ]
  },
  {
   "cell_type": "code",
   "execution_count": 67,
   "metadata": {},
   "outputs": [
    {
     "data": {
      "text/plain": [
       "(939780, 79)"
      ]
     },
     "execution_count": 67,
     "metadata": {},
     "output_type": "execute_result"
    }
   ],
   "source": [
    "pd.concat([azdias_pca_reduced, customers_pca_reduced], axis=0).shape"
   ]
  },
  {
   "cell_type": "markdown",
   "metadata": {},
   "source": [
    "### Use Clustering"
   ]
  },
  {
   "cell_type": "code",
   "execution_count": 71,
   "metadata": {},
   "outputs": [],
   "source": [
    "#from sklearn.cluster import KMeans\n",
    "from sklearn.cluster import MiniBatchKMeans\n",
    "\n",
    "batch_size = 100000\n",
    "wcss = []\n",
    "\n",
    "# use 2-10 clusters to find the Elbow\n",
    "for i in np.arange(2, 20):\n",
    "    \n",
    "    #kmeans = KMeans(n_clusters=i, init='k-means++', max_iter=300, n_init=10, random_state=0)\n",
    "    \n",
    "    # use MiniBatchKMeans for compuatational efficiency\n",
    "    mbk = MiniBatchKMeans(init='k-means++', n_clusters=i, batch_size=batch_size, max_iter=300,\n",
    "                  n_init=5, max_no_improvement=5, verbose=0)\n",
    "    \n",
    "    # fit all the data for the clustering\n",
    "    mbk.fit(pd.concat([azdias_pca_reduced, customers_pca_reduced], axis=0))\n",
    "    \n",
    "    wcss.append(mbk.inertia_)"
   ]
  },
  {
   "cell_type": "code",
   "execution_count": 77,
   "metadata": {},
   "outputs": [
    {
     "data": {
      "image/png": "[encoded data removed]",
      "text/plain": [
       "<matplotlib.figure.Figure at 0x7f5ab8b0bef0>"
      ]
     },
     "metadata": {
      "needs_background": "light"
     },
     "output_type": "display_data"
    }
   ],
   "source": [
    "fig, ax = plt.subplots(figsize=(10,10))\n",
    "ax.plot(np.arange(2, 20), wcss, linestyle = \"--\", marker = \"o\", color = 'g')\n",
    "ax.set_title('Elbow Method')\n",
    "ax.set_xlabel('Number of clusters')\n",
    "ax.set_ylabel('WCSS')\n",
    "ax.set_xticks(ticks = np.arange(2, 20).tolist())\n",
    "plt.savefig(\"Elbow_method_clustering.pdf\")"
   ]
  },
  {
   "cell_type": "markdown",
   "metadata": {},
   "source": [
    "__Note:__\n",
    "\n",
    "Since we use MiniBatchKMeans to save the computational cost, we can see the elbow curve is not very smooth. But still, we can see n_cluster = 14 may be a reasonable choice."
   ]
  },
  {
   "cell_type": "markdown",
   "metadata": {},
   "source": [
    "### Check distribution among clusters"
   ]
  },
  {
   "cell_type": "code",
   "execution_count": 78,
   "metadata": {},
   "outputs": [],
   "source": [
    "from sklearn.cluster import KMeans\n",
    "\n",
    "kmeans = KMeans(n_clusters=14, init='k-means++', max_iter=300, n_init=10, random_state=1234)\n",
    "\n",
    "# do the prediction on the whole dataset, population data plus customer data\n",
    "clustering_results_all = kmeans.fit_predict(pd.concat([azdias_pca_reduced, customers_pca_reduced], axis=0))"
   ]
  },
  {
   "cell_type": "code",
   "execution_count": 80,
   "metadata": {},
   "outputs": [
    {
     "data": {
      "text/plain": [
       "(939780,)"
      ]
     },
     "execution_count": 80,
     "metadata": {},
     "output_type": "execute_result"
    }
   ],
   "source": [
    "clustering_results_all.shape"
   ]
  },
  {
   "cell_type": "code",
   "execution_count": 82,
   "metadata": {},
   "outputs": [],
   "source": [
    "# split the prediction result for population data plus customer data\n",
    "\n",
    "index_popul = 798057\n",
    "\n",
    "u_1, count_popul = np.unique(clustering_results_all[0:index_popul],return_counts=True)\n",
    "u_2, count_customer = np.unique(clustering_results_all[index_popul:],return_counts=True)\n"
   ]
  },
  {
   "cell_type": "code",
   "execution_count": 83,
   "metadata": {},
   "outputs": [
    {
     "name": "stdout",
     "output_type": "stream",
     "text": [
      "[ 0  1  2  3  4  5  6  7  8  9 10 11 12 13]\n",
      "[ 0  3  4  5  7  8  9 11 12]\n"
     ]
    }
   ],
   "source": [
    "# check all the clusters\n",
    "\n",
    "print(u_1)\n",
    "print(u_2)"
   ]
  },
  {
   "cell_type": "code",
   "execution_count": 86,
   "metadata": {},
   "outputs": [],
   "source": [
    "# get the percentage distribution\n",
    "\n",
    "count_popul_perc = count_popul/sum(count_popul)\n",
    "count_customer_perc = count_customer/sum(count_customer)"
   ]
  },
  {
   "cell_type": "code",
   "execution_count": 92,
   "metadata": {},
   "outputs": [
    {
     "data": {
      "text/plain": [
       "array([ 0.04062149,  0.47966808,  0.00948329,  0.00953974,  0.0344757 ,\n",
       "        0.0063363 ,  0.11380651,  0.03472266,  0.27134622])"
      ]
     },
     "execution_count": 92,
     "metadata": {},
     "output_type": "execute_result"
    }
   ],
   "source": [
    "count_customer_perc"
   ]
  },
  {
   "cell_type": "code",
   "execution_count": 89,
   "metadata": {},
   "outputs": [
    {
     "data": {
      "image/png": "[encoded data removed]",
      "text/plain": [
       "<matplotlib.figure.Figure at 0x7f5ab7a27668>"
      ]
     },
     "metadata": {
      "needs_background": "light"
     },
     "output_type": "display_data"
    }
   ],
   "source": [
    "fig, ax = plt.subplots(figsize=(10,10))\n",
    "\n",
    "width = 0.35\n",
    "\n",
    "rects1 = ax.bar(u_1 - width/2, count_popul_perc, width, label='general population')\n",
    "rects2 = ax.bar(u_2 + width/2, count_customer_perc, width, label='customers')\n",
    "\n",
    "ax.set_ylabel('Percentage')\n",
    "ax.set_xlabel('cluster')\n",
    "ax.set_title(\"Distribution among clusters\")\n",
    "ax.set_xticks(np.arange(14))\n",
    "ax.legend()\n",
    "\n",
    "plt.savefig(\"distribution_among_clusters.pdf\")"
   ]
  },
  {
   "cell_type": "markdown",
   "metadata": {},
   "source": [
    "### Some observations and conclusions\n",
    "\n",
    "1. We can see kmeans has a good ability to distinguish the general population and customers\n",
    "2. None of the customers fall into cluster [1, 2, 6, 10, 13]\n",
    "3. Customers tend to fall into cluster [3, 9, 12]. Any intances falling in these three clusters, particularly cluster 3 and 12, should be the most valuable targets for marketing\n",
    "\n",
    "**Summary:** the impressive result of customer segmentation by Kmeans Clustering indicates that **the features from PCA** have the powers to distinguish the customer from the general population."
   ]
  },
  {
   "cell_type": "markdown",
   "metadata": {},
   "source": [
    "<a id=\"part-1.2\"><br>\n",
    "### Part 1.2: another PCA approach (named as PCA2)\n",
    "    \n",
    "</a></br> Go to [Table](#table)<br>\n",
    "\n",
    "    \n",
    "We see the successful application of PCA in the previous section. However, in Part 2 for the supervised problem, classifier which is built based on the features from PCA doesn't have a very satisfying performance. To address this, I improved the aforementioned PCA approch with some modifications as follows:\n",
    "\n",
    "1. Build the PCA transformer with the data combination of mailorder customers and general population;\n",
    "2. The first 150 principle components will be used, which can explain 90% of the variance, and thus should be more predictive power for the supervised problem."
   ]
  },
  {
   "cell_type": "code",
   "execution_count": 5,
   "metadata": {},
   "outputs": [
    {
     "name": "stdout",
     "output_type": "stream",
     "text": [
      "(141723, 360)\n",
      "(141723, 357)\n"
     ]
    }
   ],
   "source": [
    "# load the customers_clean data\n",
    "customers_clean = pd.read_csv(\"./clean_data/customers_clean.csv\")\n",
    "print(customers_clean.shape)\n",
    "\n",
    "extra_cols = ['PRODUCT_GROUP', 'ONLINE_PURCHASE', 'CUSTOMER_GROUP']\n",
    "customers_clean.drop(columns=extra_cols, inplace=True)\n",
    "print(customers_clean.shape)\n"
   ]
  },
  {
   "cell_type": "code",
   "execution_count": 6,
   "metadata": {},
   "outputs": [],
   "source": [
    "# scale\n",
    "import pickle\n",
    "\n",
    "# load rescaler from the picke file\n",
    "with open('./clean_data/scaler.pkl', 'rb') as pickle_file:\n",
    "        max_abs_scaler_customer = pickle.load(pickle_file)\n",
    "\n",
    "\n",
    "customers_scale = max_abs_scaler_customer.transform(customers_clean)"
   ]
  },
  {
   "cell_type": "code",
   "execution_count": 6,
   "metadata": {},
   "outputs": [
    {
     "name": "stdout",
     "output_type": "stream",
     "text": [
      "(798057, 357)\n"
     ]
    }
   ],
   "source": [
    "# load azdias_scaled data first\n",
    "azdias_scaled = pd.read_csv(\"./clean_data/azdias_scaled.csv\")\n",
    "print(azdias_scaled.shape)"
   ]
  },
  {
   "cell_type": "code",
   "execution_count": 10,
   "metadata": {},
   "outputs": [],
   "source": [
    "seed = 1234"
   ]
  },
  {
   "cell_type": "markdown",
   "metadata": {},
   "source": [
    "**downsample the population data to reduce the computational time**"
   ]
  },
  {
   "cell_type": "code",
   "execution_count": 11,
   "metadata": {},
   "outputs": [],
   "source": [
    "azdias_scaled_down_sample = azdias_scaled.sample(frac=0.5,random_state=seed)"
   ]
  },
  {
   "cell_type": "code",
   "execution_count": 12,
   "metadata": {},
   "outputs": [
    {
     "data": {
      "text/plain": [
       "(399028, 357)"
      ]
     },
     "execution_count": 12,
     "metadata": {},
     "output_type": "execute_result"
    }
   ],
   "source": [
    "azdias_scaled_down_sample.shape"
   ]
  },
  {
   "cell_type": "markdown",
   "metadata": {},
   "source": [
    "**Now use customer data plus population data to fit the PCA transformer and save it to pickle file**"
   ]
  },
  {
   "cell_type": "code",
   "execution_count": 13,
   "metadata": {},
   "outputs": [],
   "source": [
    "from sklearn.decomposition import PCA\n",
    "\n",
    "n_copmt = 150\n",
    "\n",
    "pca_all = PCA(n_components=n_copmt)\n",
    "pca_all.fit(np.concatenate((customers_scale, azdias_scaled_down_sample.values), axis=0))\n",
    "\n",
    "# save pca in a pickle file\n",
    "with open('./clean_data/pca_all.pkl', 'wb') as pickle_file:\n",
    "        pickle.dump(pca_all, pickle_file)"
   ]
  },
  {
   "cell_type": "code",
   "execution_count": 7,
   "metadata": {},
   "outputs": [],
   "source": [
    "import pickle\n",
    "\n",
    "with open('./clean_data/pca_all.pkl', 'rb') as pickle_file:\n",
    "        pca_all = pickle.load(pickle_file)"
   ]
  },
  {
   "cell_type": "markdown",
   "metadata": {},
   "source": [
    "**check how many top component can give 90% variance explained**"
   ]
  },
  {
   "cell_type": "code",
   "execution_count": 8,
   "metadata": {},
   "outputs": [
    {
     "data": {
      "text/plain": [
       "(array([128, 129, 130, 131, 132, 133, 134, 135, 136, 137, 138, 139, 140,\n",
       "        141, 142, 143, 144, 145, 146, 147, 148, 149]),)"
      ]
     },
     "execution_count": 8,
     "metadata": {},
     "output_type": "execute_result"
    }
   ],
   "source": [
    "explained_var_r_all = np.cumsum(pca_all.explained_variance_ratio_)\n",
    "\n",
    "#the first 79 [0-78] components can give more than 80%: 0.80200387300360398\n",
    "np.where(explained_var_r_all > 0.90)\n",
    "#explained_var_r_all[78]"
   ]
  },
  {
   "cell_type": "code",
   "execution_count": 7,
   "metadata": {},
   "outputs": [
    {
     "data": {
      "text/plain": [
       "Text(0,0.5,'total percentage of variance explained')"
      ]
     },
     "execution_count": 7,
     "metadata": {},
     "output_type": "execute_result"
    },
    {
     "data": {
      "image/png": "[encoded data removed]",
      "text/plain": [
       "<matplotlib.figure.Figure at 0x7f3a87cd5390>"
      ]
     },
     "metadata": {
      "needs_background": "light"
     },
     "output_type": "display_data"
    }
   ],
   "source": [
    "fig, ax = plt.subplots(figsize=(16,8))\n",
    "\n",
    "explained_var_r_all = np.cumsum(pca_all.explained_variance_ratio_)\n",
    "\n",
    "ax.plot(explained_var_r_all)\n",
    "\n",
    "ax.set_title(\"Principal Component Analysis\")\n",
    "ax.set_xlabel(\"Number of components\")\n",
    "ax.set_ylabel('total percentage of variance explained')\n",
    "\n",
    "#index = 78\n",
    "#ax.plot(np.arange(index+1), np.ones(index+1) * explained_var_r_all[index], \"--y\")\n",
    "\n",
    "#ax.plot(np.ones(10)*index, np.linspace(0, explained_var_r_all[index], 10), \"--y\")"
   ]
  },
  {
   "cell_type": "markdown",
   "metadata": {},
   "source": [
    "<a id=\"part-2\"><br>\n",
    "## Part 2: Supervised Learning Model\n",
    "</a></br>Go to [Table](#table)<br>\n",
    "Now that we've found which parts of the population are more likely to be customers of the mail-order company, it's time to build a prediction model. Each of the rows in the \"MAILOUT\" data files represents an individual that was targeted for a mailout campaign. Ideally, we should be able to use the demographic information from each individual to decide whether or not it will be worth it to include that person in the campaign.\n",
    "\n",
    "The \"MAILOUT\" data has been split into two approximately equal parts, each with almost 43 000 data rows. In this part, you can verify your model with the \"TRAIN\" partition, which includes a column, \"RESPONSE\", that states whether or not a person became a customer of the company following the campaign. In the next part, you'll need to create predictions on the \"TEST\" partition, where the \"RESPONSE\" column has been withheld."
   ]
  },
  {
   "cell_type": "markdown",
   "metadata": {},
   "source": [
    "<a id=\"part-2-step1\"><br>\n",
    "### Part 2.1: Load train data and do some pre-processing\n",
    "</a></br>Go to [Table](#table)<br>\n",
    "</a></br>Go to [Part 2.2](#part-2-step2)<br>"
   ]
  },
  {
   "cell_type": "code",
   "execution_count": 6,
   "metadata": {},
   "outputs": [],
   "source": [
    "# now just import the preprocessing functions from \"helper_functions/preprocessing.py\"\n",
    "\n",
    "from preprocessing import *"
   ]
  },
  {
   "cell_type": "code",
   "execution_count": 7,
   "metadata": {},
   "outputs": [
    {
     "name": "stderr",
     "output_type": "stream",
     "text": [
      "/opt/conda/lib/python3.6/site-packages/IPython/core/interactiveshell.py:2785: DtypeWarning: Columns (18,19) have mixed types. Specify dtype option on import or set low_memory=False.\n",
      "  interactivity=interactivity, compiler=compiler, result=result)\n"
     ]
    }
   ],
   "source": [
    "mailout_train = pd.read_csv('../../data/Term2/capstone/arvato_data/Udacity_MAILOUT_052018_TRAIN.csv', sep=';')"
   ]
  },
  {
   "cell_type": "code",
   "execution_count": 8,
   "metadata": {},
   "outputs": [
    {
     "name": "stdout",
     "output_type": "stream",
     "text": [
      "(42962, 367)\n",
      "----------\n",
      "Row null values histogram (Row number counts V.S. Missing value percentage):\n",
      "\n"
     ]
    },
    {
     "data": {
      "image/png": "[encoded data removed]",
      "text/plain": [
       "<matplotlib.figure.Figure at 0x7f3c0dff85f8>"
      ]
     },
     "metadata": {
      "needs_background": "light"
     },
     "output_type": "display_data"
    }
   ],
   "source": [
    "# a quick check on the column-wise missing value \n",
    "print(mailout_train.shape)\n",
    "#print(mailout_train.isnull().sum()/mailout_train.shape[0])\n",
    "miss_data_check_row(mailout_train)"
   ]
  },
  {
   "cell_type": "code",
   "execution_count": 10,
   "metadata": {},
   "outputs": [
    {
     "name": "stdout",
     "output_type": "stream",
     "text": [
      "0.0\n",
      "non-response: response: [0 1] \n",
      " [ 0.98761696  0.01238304]\n"
     ]
    }
   ],
   "source": [
    "# some basic check on the reponse variable\n",
    "print(mailout_train[\"RESPONSE\"].isnull().sum()/mailout_train.shape[0])\n",
    "\n",
    "reponse_value, response_num = np.unique(mailout_train[\"RESPONSE\"], return_counts=True)\n",
    "\n",
    "print(\"non-response: response:\", reponse_value, \"\\n\", response_num/mailout_train.shape[0])"
   ]
  },
  {
   "cell_type": "code",
   "execution_count": 11,
   "metadata": {},
   "outputs": [
    {
     "name": "stdout",
     "output_type": "stream",
     "text": [
      "non-response: response: [0 1] \n",
      " [42430   532]\n"
     ]
    }
   ],
   "source": [
    "print(\"non-response: response:\", reponse_value, \"\\n\", response_num)"
   ]
  },
  {
   "cell_type": "markdown",
   "metadata": {},
   "source": [
    "#### need to repeat all the preprocessing"
   ]
  },
  {
   "cell_type": "code",
   "execution_count": 12,
   "metadata": {},
   "outputs": [
    {
     "name": "stdout",
     "output_type": "stream",
     "text": [
      "(42962, 358)\n"
     ]
    }
   ],
   "source": [
    "cols_to_drop = list(map(lambda x: \"ALTER_KIND\"+str(x), [1,2,3,4])) \\\n",
    "+ [\"EXTSEL992\", \"CAMEO_DEU_2015\"] \\\n",
    "+ [\"D19_LETZTER_KAUF_BRANCHE\", \"EINGEFUEGT_AM\", \"OST_WEST_KZ\"]\n",
    "\n",
    "# apply to customers\n",
    "mailout_train_clean = drop_columns(mailout_train, cols_to_drop)\n",
    "mailout_train_clean = remove_row(mailout_train_clean)\n",
    "mailout_train_clean = miss_data_impu(mailout_train_clean)\n",
    "\n",
    "print(mailout_train_clean.shape)"
   ]
  },
  {
   "cell_type": "code",
   "execution_count": 13,
   "metadata": {},
   "outputs": [
    {
     "data": {
      "text/plain": [
       "Series([], dtype: object)"
      ]
     },
     "execution_count": 13,
     "metadata": {},
     "output_type": "execute_result"
    }
   ],
   "source": [
    "# double check the types of columns before using scaling\n",
    "col_types = mailout_train_clean.dtypes\n",
    "col_types[col_types != float][col_types != int]"
   ]
  },
  {
   "cell_type": "markdown",
   "metadata": {},
   "source": [
    "**split training data into X and Y**"
   ]
  },
  {
   "cell_type": "code",
   "execution_count": 14,
   "metadata": {},
   "outputs": [],
   "source": [
    "cols_X = [col for col in mailout_train_clean.columns.tolist() if col not in [\"RESPONSE\"]]\n",
    "\n",
    "col_Y = [\"RESPONSE\"]\n",
    "\n",
    "mailout_train_clean_X = mailout_train_clean[cols_X]\n",
    "mailout_train_clean_Y = mailout_train_clean[col_Y]"
   ]
  },
  {
   "cell_type": "markdown",
   "metadata": {},
   "source": [
    "<a id=\"part-2-PCA1\"><br>\n",
    "## Legacy: Supervised Learning Model with PCA 1\n",
    "</a></br>\n",
    "This section is the legacy when I dealt with the Supervised Learning Model using the results of PCA1. The updated work is based on PCA 2. You can just jump to the Part 2 for the work based on PCA2:\n",
    "\n",
    "Go to [Part 2 step 2](#part-2-step2)<br>\n",
    "\n",
    "</a></br>Go to [Table](#table)<br>"
   ]
  },
  {
   "cell_type": "markdown",
   "metadata": {},
   "source": [
    "### ========PCA 1 (legacy) starts here============="
   ]
  },
  {
   "cell_type": "markdown",
   "metadata": {},
   "source": [
    "### L1. Data normalization and apply PCA "
   ]
  },
  {
   "cell_type": "markdown",
   "metadata": {},
   "source": [
    "#### Rescale: mailout_train_clean before applying PCA"
   ]
  },
  {
   "cell_type": "code",
   "execution_count": 20,
   "metadata": {},
   "outputs": [
    {
     "name": "stdout",
     "output_type": "stream",
     "text": [
      "(141723, 360)\n",
      "(141723, 357)\n"
     ]
    }
   ],
   "source": [
    "# load the customers_clean data\n",
    "customers_clean = pd.read_csv(\"./clean_data/customers_clean.csv\")\n",
    "print(customers_clean.shape)\n",
    "\n",
    "extra_cols = ['PRODUCT_GROUP', 'ONLINE_PURCHASE', 'CUSTOMER_GROUP']\n",
    "customers_clean.drop(columns=extra_cols, inplace=True)\n",
    "print(customers_clean.shape)"
   ]
  },
  {
   "cell_type": "code",
   "execution_count": 21,
   "metadata": {},
   "outputs": [
    {
     "data": {
      "text/plain": [
       "(42962, 357)"
      ]
     },
     "execution_count": 21,
     "metadata": {},
     "output_type": "execute_result"
    }
   ],
   "source": [
    "mailout_train_clean_X.shape"
   ]
  },
  {
   "cell_type": "code",
   "execution_count": 22,
   "metadata": {},
   "outputs": [],
   "source": [
    "# Rescale: customers_clean\n",
    "# PCA: use azdias_scaled to scale data first\n",
    "\n",
    "from sklearn import preprocessing\n",
    "\n",
    "max_abs_scaler_customer = preprocessing.MaxAbsScaler()\n",
    "\n",
    "# train the scaler first\n",
    "\n",
    "max_abs_scaler_customer.fit(customers_clean)\n",
    "\n",
    "# don't need the customers_clean data anymore\n",
    "customers_clean = None\n",
    "\n",
    "# apply\n",
    "# mailout_train_X_scaled = max_abs_scaler_customer.transform(mailout_train_clean_X)"
   ]
  },
  {
   "cell_type": "code",
   "execution_count": 18,
   "metadata": {},
   "outputs": [
    {
     "data": {
      "text/plain": [
       "2998"
      ]
     },
     "execution_count": 18,
     "metadata": {},
     "output_type": "execute_result"
    }
   ],
   "source": [
    "gc.collect()"
   ]
  },
  {
   "cell_type": "markdown",
   "metadata": {},
   "source": [
    "#### use PCA to reduce the dimension of training data"
   ]
  },
  {
   "cell_type": "code",
   "execution_count": 19,
   "metadata": {},
   "outputs": [],
   "source": [
    "# load azdias_scaled data first\n",
    "azdias_scaled = pd.read_csv(\"./clean_data/azdias_scaled.csv\")"
   ]
  },
  {
   "cell_type": "code",
   "execution_count": 20,
   "metadata": {},
   "outputs": [],
   "source": [
    "# use PCA to reduce the dimension for both training data and test data first\n",
    "\n",
    "# Rescale: customers_clean\n",
    "# PCA: use azdias_scaled to scale data first\n",
    "\n",
    "#=========================\n",
    "\n",
    "from sklearn.decomposition import PCA\n",
    "\n",
    "n_copmt = 79\n",
    "\n",
    "pca_population = PCA(n_components=n_copmt)\n",
    "\n",
    "pca_population.fit(azdias_scaled)\n",
    "\n",
    "azdias_scaled = None"
   ]
  },
  {
   "cell_type": "code",
   "execution_count": 23,
   "metadata": {},
   "outputs": [
    {
     "name": "stdout",
     "output_type": "stream",
     "text": [
      "(35185, 79)\n"
     ]
    }
   ],
   "source": [
    "# get the pca on training data\n",
    "mailout_train_X_pca = pca_population.transform(mailout_train_X_scaled)\n",
    "print(mailout_train_X_pca.shape)"
   ]
  },
  {
   "cell_type": "markdown",
   "metadata": {},
   "source": [
    "**MaxAbsScaler and PCA transformer saved**"
   ]
  },
  {
   "cell_type": "code",
   "execution_count": 23,
   "metadata": {},
   "outputs": [],
   "source": [
    "import pickle\n",
    "\n",
    "# save rescaler in a picke file\n",
    "with open('./clean_data/scaler.pkl', 'wb') as pickle_file:\n",
    "        pickle.dump(max_abs_scaler_customer, pickle_file)\n",
    "\n",
    "# save pca in a pickle file\n",
    "with open('./clean_data/pca.pkl', 'wb') as pickle_file:\n",
    "        pickle.dump(pca_population, pickle_file)"
   ]
  },
  {
   "cell_type": "markdown",
   "metadata": {},
   "source": [
    "#### load the scaler and pca"
   ]
  },
  {
   "cell_type": "code",
   "execution_count": 80,
   "metadata": {},
   "outputs": [],
   "source": [
    "import pickle\n",
    "\n",
    "# save rescaler in a picke file\n",
    "with open('./clean_data/scaler.pkl', 'rb') as pickle_file:\n",
    "        max_abs_scaler_customer = pickle.load(pickle_file)\n",
    "\n",
    "# save pca in a pickle file\n",
    "with open('./clean_data/pca.pkl', 'rb') as pickle_file:\n",
    "        pca_population = pickle.load(pickle_file)"
   ]
  },
  {
   "cell_type": "code",
   "execution_count": 19,
   "metadata": {},
   "outputs": [
    {
     "name": "stdout",
     "output_type": "stream",
     "text": [
      "(42962, 79)\n"
     ]
    }
   ],
   "source": [
    "mailout_train_X_scaled = max_abs_scaler_customer.transform(mailout_train_clean_X)\n",
    "mailout_train_X_pca = pca_population.transform(mailout_train_X_scaled)\n",
    "\n",
    "print(mailout_train_X_pca.shape)"
   ]
  },
  {
   "cell_type": "code",
   "execution_count": 20,
   "metadata": {},
   "outputs": [
    {
     "data": {
      "text/html": [
       "<div>\n",
       "<style scoped>\n",
       "    .dataframe tbody tr th:only-of-type {\n",
       "        vertical-align: middle;\n",
       "    }\n",
       "\n",
       "    .dataframe tbody tr th {\n",
       "        vertical-align: top;\n",
       "    }\n",
       "\n",
       "    .dataframe thead th {\n",
       "        text-align: right;\n",
       "    }\n",
       "</style>\n",
       "<table border=\"1\" class=\"dataframe\">\n",
       "  <thead>\n",
       "    <tr style=\"text-align: right;\">\n",
       "      <th></th>\n",
       "      <th>pca_1</th>\n",
       "      <th>pca_2</th>\n",
       "      <th>pca_3</th>\n",
       "      <th>pca_4</th>\n",
       "      <th>pca_5</th>\n",
       "      <th>pca_6</th>\n",
       "      <th>pca_7</th>\n",
       "      <th>pca_8</th>\n",
       "      <th>pca_9</th>\n",
       "      <th>pca_10</th>\n",
       "      <th>...</th>\n",
       "      <th>pca_70</th>\n",
       "      <th>pca_71</th>\n",
       "      <th>pca_72</th>\n",
       "      <th>pca_73</th>\n",
       "      <th>pca_74</th>\n",
       "      <th>pca_75</th>\n",
       "      <th>pca_76</th>\n",
       "      <th>pca_77</th>\n",
       "      <th>pca_78</th>\n",
       "      <th>pca_79</th>\n",
       "    </tr>\n",
       "  </thead>\n",
       "  <tbody>\n",
       "    <tr>\n",
       "      <th>0</th>\n",
       "      <td>-2.273074</td>\n",
       "      <td>2.570840</td>\n",
       "      <td>0.414765</td>\n",
       "      <td>-1.211226</td>\n",
       "      <td>1.587584</td>\n",
       "      <td>-1.199817</td>\n",
       "      <td>0.988786</td>\n",
       "      <td>-0.556577</td>\n",
       "      <td>-0.151852</td>\n",
       "      <td>0.382459</td>\n",
       "      <td>...</td>\n",
       "      <td>-0.116973</td>\n",
       "      <td>0.146313</td>\n",
       "      <td>-0.101442</td>\n",
       "      <td>0.123194</td>\n",
       "      <td>0.059347</td>\n",
       "      <td>0.209516</td>\n",
       "      <td>-0.416545</td>\n",
       "      <td>-0.197250</td>\n",
       "      <td>-0.142468</td>\n",
       "      <td>0.452863</td>\n",
       "    </tr>\n",
       "    <tr>\n",
       "      <th>1</th>\n",
       "      <td>0.953299</td>\n",
       "      <td>3.461298</td>\n",
       "      <td>1.040318</td>\n",
       "      <td>-1.315505</td>\n",
       "      <td>-0.410489</td>\n",
       "      <td>-0.007837</td>\n",
       "      <td>0.262034</td>\n",
       "      <td>-0.752622</td>\n",
       "      <td>0.015048</td>\n",
       "      <td>0.234995</td>\n",
       "      <td>...</td>\n",
       "      <td>-0.355451</td>\n",
       "      <td>-0.108226</td>\n",
       "      <td>-0.391016</td>\n",
       "      <td>-0.007399</td>\n",
       "      <td>-0.116792</td>\n",
       "      <td>0.096948</td>\n",
       "      <td>0.443084</td>\n",
       "      <td>-0.320161</td>\n",
       "      <td>-0.259759</td>\n",
       "      <td>-0.114332</td>\n",
       "    </tr>\n",
       "    <tr>\n",
       "      <th>2</th>\n",
       "      <td>-0.079342</td>\n",
       "      <td>3.342984</td>\n",
       "      <td>1.616593</td>\n",
       "      <td>-1.173662</td>\n",
       "      <td>0.416469</td>\n",
       "      <td>-0.449606</td>\n",
       "      <td>1.109263</td>\n",
       "      <td>0.670486</td>\n",
       "      <td>-0.269943</td>\n",
       "      <td>-0.424709</td>\n",
       "      <td>...</td>\n",
       "      <td>0.237279</td>\n",
       "      <td>0.106247</td>\n",
       "      <td>0.117278</td>\n",
       "      <td>0.166319</td>\n",
       "      <td>-0.036009</td>\n",
       "      <td>0.463575</td>\n",
       "      <td>-0.069498</td>\n",
       "      <td>0.366709</td>\n",
       "      <td>0.023879</td>\n",
       "      <td>0.155005</td>\n",
       "    </tr>\n",
       "    <tr>\n",
       "      <th>3</th>\n",
       "      <td>-0.347542</td>\n",
       "      <td>2.176118</td>\n",
       "      <td>1.580518</td>\n",
       "      <td>-1.269897</td>\n",
       "      <td>1.150091</td>\n",
       "      <td>-0.662118</td>\n",
       "      <td>3.000225</td>\n",
       "      <td>-0.552558</td>\n",
       "      <td>0.499512</td>\n",
       "      <td>0.826597</td>\n",
       "      <td>...</td>\n",
       "      <td>0.225568</td>\n",
       "      <td>-0.122915</td>\n",
       "      <td>0.197457</td>\n",
       "      <td>0.148177</td>\n",
       "      <td>-0.089090</td>\n",
       "      <td>-0.292214</td>\n",
       "      <td>0.047583</td>\n",
       "      <td>0.250025</td>\n",
       "      <td>0.151069</td>\n",
       "      <td>0.066548</td>\n",
       "    </tr>\n",
       "    <tr>\n",
       "      <th>4</th>\n",
       "      <td>-1.050399</td>\n",
       "      <td>2.731936</td>\n",
       "      <td>0.905010</td>\n",
       "      <td>-0.878472</td>\n",
       "      <td>1.114644</td>\n",
       "      <td>-0.741502</td>\n",
       "      <td>2.000695</td>\n",
       "      <td>0.618293</td>\n",
       "      <td>-0.366130</td>\n",
       "      <td>-0.997093</td>\n",
       "      <td>...</td>\n",
       "      <td>0.215990</td>\n",
       "      <td>0.060425</td>\n",
       "      <td>0.186635</td>\n",
       "      <td>0.056334</td>\n",
       "      <td>-0.234700</td>\n",
       "      <td>-0.057355</td>\n",
       "      <td>-0.003373</td>\n",
       "      <td>0.250949</td>\n",
       "      <td>-0.061570</td>\n",
       "      <td>0.022807</td>\n",
       "    </tr>\n",
       "  </tbody>\n",
       "</table>\n",
       "<p>5 rows × 79 columns</p>\n",
       "</div>"
      ],
      "text/plain": [
       "      pca_1     pca_2     pca_3     pca_4     pca_5     pca_6     pca_7  \\\n",
       "0 -2.273074  2.570840  0.414765 -1.211226  1.587584 -1.199817  0.988786   \n",
       "1  0.953299  3.461298  1.040318 -1.315505 -0.410489 -0.007837  0.262034   \n",
       "2 -0.079342  3.342984  1.616593 -1.173662  0.416469 -0.449606  1.109263   \n",
       "3 -0.347542  2.176118  1.580518 -1.269897  1.150091 -0.662118  3.000225   \n",
       "4 -1.050399  2.731936  0.905010 -0.878472  1.114644 -0.741502  2.000695   \n",
       "\n",
       "      pca_8     pca_9    pca_10    ...       pca_70    pca_71    pca_72  \\\n",
       "0 -0.556577 -0.151852  0.382459    ...    -0.116973  0.146313 -0.101442   \n",
       "1 -0.752622  0.015048  0.234995    ...    -0.355451 -0.108226 -0.391016   \n",
       "2  0.670486 -0.269943 -0.424709    ...     0.237279  0.106247  0.117278   \n",
       "3 -0.552558  0.499512  0.826597    ...     0.225568 -0.122915  0.197457   \n",
       "4  0.618293 -0.366130 -0.997093    ...     0.215990  0.060425  0.186635   \n",
       "\n",
       "     pca_73    pca_74    pca_75    pca_76    pca_77    pca_78    pca_79  \n",
       "0  0.123194  0.059347  0.209516 -0.416545 -0.197250 -0.142468  0.452863  \n",
       "1 -0.007399 -0.116792  0.096948  0.443084 -0.320161 -0.259759 -0.114332  \n",
       "2  0.166319 -0.036009  0.463575 -0.069498  0.366709  0.023879  0.155005  \n",
       "3  0.148177 -0.089090 -0.292214  0.047583  0.250025  0.151069  0.066548  \n",
       "4  0.056334 -0.234700 -0.057355 -0.003373  0.250949 -0.061570  0.022807  \n",
       "\n",
       "[5 rows x 79 columns]"
      ]
     },
     "execution_count": 20,
     "metadata": {},
     "output_type": "execute_result"
    }
   ],
   "source": [
    "mailout_train_X_pca = pd.DataFrame(mailout_train_X_pca, columns=list(map(lambda x: \"pca_\"+str(x), np.arange(1, 80))))\n",
    "\n",
    "mailout_train_X_pca.head(5)"
   ]
  },
  {
   "cell_type": "code",
   "execution_count": 22,
   "metadata": {},
   "outputs": [
    {
     "data": {
      "text/plain": [
       "7"
      ]
     },
     "execution_count": 22,
     "metadata": {},
     "output_type": "execute_result"
    }
   ],
   "source": [
    "gc.collect()"
   ]
  },
  {
   "cell_type": "markdown",
   "metadata": {},
   "source": [
    "### L2. Model training"
   ]
  },
  {
   "cell_type": "code",
   "execution_count": 31,
   "metadata": {},
   "outputs": [],
   "source": [
    "# scoring function，which can be import from \"helper_functions/algorithms_try.py\"\n",
    "\n",
    "from sklearn.metrics import roc_auc_score, average_precision_score, confusion_matrix\n",
    "\n",
    "def get_accuracy_auc(model, X, ground_y):\n",
    "    predict_y = model.predict(X)\n",
    "    predict_y_proba = model.predict_proba(X)\n",
    "    #\n",
    "    accuracy_score = (predict_y == ground_y).sum()/len(predict_y)\n",
    "    # ROC-AUC\n",
    "    auc_score = roc_auc_score(ground_y, predict_y_proba[:,1])\n",
    "    # PR_AUC\n",
    "    pr_auc_score = average_precision_score(ground_y, predict_y_proba[:,1])\n",
    "    #\n",
    "    #print(\"accuracy score: {0:6.4f}, ROC-AUC score: {1:6.4f}, PR-AUC score: {2:6.4f}\".\\\n",
    "    #  format(accuracy_score, auc_score, pr_auc_score))\n",
    "    \n",
    "    # Confusion matrix:\n",
    "    #print(\"Confusion matrix [[TN, FP]\\n[FN, TP]]:\\n\", confusion_matrix(ground_y, predict_y))\n",
    "    \n",
    "    return accuracy_score, auc_score, pr_auc_score"
   ]
  },
  {
   "cell_type": "code",
   "execution_count": 19,
   "metadata": {},
   "outputs": [],
   "source": [
    "seed = 1234"
   ]
  },
  {
   "cell_type": "markdown",
   "metadata": {},
   "source": [
    "#### L2.1. use Random forest first (an untune version)"
   ]
  },
  {
   "cell_type": "code",
   "execution_count": 36,
   "metadata": {},
   "outputs": [
    {
     "name": "stderr",
     "output_type": "stream",
     "text": [
      "/opt/conda/lib/python3.6/site-packages/ipykernel_launcher.py:11: DataConversionWarning: A column-vector y was passed when a 1d array was expected. Please change the shape of y to (n_samples,), for example using ravel().\n",
      "  # This is added back by InteractiveShellApp.init_path()\n"
     ]
    },
    {
     "data": {
      "text/plain": [
       "RandomForestClassifier(bootstrap=True, class_weight='balanced',\n",
       "            criterion='gini', max_depth=10, max_features=0.8,\n",
       "            max_leaf_nodes=None, min_impurity_decrease=0.0,\n",
       "            min_impurity_split=None, min_samples_leaf=1,\n",
       "            min_samples_split=2, min_weight_fraction_leaf=0.0,\n",
       "            n_estimators=300, n_jobs=-1, oob_score=True, random_state=1234,\n",
       "            verbose=0, warm_start=False)"
      ]
     },
     "execution_count": 36,
     "metadata": {},
     "output_type": "execute_result"
    }
   ],
   "source": [
    "# use Random forest first\n",
    "\n",
    "from sklearn.ensemble import RandomForestClassifier\n",
    "\n",
    "rdf_hyperparam = {\"n_estimators\": 300, \"max_depth\": 10, \"max_features\": 0.8, \n",
    "                  \"class_weight\": \"balanced\", \"bootstrap\": True, \"oob_score\": True, \n",
    "                  \"n_jobs\": -1, \"random_state\": seed}\n",
    "\n",
    "rdf_clf = RandomForestClassifier(**rdf_hyperparam)\n",
    "\n",
    "rdf_clf.fit(X=mailout_train_X_pca, y = mailout_train_clean_Y)"
   ]
  },
  {
   "cell_type": "code",
   "execution_count": 84,
   "metadata": {},
   "outputs": [],
   "source": [
    "with open(\"./clean_data/models/random_forest.pkl\", 'wb') as pickle_file:\n",
    "    pickle.dump(rdf_clf, pickle_file)"
   ]
  },
  {
   "cell_type": "markdown",
   "metadata": {},
   "source": [
    "#### * get the feature importance (legacy)"
   ]
  },
  {
   "cell_type": "code",
   "execution_count": null,
   "metadata": {},
   "outputs": [],
   "source": [
    "## get the feature importance\n",
    "rdf_feature_import = pd.DataFrame(list(map(lambda x: \"pca_\"+str(x), np.arange(1, 80))), columns=[\"pca_feature\"])\n",
    "\n",
    "rdf_feature_import[\"feature_imp\"] = rdf_clf.feature_importances_\n"
   ]
  },
  {
   "cell_type": "code",
   "execution_count": 42,
   "metadata": {
    "collapsed": true
   },
   "outputs": [
    {
     "data": {
      "text/html": [
       "<div>\n",
       "<style scoped>\n",
       "    .dataframe tbody tr th:only-of-type {\n",
       "        vertical-align: middle;\n",
       "    }\n",
       "\n",
       "    .dataframe tbody tr th {\n",
       "        vertical-align: top;\n",
       "    }\n",
       "\n",
       "    .dataframe thead th {\n",
       "        text-align: right;\n",
       "    }\n",
       "</style>\n",
       "<table border=\"1\" class=\"dataframe\">\n",
       "  <thead>\n",
       "    <tr style=\"text-align: right;\">\n",
       "      <th></th>\n",
       "      <th>pca_feature</th>\n",
       "      <th>feature_imp</th>\n",
       "    </tr>\n",
       "  </thead>\n",
       "  <tbody>\n",
       "    <tr>\n",
       "      <th>18</th>\n",
       "      <td>pca_19</td>\n",
       "      <td>0.035175</td>\n",
       "    </tr>\n",
       "    <tr>\n",
       "      <th>27</th>\n",
       "      <td>pca_28</td>\n",
       "      <td>0.027482</td>\n",
       "    </tr>\n",
       "    <tr>\n",
       "      <th>31</th>\n",
       "      <td>pca_32</td>\n",
       "      <td>0.026139</td>\n",
       "    </tr>\n",
       "    <tr>\n",
       "      <th>8</th>\n",
       "      <td>pca_9</td>\n",
       "      <td>0.018916</td>\n",
       "    </tr>\n",
       "    <tr>\n",
       "      <th>49</th>\n",
       "      <td>pca_50</td>\n",
       "      <td>0.018897</td>\n",
       "    </tr>\n",
       "    <tr>\n",
       "      <th>66</th>\n",
       "      <td>pca_67</td>\n",
       "      <td>0.018397</td>\n",
       "    </tr>\n",
       "    <tr>\n",
       "      <th>33</th>\n",
       "      <td>pca_34</td>\n",
       "      <td>0.018313</td>\n",
       "    </tr>\n",
       "    <tr>\n",
       "      <th>22</th>\n",
       "      <td>pca_23</td>\n",
       "      <td>0.018165</td>\n",
       "    </tr>\n",
       "    <tr>\n",
       "      <th>58</th>\n",
       "      <td>pca_59</td>\n",
       "      <td>0.016732</td>\n",
       "    </tr>\n",
       "    <tr>\n",
       "      <th>72</th>\n",
       "      <td>pca_73</td>\n",
       "      <td>0.016645</td>\n",
       "    </tr>\n",
       "    <tr>\n",
       "      <th>76</th>\n",
       "      <td>pca_77</td>\n",
       "      <td>0.016327</td>\n",
       "    </tr>\n",
       "    <tr>\n",
       "      <th>3</th>\n",
       "      <td>pca_4</td>\n",
       "      <td>0.016254</td>\n",
       "    </tr>\n",
       "    <tr>\n",
       "      <th>37</th>\n",
       "      <td>pca_38</td>\n",
       "      <td>0.015899</td>\n",
       "    </tr>\n",
       "    <tr>\n",
       "      <th>9</th>\n",
       "      <td>pca_10</td>\n",
       "      <td>0.015871</td>\n",
       "    </tr>\n",
       "    <tr>\n",
       "      <th>39</th>\n",
       "      <td>pca_40</td>\n",
       "      <td>0.015669</td>\n",
       "    </tr>\n",
       "    <tr>\n",
       "      <th>28</th>\n",
       "      <td>pca_29</td>\n",
       "      <td>0.015658</td>\n",
       "    </tr>\n",
       "    <tr>\n",
       "      <th>35</th>\n",
       "      <td>pca_36</td>\n",
       "      <td>0.015385</td>\n",
       "    </tr>\n",
       "    <tr>\n",
       "      <th>6</th>\n",
       "      <td>pca_7</td>\n",
       "      <td>0.014831</td>\n",
       "    </tr>\n",
       "    <tr>\n",
       "      <th>54</th>\n",
       "      <td>pca_55</td>\n",
       "      <td>0.014824</td>\n",
       "    </tr>\n",
       "    <tr>\n",
       "      <th>17</th>\n",
       "      <td>pca_18</td>\n",
       "      <td>0.014504</td>\n",
       "    </tr>\n",
       "    <tr>\n",
       "      <th>2</th>\n",
       "      <td>pca_3</td>\n",
       "      <td>0.013817</td>\n",
       "    </tr>\n",
       "    <tr>\n",
       "      <th>4</th>\n",
       "      <td>pca_5</td>\n",
       "      <td>0.013639</td>\n",
       "    </tr>\n",
       "    <tr>\n",
       "      <th>21</th>\n",
       "      <td>pca_22</td>\n",
       "      <td>0.013365</td>\n",
       "    </tr>\n",
       "    <tr>\n",
       "      <th>32</th>\n",
       "      <td>pca_33</td>\n",
       "      <td>0.013301</td>\n",
       "    </tr>\n",
       "    <tr>\n",
       "      <th>56</th>\n",
       "      <td>pca_57</td>\n",
       "      <td>0.013160</td>\n",
       "    </tr>\n",
       "    <tr>\n",
       "      <th>69</th>\n",
       "      <td>pca_70</td>\n",
       "      <td>0.012999</td>\n",
       "    </tr>\n",
       "    <tr>\n",
       "      <th>38</th>\n",
       "      <td>pca_39</td>\n",
       "      <td>0.012843</td>\n",
       "    </tr>\n",
       "    <tr>\n",
       "      <th>62</th>\n",
       "      <td>pca_63</td>\n",
       "      <td>0.012675</td>\n",
       "    </tr>\n",
       "    <tr>\n",
       "      <th>16</th>\n",
       "      <td>pca_17</td>\n",
       "      <td>0.012532</td>\n",
       "    </tr>\n",
       "    <tr>\n",
       "      <th>34</th>\n",
       "      <td>pca_35</td>\n",
       "      <td>0.012524</td>\n",
       "    </tr>\n",
       "    <tr>\n",
       "      <th>...</th>\n",
       "      <td>...</td>\n",
       "      <td>...</td>\n",
       "    </tr>\n",
       "    <tr>\n",
       "      <th>30</th>\n",
       "      <td>pca_31</td>\n",
       "      <td>0.010608</td>\n",
       "    </tr>\n",
       "    <tr>\n",
       "      <th>40</th>\n",
       "      <td>pca_41</td>\n",
       "      <td>0.010396</td>\n",
       "    </tr>\n",
       "    <tr>\n",
       "      <th>46</th>\n",
       "      <td>pca_47</td>\n",
       "      <td>0.010334</td>\n",
       "    </tr>\n",
       "    <tr>\n",
       "      <th>78</th>\n",
       "      <td>pca_79</td>\n",
       "      <td>0.010252</td>\n",
       "    </tr>\n",
       "    <tr>\n",
       "      <th>41</th>\n",
       "      <td>pca_42</td>\n",
       "      <td>0.010157</td>\n",
       "    </tr>\n",
       "    <tr>\n",
       "      <th>15</th>\n",
       "      <td>pca_16</td>\n",
       "      <td>0.010096</td>\n",
       "    </tr>\n",
       "    <tr>\n",
       "      <th>45</th>\n",
       "      <td>pca_46</td>\n",
       "      <td>0.010091</td>\n",
       "    </tr>\n",
       "    <tr>\n",
       "      <th>5</th>\n",
       "      <td>pca_6</td>\n",
       "      <td>0.010085</td>\n",
       "    </tr>\n",
       "    <tr>\n",
       "      <th>14</th>\n",
       "      <td>pca_15</td>\n",
       "      <td>0.010050</td>\n",
       "    </tr>\n",
       "    <tr>\n",
       "      <th>70</th>\n",
       "      <td>pca_71</td>\n",
       "      <td>0.010002</td>\n",
       "    </tr>\n",
       "    <tr>\n",
       "      <th>36</th>\n",
       "      <td>pca_37</td>\n",
       "      <td>0.009831</td>\n",
       "    </tr>\n",
       "    <tr>\n",
       "      <th>48</th>\n",
       "      <td>pca_49</td>\n",
       "      <td>0.009676</td>\n",
       "    </tr>\n",
       "    <tr>\n",
       "      <th>59</th>\n",
       "      <td>pca_60</td>\n",
       "      <td>0.009654</td>\n",
       "    </tr>\n",
       "    <tr>\n",
       "      <th>75</th>\n",
       "      <td>pca_76</td>\n",
       "      <td>0.009498</td>\n",
       "    </tr>\n",
       "    <tr>\n",
       "      <th>19</th>\n",
       "      <td>pca_20</td>\n",
       "      <td>0.009476</td>\n",
       "    </tr>\n",
       "    <tr>\n",
       "      <th>55</th>\n",
       "      <td>pca_56</td>\n",
       "      <td>0.009428</td>\n",
       "    </tr>\n",
       "    <tr>\n",
       "      <th>60</th>\n",
       "      <td>pca_61</td>\n",
       "      <td>0.009213</td>\n",
       "    </tr>\n",
       "    <tr>\n",
       "      <th>61</th>\n",
       "      <td>pca_62</td>\n",
       "      <td>0.009178</td>\n",
       "    </tr>\n",
       "    <tr>\n",
       "      <th>71</th>\n",
       "      <td>pca_72</td>\n",
       "      <td>0.009163</td>\n",
       "    </tr>\n",
       "    <tr>\n",
       "      <th>24</th>\n",
       "      <td>pca_25</td>\n",
       "      <td>0.009146</td>\n",
       "    </tr>\n",
       "    <tr>\n",
       "      <th>77</th>\n",
       "      <td>pca_78</td>\n",
       "      <td>0.009109</td>\n",
       "    </tr>\n",
       "    <tr>\n",
       "      <th>57</th>\n",
       "      <td>pca_58</td>\n",
       "      <td>0.009083</td>\n",
       "    </tr>\n",
       "    <tr>\n",
       "      <th>44</th>\n",
       "      <td>pca_45</td>\n",
       "      <td>0.009036</td>\n",
       "    </tr>\n",
       "    <tr>\n",
       "      <th>74</th>\n",
       "      <td>pca_75</td>\n",
       "      <td>0.009019</td>\n",
       "    </tr>\n",
       "    <tr>\n",
       "      <th>11</th>\n",
       "      <td>pca_12</td>\n",
       "      <td>0.008871</td>\n",
       "    </tr>\n",
       "    <tr>\n",
       "      <th>50</th>\n",
       "      <td>pca_51</td>\n",
       "      <td>0.008813</td>\n",
       "    </tr>\n",
       "    <tr>\n",
       "      <th>43</th>\n",
       "      <td>pca_44</td>\n",
       "      <td>0.008771</td>\n",
       "    </tr>\n",
       "    <tr>\n",
       "      <th>47</th>\n",
       "      <td>pca_48</td>\n",
       "      <td>0.008433</td>\n",
       "    </tr>\n",
       "    <tr>\n",
       "      <th>42</th>\n",
       "      <td>pca_43</td>\n",
       "      <td>0.008004</td>\n",
       "    </tr>\n",
       "    <tr>\n",
       "      <th>25</th>\n",
       "      <td>pca_26</td>\n",
       "      <td>0.007639</td>\n",
       "    </tr>\n",
       "  </tbody>\n",
       "</table>\n",
       "<p>79 rows × 2 columns</p>\n",
       "</div>"
      ],
      "text/plain": [
       "   pca_feature  feature_imp\n",
       "18      pca_19     0.035175\n",
       "27      pca_28     0.027482\n",
       "31      pca_32     0.026139\n",
       "8        pca_9     0.018916\n",
       "49      pca_50     0.018897\n",
       "66      pca_67     0.018397\n",
       "33      pca_34     0.018313\n",
       "22      pca_23     0.018165\n",
       "58      pca_59     0.016732\n",
       "72      pca_73     0.016645\n",
       "76      pca_77     0.016327\n",
       "3        pca_4     0.016254\n",
       "37      pca_38     0.015899\n",
       "9       pca_10     0.015871\n",
       "39      pca_40     0.015669\n",
       "28      pca_29     0.015658\n",
       "35      pca_36     0.015385\n",
       "6        pca_7     0.014831\n",
       "54      pca_55     0.014824\n",
       "17      pca_18     0.014504\n",
       "2        pca_3     0.013817\n",
       "4        pca_5     0.013639\n",
       "21      pca_22     0.013365\n",
       "32      pca_33     0.013301\n",
       "56      pca_57     0.013160\n",
       "69      pca_70     0.012999\n",
       "38      pca_39     0.012843\n",
       "62      pca_63     0.012675\n",
       "16      pca_17     0.012532\n",
       "34      pca_35     0.012524\n",
       "..         ...          ...\n",
       "30      pca_31     0.010608\n",
       "40      pca_41     0.010396\n",
       "46      pca_47     0.010334\n",
       "78      pca_79     0.010252\n",
       "41      pca_42     0.010157\n",
       "15      pca_16     0.010096\n",
       "45      pca_46     0.010091\n",
       "5        pca_6     0.010085\n",
       "14      pca_15     0.010050\n",
       "70      pca_71     0.010002\n",
       "36      pca_37     0.009831\n",
       "48      pca_49     0.009676\n",
       "59      pca_60     0.009654\n",
       "75      pca_76     0.009498\n",
       "19      pca_20     0.009476\n",
       "55      pca_56     0.009428\n",
       "60      pca_61     0.009213\n",
       "61      pca_62     0.009178\n",
       "71      pca_72     0.009163\n",
       "24      pca_25     0.009146\n",
       "77      pca_78     0.009109\n",
       "57      pca_58     0.009083\n",
       "44      pca_45     0.009036\n",
       "74      pca_75     0.009019\n",
       "11      pca_12     0.008871\n",
       "50      pca_51     0.008813\n",
       "43      pca_44     0.008771\n",
       "47      pca_48     0.008433\n",
       "42      pca_43     0.008004\n",
       "25      pca_26     0.007639\n",
       "\n",
       "[79 rows x 2 columns]"
      ]
     },
     "execution_count": 42,
     "metadata": {},
     "output_type": "execute_result"
    }
   ],
   "source": [
    "rdf_feature_import.sort_values(by=\"feature_imp\", ascending=False)"
   ]
  },
  {
   "cell_type": "markdown",
   "metadata": {},
   "source": [
    "#### L2.2. ===== Random forest, using cv for tuning (legacy)========"
   ]
  },
  {
   "cell_type": "code",
   "execution_count": 37,
   "metadata": {
    "collapsed": true
   },
   "outputs": [
    {
     "name": "stderr",
     "output_type": "stream",
     "text": [
      "/opt/conda/lib/python3.6/site-packages/sklearn/model_selection/_validation.py:458: DataConversionWarning: A column-vector y was passed when a 1d array was expected. Please change the shape of y to (n_samples,), for example using ravel().\n",
      "  estimator.fit(X_train, y_train, **fit_params)\n",
      "/opt/conda/lib/python3.6/site-packages/sklearn/model_selection/_validation.py:458: DataConversionWarning: A column-vector y was passed when a 1d array was expected. Please change the shape of y to (n_samples,), for example using ravel().\n",
      "  estimator.fit(X_train, y_train, **fit_params)\n",
      "/opt/conda/lib/python3.6/site-packages/sklearn/model_selection/_validation.py:458: DataConversionWarning: A column-vector y was passed when a 1d array was expected. Please change the shape of y to (n_samples,), for example using ravel().\n",
      "  estimator.fit(X_train, y_train, **fit_params)\n",
      "/opt/conda/lib/python3.6/site-packages/sklearn/model_selection/_validation.py:458: DataConversionWarning: A column-vector y was passed when a 1d array was expected. Please change the shape of y to (n_samples,), for example using ravel().\n",
      "  estimator.fit(X_train, y_train, **fit_params)\n",
      "/opt/conda/lib/python3.6/site-packages/sklearn/model_selection/_validation.py:458: DataConversionWarning: A column-vector y was passed when a 1d array was expected. Please change the shape of y to (n_samples,), for example using ravel().\n",
      "  estimator.fit(X_train, y_train, **fit_params)\n",
      "/opt/conda/lib/python3.6/site-packages/sklearn/model_selection/_validation.py:458: DataConversionWarning: A column-vector y was passed when a 1d array was expected. Please change the shape of y to (n_samples,), for example using ravel().\n",
      "  estimator.fit(X_train, y_train, **fit_params)\n",
      "/opt/conda/lib/python3.6/site-packages/sklearn/model_selection/_validation.py:458: DataConversionWarning: A column-vector y was passed when a 1d array was expected. Please change the shape of y to (n_samples,), for example using ravel().\n",
      "  estimator.fit(X_train, y_train, **fit_params)\n",
      "/opt/conda/lib/python3.6/site-packages/sklearn/model_selection/_validation.py:458: DataConversionWarning: A column-vector y was passed when a 1d array was expected. Please change the shape of y to (n_samples,), for example using ravel().\n",
      "  estimator.fit(X_train, y_train, **fit_params)\n",
      "/opt/conda/lib/python3.6/site-packages/sklearn/model_selection/_validation.py:458: DataConversionWarning: A column-vector y was passed when a 1d array was expected. Please change the shape of y to (n_samples,), for example using ravel().\n",
      "  estimator.fit(X_train, y_train, **fit_params)\n",
      "/opt/conda/lib/python3.6/site-packages/sklearn/model_selection/_validation.py:458: DataConversionWarning: A column-vector y was passed when a 1d array was expected. Please change the shape of y to (n_samples,), for example using ravel().\n",
      "  estimator.fit(X_train, y_train, **fit_params)\n",
      "/opt/conda/lib/python3.6/site-packages/sklearn/model_selection/_validation.py:458: DataConversionWarning: A column-vector y was passed when a 1d array was expected. Please change the shape of y to (n_samples,), for example using ravel().\n",
      "  estimator.fit(X_train, y_train, **fit_params)\n",
      "/opt/conda/lib/python3.6/site-packages/sklearn/model_selection/_validation.py:458: DataConversionWarning: A column-vector y was passed when a 1d array was expected. Please change the shape of y to (n_samples,), for example using ravel().\n",
      "  estimator.fit(X_train, y_train, **fit_params)\n",
      "/opt/conda/lib/python3.6/site-packages/sklearn/model_selection/_validation.py:458: DataConversionWarning: A column-vector y was passed when a 1d array was expected. Please change the shape of y to (n_samples,), for example using ravel().\n",
      "  estimator.fit(X_train, y_train, **fit_params)\n",
      "/opt/conda/lib/python3.6/site-packages/sklearn/model_selection/_validation.py:458: DataConversionWarning: A column-vector y was passed when a 1d array was expected. Please change the shape of y to (n_samples,), for example using ravel().\n",
      "  estimator.fit(X_train, y_train, **fit_params)\n",
      "/opt/conda/lib/python3.6/site-packages/sklearn/model_selection/_validation.py:458: DataConversionWarning: A column-vector y was passed when a 1d array was expected. Please change the shape of y to (n_samples,), for example using ravel().\n",
      "  estimator.fit(X_train, y_train, **fit_params)\n",
      "/opt/conda/lib/python3.6/site-packages/sklearn/model_selection/_validation.py:458: DataConversionWarning: A column-vector y was passed when a 1d array was expected. Please change the shape of y to (n_samples,), for example using ravel().\n",
      "  estimator.fit(X_train, y_train, **fit_params)\n",
      "/opt/conda/lib/python3.6/site-packages/sklearn/model_selection/_validation.py:458: DataConversionWarning: A column-vector y was passed when a 1d array was expected. Please change the shape of y to (n_samples,), for example using ravel().\n",
      "  estimator.fit(X_train, y_train, **fit_params)\n",
      "/opt/conda/lib/python3.6/site-packages/sklearn/model_selection/_validation.py:458: DataConversionWarning: A column-vector y was passed when a 1d array was expected. Please change the shape of y to (n_samples,), for example using ravel().\n",
      "  estimator.fit(X_train, y_train, **fit_params)\n",
      "/opt/conda/lib/python3.6/site-packages/sklearn/model_selection/_search.py:739: DataConversionWarning: A column-vector y was passed when a 1d array was expected. Please change the shape of y to (n_samples,), for example using ravel().\n",
      "  self.best_estimator_.fit(X, y, **fit_params)\n"
     ]
    },
    {
     "data": {
      "text/plain": [
       "GridSearchCV(cv=StratifiedKFold(n_splits=3, random_state=None, shuffle=False),\n",
       "       error_score='raise',\n",
       "       estimator=RandomForestClassifier(bootstrap=True, class_weight='balanced',\n",
       "            criterion='gini', max_depth=None, max_features='auto',\n",
       "            max_leaf_nodes=None, min_impurity_decrease=0.001,\n",
       "            min_impurity_split=None, min_samples_leaf=1,\n",
       "            min_samples_split=2, min_weight_fraction_leaf=0.0,\n",
       "            n_estimators=200, n_jobs=-1, oob_score=False,\n",
       "            random_state=None, verbose=0, warm_start=False),\n",
       "       fit_params=None, iid=True, n_jobs=1,\n",
       "       param_grid={'max_depth': [6, 8, 10], 'max_features': [0.8, 1]},\n",
       "       pre_dispatch='2*n_jobs', refit=True, return_train_score='warn',\n",
       "       scoring='roc_auc', verbose=0)"
      ]
     },
     "execution_count": 37,
     "metadata": {},
     "output_type": "execute_result"
    }
   ],
   "source": [
    "from sklearn.model_selection import GridSearchCV\n",
    "from sklearn.model_selection import StratifiedKFold\n",
    "\n",
    "from sklearn.ensemble import RandomForestClassifier\n",
    "\n",
    "skf = StratifiedKFold(n_splits=3)\n",
    "\n",
    "rdf = RandomForestClassifier(n_estimators=200,\n",
    "                             min_impurity_decrease=0.001, \n",
    "                             class_weight= \"balanced\",\n",
    "                             n_jobs=-1)\n",
    "\n",
    "\n",
    "\n",
    "rdf_hyperparam = {\"max_depth\": [6,8,10], \"max_features\": [0.8,1]}\n",
    "\n",
    "rdf_clf_1 = GridSearchCV(estimator=rdf, param_grid=rdf_hyperparam, \n",
    "                         cv=skf, scoring='roc_auc',refit=True)\n",
    "\n",
    "rdf_clf_1.fit(X=mailout_train_X_pca, y = mailout_train_clean_Y)"
   ]
  },
  {
   "cell_type": "code",
   "execution_count": 38,
   "metadata": {},
   "outputs": [
    {
     "data": {
      "text/plain": [
       "{'max_depth': 10, 'max_features': 0.8}"
      ]
     },
     "execution_count": 38,
     "metadata": {},
     "output_type": "execute_result"
    }
   ],
   "source": [
    "rdf_clf_1.best_params_"
   ]
  },
  {
   "cell_type": "code",
   "execution_count": 40,
   "metadata": {},
   "outputs": [
    {
     "name": "stdout",
     "output_type": "stream",
     "text": [
      "[{'max_depth': 6, 'max_features': 0.8}, {'max_depth': 6, 'max_features': 1}, {'max_depth': 8, 'max_features': 0.8}, {'max_depth': 8, 'max_features': 1}, {'max_depth': 10, 'max_features': 0.8}, {'max_depth': 10, 'max_features': 1}]\n",
      "[ 0.97861409  0.96280349  0.99077038  0.98004925  0.99424107  0.98561331]\n",
      "[ 0.59346865  0.58806634  0.59388031  0.58617959  0.59867214  0.57701432]\n"
     ]
    },
    {
     "name": "stderr",
     "output_type": "stream",
     "text": [
      "/opt/conda/lib/python3.6/site-packages/sklearn/utils/deprecation.py:122: FutureWarning: You are accessing a training score ('mean_train_score'), which will not be available by default any more in 0.21. If you need training scores, please set return_train_score=True\n",
      "  warnings.warn(*warn_args, **warn_kwargs)\n"
     ]
    }
   ],
   "source": [
    "# the result just looks bad. Perhaps we loose too much useful information\n",
    "\n",
    "print(rdf_clf_1.cv_results_['params'])\n",
    "print(rdf_clf_1.cv_results_[\"mean_train_score\"])\n",
    "print(rdf_clf_1.cv_results_[\"mean_test_score\"])"
   ]
  },
  {
   "cell_type": "code",
   "execution_count": 41,
   "metadata": {},
   "outputs": [],
   "source": [
    "rdf_clf_1_best = rdf_clf_1.best_estimator_\n",
    "\n",
    "with open(\"./clean_data/models/random_forest_1.pkl\", 'wb') as pickle_file:\n",
    "    pickle.dump(rdf_clf_1_best, pickle_file)"
   ]
  },
  {
   "cell_type": "markdown",
   "metadata": {},
   "source": [
    "#### ===== Random forest, using cv for tuning (legacy) END========"
   ]
  },
  {
   "cell_type": "markdown",
   "metadata": {},
   "source": [
    "### ========PCA 1 (legacy) End here============="
   ]
  },
  {
   "cell_type": "code",
   "execution_count": null,
   "metadata": {},
   "outputs": [],
   "source": []
  },
  {
   "cell_type": "markdown",
   "metadata": {},
   "source": [
    "<a id=\"part-2-step2\"><br>\n",
    "### Part 2.2: rescale and pca\n",
    "</a></br>Go to [Table](#table)<br>\n",
    "</a></br>Go to [part 2.1](#part-2-step1)<br>"
   ]
  },
  {
   "cell_type": "markdown",
   "metadata": {},
   "source": [
    "### 2.2.1. apply the new PCA (PCA2 with 150 principla components) here"
   ]
  },
  {
   "cell_type": "code",
   "execution_count": 15,
   "metadata": {},
   "outputs": [
    {
     "name": "stderr",
     "output_type": "stream",
     "text": [
      "/opt/conda/lib/python3.6/site-packages/sklearn/utils/deprecation.py:144: FutureWarning: The sklearn.preprocessing.data module is  deprecated in version 0.22 and will be removed in version 0.24. The corresponding classes / functions should instead be imported from sklearn.preprocessing. Anything that cannot be imported from sklearn.preprocessing is now part of the private API.\n",
      "  warnings.warn(message, FutureWarning)\n",
      "/opt/conda/lib/python3.6/site-packages/sklearn/base.py:318: UserWarning: Trying to unpickle estimator MaxAbsScaler from version 0.19.1 when using version 0.22.2. This might lead to breaking code or invalid results. Use at your own risk.\n",
      "  UserWarning)\n",
      "/opt/conda/lib/python3.6/site-packages/sklearn/utils/deprecation.py:144: FutureWarning: The sklearn.decomposition.pca module is  deprecated in version 0.22 and will be removed in version 0.24. The corresponding classes / functions should instead be imported from sklearn.decomposition. Anything that cannot be imported from sklearn.decomposition is now part of the private API.\n",
      "  warnings.warn(message, FutureWarning)\n",
      "/opt/conda/lib/python3.6/site-packages/sklearn/base.py:318: UserWarning: Trying to unpickle estimator PCA from version 0.19.1 when using version 0.22.2. This might lead to breaking code or invalid results. Use at your own risk.\n",
      "  UserWarning)\n"
     ]
    }
   ],
   "source": [
    "import pickle\n",
    "\n",
    "# load rescaler in a picke file\n",
    "with open('./clean_data/scaler.pkl', 'rb') as pickle_file:\n",
    "        max_abs_scaler_customer = pickle.load(pickle_file)\n",
    "        \n",
    "\n",
    "# load pca_all\n",
    "with open('./clean_data/pca_all.pkl', 'rb') as pickle_file:\n",
    "        pca_all = pickle.load(pickle_file)"
   ]
  },
  {
   "cell_type": "markdown",
   "metadata": {},
   "source": [
    "**apply the saved scaler and pca transfomer**"
   ]
  },
  {
   "cell_type": "code",
   "execution_count": 16,
   "metadata": {},
   "outputs": [
    {
     "data": {
      "text/html": [
       "<div>\n",
       "<style scoped>\n",
       "    .dataframe tbody tr th:only-of-type {\n",
       "        vertical-align: middle;\n",
       "    }\n",
       "\n",
       "    .dataframe tbody tr th {\n",
       "        vertical-align: top;\n",
       "    }\n",
       "\n",
       "    .dataframe thead th {\n",
       "        text-align: right;\n",
       "    }\n",
       "</style>\n",
       "<table border=\"1\" class=\"dataframe\">\n",
       "  <thead>\n",
       "    <tr style=\"text-align: right;\">\n",
       "      <th></th>\n",
       "      <th>pca_1</th>\n",
       "      <th>pca_2</th>\n",
       "      <th>pca_3</th>\n",
       "      <th>pca_4</th>\n",
       "      <th>pca_5</th>\n",
       "      <th>pca_6</th>\n",
       "      <th>pca_7</th>\n",
       "      <th>pca_8</th>\n",
       "      <th>pca_9</th>\n",
       "      <th>pca_10</th>\n",
       "      <th>...</th>\n",
       "      <th>pca_141</th>\n",
       "      <th>pca_142</th>\n",
       "      <th>pca_143</th>\n",
       "      <th>pca_144</th>\n",
       "      <th>pca_145</th>\n",
       "      <th>pca_146</th>\n",
       "      <th>pca_147</th>\n",
       "      <th>pca_148</th>\n",
       "      <th>pca_149</th>\n",
       "      <th>pca_150</th>\n",
       "    </tr>\n",
       "  </thead>\n",
       "  <tbody>\n",
       "    <tr>\n",
       "      <th>0</th>\n",
       "      <td>-1.860474</td>\n",
       "      <td>-2.942631</td>\n",
       "      <td>-0.084402</td>\n",
       "      <td>-0.448251</td>\n",
       "      <td>1.159523</td>\n",
       "      <td>-0.322668</td>\n",
       "      <td>-0.522914</td>\n",
       "      <td>-0.815203</td>\n",
       "      <td>0.014560</td>\n",
       "      <td>-0.050851</td>\n",
       "      <td>...</td>\n",
       "      <td>-0.365931</td>\n",
       "      <td>0.355804</td>\n",
       "      <td>-0.325957</td>\n",
       "      <td>0.181793</td>\n",
       "      <td>0.107030</td>\n",
       "      <td>-0.012522</td>\n",
       "      <td>-0.143042</td>\n",
       "      <td>-0.034096</td>\n",
       "      <td>-0.018559</td>\n",
       "      <td>0.046150</td>\n",
       "    </tr>\n",
       "    <tr>\n",
       "      <th>1</th>\n",
       "      <td>-3.025092</td>\n",
       "      <td>0.196136</td>\n",
       "      <td>-0.343965</td>\n",
       "      <td>0.272909</td>\n",
       "      <td>-1.154563</td>\n",
       "      <td>0.215603</td>\n",
       "      <td>-0.179251</td>\n",
       "      <td>-0.979685</td>\n",
       "      <td>0.132264</td>\n",
       "      <td>-0.105126</td>\n",
       "      <td>...</td>\n",
       "      <td>-0.055766</td>\n",
       "      <td>0.129688</td>\n",
       "      <td>0.160888</td>\n",
       "      <td>0.077109</td>\n",
       "      <td>0.501152</td>\n",
       "      <td>-0.424989</td>\n",
       "      <td>0.018069</td>\n",
       "      <td>0.338300</td>\n",
       "      <td>-0.013672</td>\n",
       "      <td>-0.132237</td>\n",
       "    </tr>\n",
       "    <tr>\n",
       "      <th>2</th>\n",
       "      <td>-2.939660</td>\n",
       "      <td>-0.914823</td>\n",
       "      <td>-0.731033</td>\n",
       "      <td>0.688005</td>\n",
       "      <td>0.004460</td>\n",
       "      <td>-0.121369</td>\n",
       "      <td>0.134214</td>\n",
       "      <td>0.265413</td>\n",
       "      <td>-0.500594</td>\n",
       "      <td>0.826636</td>\n",
       "      <td>...</td>\n",
       "      <td>0.065921</td>\n",
       "      <td>-0.062578</td>\n",
       "      <td>-0.174627</td>\n",
       "      <td>0.247268</td>\n",
       "      <td>0.072720</td>\n",
       "      <td>0.128616</td>\n",
       "      <td>0.025132</td>\n",
       "      <td>0.004088</td>\n",
       "      <td>-0.125638</td>\n",
       "      <td>-0.316107</td>\n",
       "    </tr>\n",
       "    <tr>\n",
       "      <th>3</th>\n",
       "      <td>-2.594172</td>\n",
       "      <td>-1.178409</td>\n",
       "      <td>-1.394763</td>\n",
       "      <td>0.297748</td>\n",
       "      <td>1.734109</td>\n",
       "      <td>-0.844213</td>\n",
       "      <td>1.418758</td>\n",
       "      <td>-0.871785</td>\n",
       "      <td>0.566853</td>\n",
       "      <td>-0.984914</td>\n",
       "      <td>...</td>\n",
       "      <td>-0.133938</td>\n",
       "      <td>-0.193296</td>\n",
       "      <td>-0.044138</td>\n",
       "      <td>-0.023870</td>\n",
       "      <td>0.071799</td>\n",
       "      <td>0.018637</td>\n",
       "      <td>-0.184130</td>\n",
       "      <td>0.012785</td>\n",
       "      <td>0.140768</td>\n",
       "      <td>0.051585</td>\n",
       "    </tr>\n",
       "    <tr>\n",
       "      <th>4</th>\n",
       "      <td>-2.403556</td>\n",
       "      <td>-1.794464</td>\n",
       "      <td>-0.342607</td>\n",
       "      <td>0.182578</td>\n",
       "      <td>1.168364</td>\n",
       "      <td>-0.536863</td>\n",
       "      <td>0.639639</td>\n",
       "      <td>0.076737</td>\n",
       "      <td>-0.521084</td>\n",
       "      <td>1.325973</td>\n",
       "      <td>...</td>\n",
       "      <td>-0.167784</td>\n",
       "      <td>-0.045400</td>\n",
       "      <td>0.267985</td>\n",
       "      <td>-0.010301</td>\n",
       "      <td>0.006767</td>\n",
       "      <td>0.002579</td>\n",
       "      <td>0.012797</td>\n",
       "      <td>-0.045166</td>\n",
       "      <td>0.066582</td>\n",
       "      <td>0.160288</td>\n",
       "    </tr>\n",
       "  </tbody>\n",
       "</table>\n",
       "<p>5 rows × 150 columns</p>\n",
       "</div>"
      ],
      "text/plain": [
       "      pca_1     pca_2     pca_3     pca_4     pca_5     pca_6     pca_7  \\\n",
       "0 -1.860474 -2.942631 -0.084402 -0.448251  1.159523 -0.322668 -0.522914   \n",
       "1 -3.025092  0.196136 -0.343965  0.272909 -1.154563  0.215603 -0.179251   \n",
       "2 -2.939660 -0.914823 -0.731033  0.688005  0.004460 -0.121369  0.134214   \n",
       "3 -2.594172 -1.178409 -1.394763  0.297748  1.734109 -0.844213  1.418758   \n",
       "4 -2.403556 -1.794464 -0.342607  0.182578  1.168364 -0.536863  0.639639   \n",
       "\n",
       "      pca_8     pca_9    pca_10    ...      pca_141   pca_142   pca_143  \\\n",
       "0 -0.815203  0.014560 -0.050851    ...    -0.365931  0.355804 -0.325957   \n",
       "1 -0.979685  0.132264 -0.105126    ...    -0.055766  0.129688  0.160888   \n",
       "2  0.265413 -0.500594  0.826636    ...     0.065921 -0.062578 -0.174627   \n",
       "3 -0.871785  0.566853 -0.984914    ...    -0.133938 -0.193296 -0.044138   \n",
       "4  0.076737 -0.521084  1.325973    ...    -0.167784 -0.045400  0.267985   \n",
       "\n",
       "    pca_144   pca_145   pca_146   pca_147   pca_148   pca_149   pca_150  \n",
       "0  0.181793  0.107030 -0.012522 -0.143042 -0.034096 -0.018559  0.046150  \n",
       "1  0.077109  0.501152 -0.424989  0.018069  0.338300 -0.013672 -0.132237  \n",
       "2  0.247268  0.072720  0.128616  0.025132  0.004088 -0.125638 -0.316107  \n",
       "3 -0.023870  0.071799  0.018637 -0.184130  0.012785  0.140768  0.051585  \n",
       "4 -0.010301  0.006767  0.002579  0.012797 -0.045166  0.066582  0.160288  \n",
       "\n",
       "[5 rows x 150 columns]"
      ]
     },
     "execution_count": 16,
     "metadata": {},
     "output_type": "execute_result"
    }
   ],
   "source": [
    "mailout_train_X_scaled = max_abs_scaler_customer.transform(mailout_train_clean_X)\n",
    "\n",
    "mailout_train_X_pca = pca_all.transform(mailout_train_X_scaled)\n",
    "\n",
    "mailout_train_X_pca = pd.DataFrame(mailout_train_X_pca, columns=list(map(lambda x: \"pca_\"+str(x), np.arange(1, 151))))\n",
    "\n",
    "mailout_train_X_pca.head(5)"
   ]
  },
  {
   "cell_type": "code",
   "execution_count": 18,
   "metadata": {},
   "outputs": [
    {
     "name": "stdout",
     "output_type": "stream",
     "text": [
      "(42962, 150)\n"
     ]
    }
   ],
   "source": [
    "print(mailout_train_X_pca.shape)\n",
    "\n",
    "# save data for further use\n",
    "mailout_train_data_clean = pd.concat([mailout_train_X_pca,mailout_train_clean_Y], axis=1)\n",
    "mailout_train_data_clean.to_csv(\"./clean_data/02_23_2020/mailout_train_data_pca_clean.csv\", index=False)"
   ]
  },
  {
   "cell_type": "code",
   "execution_count": null,
   "metadata": {},
   "outputs": [],
   "source": []
  },
  {
   "cell_type": "markdown",
   "metadata": {},
   "source": [
    "**Import the helper function for scoring**\n",
    "\n",
    "*get_accuracy_auc* will print the (accuracy, AUC-ROC score, AUC_PR score), and AUC-ROC score is the key model performance evaluation."
   ]
  },
  {
   "cell_type": "code",
   "execution_count": 17,
   "metadata": {},
   "outputs": [],
   "source": [
    "from algorithms_try import get_accuracy_auc"
   ]
  },
  {
   "cell_type": "code",
   "execution_count": 18,
   "metadata": {},
   "outputs": [],
   "source": [
    "seed = 1234"
   ]
  },
  {
   "cell_type": "markdown",
   "metadata": {},
   "source": [
    "**training-validation split**"
   ]
  },
  {
   "cell_type": "code",
   "execution_count": 75,
   "metadata": {},
   "outputs": [
    {
     "name": "stdout",
     "output_type": "stream",
     "text": [
      "(30073, 150) (12889, 150)\n",
      "(30073, 1) (12889, 1)\n"
     ]
    }
   ],
   "source": [
    "# train-validation split\n",
    "\n",
    "from sklearn.model_selection import train_test_split\n",
    "\n",
    "X_train, X_valid, y_train, y_valid = train_test_split(mailout_train_X_pca,mailout_train_clean_Y,\n",
    "                                                      test_size=0.3, stratify= mailout_train_clean_Y,\n",
    "                                                      random_state=seed)\n",
    "\n",
    "print(X_train.shape, X_valid.shape)\n",
    "\n",
    "print(y_train.shape, y_valid.shape)"
   ]
  },
  {
   "cell_type": "markdown",
   "metadata": {},
   "source": [
    "### 2.2.2 XGB (2020/02/23)\n",
    "\n",
    "```Bash\n",
    "pip install xgboost\n",
    "# xgboost-1.0.1\n",
    "```"
   ]
  },
  {
   "cell_type": "markdown",
   "metadata": {},
   "source": [
    "**train with early stop**"
   ]
  },
  {
   "cell_type": "code",
   "execution_count": 21,
   "metadata": {},
   "outputs": [
    {
     "name": "stderr",
     "output_type": "stream",
     "text": [
      "/opt/conda/lib/python3.6/site-packages/sklearn/preprocessing/_label.py:235: DataConversionWarning: A column-vector y was passed when a 1d array was expected. Please change the shape of y to (n_samples, ), for example using ravel().\n",
      "  y = column_or_1d(y, warn=True)\n",
      "/opt/conda/lib/python3.6/site-packages/sklearn/preprocessing/_label.py:268: DataConversionWarning: A column-vector y was passed when a 1d array was expected. Please change the shape of y to (n_samples, ), for example using ravel().\n",
      "  y = column_or_1d(y, warn=True)\n"
     ]
    },
    {
     "name": "stdout",
     "output_type": "stream",
     "text": [
      "0.652766 \n",
      " 23 \n",
      " 24\n"
     ]
    }
   ],
   "source": [
    "import xgboost as xgb\n",
    "\n",
    "p_n_weight = 0.98761696/0.01238304\n",
    "\n",
    "param_dist = {'objective':'binary:logistic', \n",
    "              'n_estimators':500,\n",
    "              \"max_depth\": 6,\n",
    "              \"learning_rate\": 0.02,\n",
    "              \"subsample\": 0.8,\n",
    "              \"colsample_bylevel\": 0.8,\n",
    "              \"colsample_bytree\": 0.8,\n",
    "              \"scale_pos_weight\": p_n_weight,\n",
    "              \"min_child_weight\": 200,\n",
    "              \"seed\": seed\n",
    "             }\n",
    "\n",
    "xgb_clf = xgb.XGBClassifier(**param_dist)\n",
    "\n",
    "xgb_clf.fit(X_train.values, y_train.values,\n",
    "        eval_set=[(X_train.values, y_train.values), (X_valid.values, y_valid.values)],\n",
    "        eval_metric='auc',\n",
    "        early_stopping_rounds=15,\n",
    "        verbose=False)\n",
    "\n",
    "print(xgb_clf.best_score, \"\\n\", xgb_clf.best_iteration, \"\\n\",  xgb_clf.best_ntree_limit)"
   ]
  },
  {
   "cell_type": "code",
   "execution_count": 22,
   "metadata": {},
   "outputs": [
    {
     "name": "stdout",
     "output_type": "stream",
     "text": [
      "500\n",
      "0.652766 \n",
      " 23 \n",
      " 24\n"
     ]
    }
   ],
   "source": [
    "print(xgb_clf.get_num_boosting_rounds())\n",
    "\n",
    "print(xgb_clf.best_score, \"\\n\", xgb_clf.best_iteration, \"\\n\",  xgb_clf.best_ntree_limit)\n"
   ]
  },
  {
   "cell_type": "markdown",
   "metadata": {},
   "source": [
    "**check the auc scores on training set and validation set**"
   ]
  },
  {
   "cell_type": "code",
   "execution_count": 23,
   "metadata": {},
   "outputs": [
    {
     "name": "stdout",
     "output_type": "stream",
     "text": [
      "[0.69286, 0.752378, 0.792675, 0.828809, 0.84606, 0.866296, 0.874427, 0.876204, 0.888449, 0.896589, 0.901064, 0.912074, 0.918786, 0.923154, 0.922046, 0.923626, 0.924994, 0.926269, 0.928127, 0.930021, 0.930126, 0.934051, 0.936675, 0.938225, 0.939443, 0.939186, 0.941979, 0.943996, 0.945488, 0.94648, 0.947966, 0.947622, 0.950285, 0.951441, 0.951511, 0.951719, 0.953037, 0.953979]\n",
      "[0.582329, 0.597785, 0.624611, 0.632885, 0.632516, 0.635113, 0.640639, 0.638747, 0.645119, 0.639513, 0.634177, 0.634376, 0.63847, 0.640789, 0.639123, 0.643704, 0.643919, 0.64322, 0.64398, 0.645829, 0.648572, 0.650212, 0.649775, 0.652766, 0.648702, 0.647686, 0.64609, 0.649807, 0.647496, 0.645038, 0.642898, 0.642555, 0.638568, 0.63933, 0.638567, 0.636759, 0.637698, 0.638506]\n"
     ]
    }
   ],
   "source": [
    "evals_result = xgb_clf.evals_result()\n",
    "\n",
    "# this is for training set\n",
    "print(evals_result[\"validation_0\"][\"auc\"])\n",
    "# this is for validation set\n",
    "print(evals_result[\"validation_1\"][\"auc\"])"
   ]
  },
  {
   "cell_type": "markdown",
   "metadata": {},
   "source": [
    "**refit the model with whole dataset**"
   ]
  },
  {
   "cell_type": "code",
   "execution_count": 28,
   "metadata": {},
   "outputs": [
    {
     "data": {
      "text/plain": [
       "XGBClassifier(base_score=0.5, booster=None, colsample_bylevel=0.8,\n",
       "              colsample_bynode=1, colsample_bytree=0.8, gamma=0, gpu_id=-1,\n",
       "              importance_type='gain', interaction_constraints=None,\n",
       "              learning_rate=0.02, max_delta_step=0, max_depth=6,\n",
       "              min_child_weight=200, missing=nan, monotone_constraints=None,\n",
       "              n_estimators=24, n_jobs=0, num_parallel_tree=1,\n",
       "              objective='binary:logistic', random_state=1234, reg_alpha=0,\n",
       "              reg_lambda=1, scale_pos_weight=79.75561413029433, seed=1234,\n",
       "              subsample=0.8, tree_method=None, validate_parameters=False,\n",
       "              verbosity=None)"
      ]
     },
     "execution_count": 28,
     "metadata": {},
     "output_type": "execute_result"
    }
   ],
   "source": [
    "### refit the model with whole dataset\n",
    "\n",
    "import xgboost as xgb\n",
    "\n",
    "p_n_weight = 0.98761696/0.01238304\n",
    "\n",
    "\n",
    "param_dist = {'objective':'binary:logistic', \n",
    "              'n_estimators':24,\n",
    "              \"max_depth\": 6,\n",
    "              \"learning_rate\": 0.02,\n",
    "              \"subsample\": 0.8,\n",
    "              \"colsample_bylevel\": 0.8,\n",
    "              \"colsample_bytree\": 0.8,\n",
    "              \"scale_pos_weight\": p_n_weight,\n",
    "              \"min_child_weight\": 200,\n",
    "              \"seed\": seed\n",
    "             }\n",
    "\n",
    "xgb_clf = xgb.XGBClassifier(**param_dist)\n",
    "\n",
    "xgb_clf.fit(mailout_train_X_pca.values, mailout_train_clean_Y.values.ravel(),\n",
    "        eval_set=[(X_valid.values, y_valid.values.ravel())],\n",
    "        eval_metric='auc',\n",
    "        verbose=False)"
   ]
  },
  {
   "cell_type": "code",
   "execution_count": 29,
   "metadata": {
    "collapsed": true
   },
   "outputs": [
    {
     "data": {
      "text/plain": [
       "{'validation_0': {'auc': [0.683231,\n",
       "   0.767335,\n",
       "   0.815575,\n",
       "   0.827404,\n",
       "   0.827215,\n",
       "   0.83666,\n",
       "   0.862558,\n",
       "   0.868045,\n",
       "   0.881243,\n",
       "   0.884128,\n",
       "   0.884763,\n",
       "   0.89226,\n",
       "   0.896174,\n",
       "   0.895392,\n",
       "   0.892216,\n",
       "   0.891101,\n",
       "   0.895552,\n",
       "   0.898838,\n",
       "   0.902867,\n",
       "   0.909229,\n",
       "   0.913225,\n",
       "   0.914905,\n",
       "   0.916273,\n",
       "   0.91593]}}"
      ]
     },
     "execution_count": 29,
     "metadata": {},
     "output_type": "execute_result"
    }
   ],
   "source": [
    "evals_result = xgb_clf.evals_result()\n",
    "\n",
    "evals_result"
   ]
  },
  {
   "cell_type": "markdown",
   "metadata": {},
   "source": [
    "**save the trained xgb model**"
   ]
  },
  {
   "cell_type": "code",
   "execution_count": 30,
   "metadata": {},
   "outputs": [],
   "source": [
    "with open(\"./clean_data/02_23_2020/models/xgb_v1.pkl\", 'wb') as pickle_file:\n",
    "    pickle.dump(xgb_clf, pickle_file)"
   ]
  },
  {
   "cell_type": "markdown",
   "metadata": {},
   "source": [
    "**try xgboost with very small depth and also try a smaller learning rate to avoid overfitting**\n",
    "\n",
    "Note: it turned out this didn't help, only building more trees"
   ]
  },
  {
   "cell_type": "code",
   "execution_count": 66,
   "metadata": {},
   "outputs": [],
   "source": [
    "### we should try xgboost with very small depth to avoid overfitting\n",
    "\n",
    "# ./helper_functions/algorithms_try.py\n",
    "from algorithms_try import xgb_train"
   ]
  },
  {
   "cell_type": "code",
   "execution_count": 70,
   "metadata": {},
   "outputs": [
    {
     "name": "stdout",
     "output_type": "stream",
     "text": [
      "0.620436 \n",
      " 210 \n",
      " 211\n"
     ]
    }
   ],
   "source": [
    "### doesn't help!\n",
    "p_n_weight = 0.98761696/0.01238304\n",
    "\n",
    "param_dist = {'objective':'binary:logistic', \n",
    "              'n_estimators':500,\n",
    "              \"max_depth\": 2,\n",
    "              \"learning_rate\": 0.01,\n",
    "              \"subsample\": 1,\n",
    "              \"colsample_bylevel\": 0.8,\n",
    "              \"colsample_bytree\": 0.8,\n",
    "              \"scale_pos_weight\": p_n_weight,\n",
    "              \"min_child_weight\": 200,\n",
    "              \"seed\": seed\n",
    "             }\n",
    "\n",
    "\n",
    "xgb_clf_v2 = xgb_train(X_train, y_train, \n",
    "                       X_valid, y_valid,\n",
    "                       mailout_train_X_pca, mailout_train_clean_Y,\n",
    "                       param_dist,early_stopping_rounds=30)\n",
    "\n",
    "# the print information\n",
    "# print(xgb_clf.best_score, \"\\n\", xgb_clf.best_iteration, \"\\n\",  xgb_clf.best_ntree_limit)"
   ]
  },
  {
   "cell_type": "markdown",
   "metadata": {},
   "source": [
    "### 2.2.3 XGB with calibration (2020/02/29)\n",
    "\n",
    "Also try to calibarate the output score from XGB classfier, so the socre has a meaning of probability, but later I realized this will not improve the AUC score. You can just skip this section.\n",
    "```Python\n",
    "from sklearn.calibration import CalibratedClassifierCV\n",
    "```"
   ]
  },
  {
   "cell_type": "code",
   "execution_count": 88,
   "metadata": {},
   "outputs": [
    {
     "data": {
      "text/plain": [
       "XGBClassifier(base_score=0.5, booster=None, colsample_bylevel=0.8,\n",
       "              colsample_bynode=1, colsample_bytree=0.8, gamma=0, gpu_id=-1,\n",
       "              importance_type='gain', interaction_constraints=None,\n",
       "              learning_rate=0.02, max_delta_step=0, max_depth=6,\n",
       "              min_child_weight=200, missing=nan, monotone_constraints=None,\n",
       "              n_estimators=24, n_jobs=0, num_parallel_tree=1,\n",
       "              objective='binary:logistic', random_state=1234, reg_alpha=0,\n",
       "              reg_lambda=1, scale_pos_weight=79.75561413029433, seed=1234,\n",
       "              subsample=0.8, tree_method=None, validate_parameters=False,\n",
       "              verbosity=None)"
      ]
     },
     "execution_count": 88,
     "metadata": {},
     "output_type": "execute_result"
    }
   ],
   "source": [
    "### refit the model with whole dataset\n",
    "\n",
    "import xgboost as xgb\n",
    "\n",
    "p_n_weight = 0.98761696/0.01238304\n",
    "\n",
    "\n",
    "param_dist = {'objective':'binary:logistic', \n",
    "              'n_estimators':24,\n",
    "              \"max_depth\": 6,\n",
    "              \"learning_rate\": 0.02,\n",
    "              \"subsample\": 0.8,\n",
    "              \"colsample_bylevel\": 0.8,\n",
    "              \"colsample_bytree\": 0.8,\n",
    "              \"scale_pos_weight\": p_n_weight,\n",
    "              \"min_child_weight\": 200,\n",
    "              \"seed\": seed\n",
    "             }\n",
    "\n",
    "xgb_clf = xgb.XGBClassifier(**param_dist)\n",
    "\n",
    "xgb_clf.fit(mailout_train_X_pca.values, mailout_train_clean_Y.values.ravel(),\n",
    "        eval_set=[(X_valid.values, y_valid.values.ravel())],\n",
    "        eval_metric='auc',\n",
    "        verbose=False)"
   ]
  },
  {
   "cell_type": "code",
   "execution_count": 89,
   "metadata": {},
   "outputs": [
    {
     "name": "stdout",
     "output_type": "stream",
     "text": [
      "(0.82721700674994181, 0.91593015947835654, 0.14678077481649143)\n"
     ]
    }
   ],
   "source": [
    "score_valid = get_accuracy_auc(xgb_clf, X_valid.values, y_valid.values.ravel())\n",
    "\n",
    "print(score_valid)"
   ]
  },
  {
   "cell_type": "code",
   "execution_count": 90,
   "metadata": {},
   "outputs": [
    {
     "name": "stdout",
     "output_type": "stream",
     "text": [
      "(0.82270378474000283, 0.91649871349360923, 0.15721966871024276)\n"
     ]
    }
   ],
   "source": [
    "score_whole = get_accuracy_auc(xgb_clf, mailout_train_X_pca.values, mailout_train_clean_Y.values.ravel())\n",
    "\n",
    "print(score_whole)"
   ]
  },
  {
   "cell_type": "code",
   "execution_count": 81,
   "metadata": {},
   "outputs": [],
   "source": [
    "from sklearn.calibration import CalibratedClassifierCV"
   ]
  },
  {
   "cell_type": "code",
   "execution_count": 91,
   "metadata": {},
   "outputs": [],
   "source": [
    "xgb_clf_sig = CalibratedClassifierCV(xgb_clf, method=\"sigmoid\", cv=\"prefit\")"
   ]
  },
  {
   "cell_type": "code",
   "execution_count": 92,
   "metadata": {},
   "outputs": [
    {
     "data": {
      "text/plain": [
       "CalibratedClassifierCV(base_estimator=XGBClassifier(base_score=0.5,\n",
       "                                                    booster=None,\n",
       "                                                    colsample_bylevel=0.8,\n",
       "                                                    colsample_bynode=1,\n",
       "                                                    colsample_bytree=0.8,\n",
       "                                                    gamma=0, gpu_id=-1,\n",
       "                                                    importance_type='gain',\n",
       "                                                    interaction_constraints=None,\n",
       "                                                    learning_rate=0.02,\n",
       "                                                    max_delta_step=0,\n",
       "                                                    max_depth=6,\n",
       "                                                    min_child_weight=200,\n",
       "                                                    missing=nan,\n",
       "                                                    monotone_constraints=None,\n",
       "                                                    n_estimators=24, n_jobs=0,\n",
       "                                                    num_parallel_tree=1,\n",
       "                                                    objective='binary:logistic',\n",
       "                                                    random_state=1234,\n",
       "                                                    reg_alpha=0, reg_lambda=1,\n",
       "                                                    scale_pos_weight=79.75561413029433,\n",
       "                                                    seed=1234, subsample=0.8,\n",
       "                                                    tree_method=None,\n",
       "                                                    validate_parameters=False,\n",
       "                                                    verbosity=None),\n",
       "                       cv='prefit', method='sigmoid')"
      ]
     },
     "execution_count": 92,
     "metadata": {},
     "output_type": "execute_result"
    }
   ],
   "source": [
    "xgb_clf_sig.fit(mailout_train_X_pca.values, mailout_train_clean_Y.values.ravel())"
   ]
  },
  {
   "cell_type": "code",
   "execution_count": 93,
   "metadata": {},
   "outputs": [
    {
     "data": {
      "text/plain": [
       "array([ 0.00263785,  0.00030896,  0.0005089 , ...,  0.05726951,\n",
       "        0.00553379,  0.00235076])"
      ]
     },
     "execution_count": 93,
     "metadata": {},
     "output_type": "execute_result"
    }
   ],
   "source": [
    "sig_clf_probs = xgb_clf_sig.predict_proba(mailout_train_X_pca.values)\n",
    "\n",
    "sig_clf_probs[:,1]"
   ]
  },
  {
   "cell_type": "code",
   "execution_count": 94,
   "metadata": {},
   "outputs": [
    {
     "name": "stdout",
     "output_type": "stream",
     "text": [
      "(0.98768679297984263, 0.91649871349360923, 0.15721966871024276)\n"
     ]
    }
   ],
   "source": [
    "score_valid_sig = get_accuracy_auc(xgb_clf_sig, mailout_train_X_pca.values, mailout_train_clean_Y.values.ravel())\n",
    "\n",
    "print(score_valid_sig)"
   ]
  },
  {
   "cell_type": "code",
   "execution_count": 96,
   "metadata": {},
   "outputs": [
    {
     "data": {
      "text/plain": [
       "array([ 0.46994191,  0.42946911,  0.43888113, ...,  0.52902716,\n",
       "        0.48396444,  0.4677642 ], dtype=float32)"
      ]
     },
     "execution_count": 96,
     "metadata": {},
     "output_type": "execute_result"
    }
   ],
   "source": [
    "clf_probs = xgb_clf.predict_proba(mailout_train_X_pca.values)\n",
    "\n",
    "clf_probs[:,1]"
   ]
  },
  {
   "cell_type": "markdown",
   "metadata": {},
   "source": [
    "### 2.2.4. let's do another round of random forest (2020/02/23)\n",
    "\n",
    "* check the effect of the number of trees\n",
    "* note that {\"max_depth\": 8, \"max_features\": 0.8} has been tested and is a reasonable choice"
   ]
  },
  {
   "cell_type": "code",
   "execution_count": 34,
   "metadata": {},
   "outputs": [
    {
     "name": "stdout",
     "output_type": "stream",
     "text": [
      "(0.9809131114288564, 0.98512671815474162, 0.33049466560304014)\n",
      "(0.970672666614943, 0.62119152132924804, 0.019475448573507574)\n"
     ]
    }
   ],
   "source": [
    "# use Random forest\n",
    "# fit the first one with 150 trees as the starting model\n",
    "\n",
    "from sklearn.ensemble import RandomForestClassifier\n",
    "\n",
    "rdf_hyperparam = {\"max_depth\": 8, \"max_features\": 0.8, \n",
    "                  \"class_weight\": \"balanced\",\n",
    "                  \"max_samples\": 0.8,\n",
    "                  \"n_jobs\": -1, \"random_state\": seed}\n",
    "\n",
    "min_estimators = 150; max_estimators = 250\n",
    "\n",
    "rdf_clf = RandomForestClassifier(**rdf_hyperparam)\n",
    "\n",
    "all_scores = [] #(accuracy, AUC-ROC, AUC-PR) for validation set\n",
    "all_scores_train = [] # #(accuracy, AUC-ROC, AUC-PR) for training set\n",
    "####\n",
    "rdf_clf.set_params(n_estimators=min_estimators)\n",
    "rdf_clf.fit(X=X_train.values, y=y_train.values.ravel())\n",
    "\n",
    "scores_train = get_accuracy_auc(rdf_clf, X_train.values, y_train.values.ravel())\n",
    "print(scores_train)\n",
    "all_scores_train.append(scores_train)\n",
    "\n",
    "scores = get_accuracy_auc(rdf_clf, X_valid.values, y_valid.values.ravel())\n",
    "print(scores)\n",
    "\n",
    "all_scores.append(scores)  \n",
    "\n",
    "# print information\n",
    "#(accuracy, AUC-ROC, AUC-PR)"
   ]
  },
  {
   "cell_type": "markdown",
   "metadata": {},
   "source": [
    "__Additional note:__\n",
    "```Python\n",
    "Look like we have the overfitting issue. I played with the max_sample parameter to see if this can help. But it didn't relieve the overfitting issue\n",
    "Performance on training set:\n",
    "(0.97545971469424397, 0.98613683040975042, 0.35201185509738747)\n",
    "Performance on validation set:\n",
    "(0.96345721157576225, 0.61097174758425643, 0.019517748652442178)\n",
    "```"
   ]
  },
  {
   "cell_type": "markdown",
   "metadata": {},
   "source": [
    "**Loop over [151, 250] number of trees to see how the number of trees can improve the performance**"
   ]
  },
  {
   "cell_type": "code",
   "execution_count": 35,
   "metadata": {},
   "outputs": [
    {
     "name": "stderr",
     "output_type": "stream",
     "text": [
      "/opt/conda/lib/python3.6/site-packages/sklearn/ensemble/_forest.py:569: UserWarning: class_weight presets \"balanced\" or \"balanced_subsample\" are not recommended for warm_start if the fitted data differs from the full dataset. In order to use \"balanced\" weights, use compute_class_weight (\"balanced\", classes, y). In place of y you can use a large enough sample of the full training set target to properly estimate the class frequency distributions. Pass the resulting weights as the class_weight parameter.\n",
      "  warn('class_weight presets \"balanced\" or '\n",
      "/opt/conda/lib/python3.6/site-packages/sklearn/ensemble/_forest.py:569: UserWarning: class_weight presets \"balanced\" or \"balanced_subsample\" are not recommended for warm_start if the fitted data differs from the full dataset. In order to use \"balanced\" weights, use compute_class_weight (\"balanced\", classes, y). In place of y you can use a large enough sample of the full training set target to properly estimate the class frequency distributions. Pass the resulting weights as the class_weight parameter.\n",
      "  warn('class_weight presets \"balanced\" or '\n",
      "/opt/conda/lib/python3.6/site-packages/sklearn/ensemble/_forest.py:569: UserWarning: class_weight presets \"balanced\" or \"balanced_subsample\" are not recommended for warm_start if the fitted data differs from the full dataset. In order to use \"balanced\" weights, use compute_class_weight (\"balanced\", classes, y). In place of y you can use a large enough sample of the full training set target to properly estimate the class frequency distributions. Pass the resulting weights as the class_weight parameter.\n",
      "  warn('class_weight presets \"balanced\" or '\n",
      "/opt/conda/lib/python3.6/site-packages/sklearn/ensemble/_forest.py:569: UserWarning: class_weight presets \"balanced\" or \"balanced_subsample\" are not recommended for warm_start if the fitted data differs from the full dataset. In order to use \"balanced\" weights, use compute_class_weight (\"balanced\", classes, y). In place of y you can use a large enough sample of the full training set target to properly estimate the class frequency distributions. Pass the resulting weights as the class_weight parameter.\n",
      "  warn('class_weight presets \"balanced\" or '\n",
      "/opt/conda/lib/python3.6/site-packages/sklearn/ensemble/_forest.py:569: UserWarning: class_weight presets \"balanced\" or \"balanced_subsample\" are not recommended for warm_start if the fitted data differs from the full dataset. In order to use \"balanced\" weights, use compute_class_weight (\"balanced\", classes, y). In place of y you can use a large enough sample of the full training set target to properly estimate the class frequency distributions. Pass the resulting weights as the class_weight parameter.\n",
      "  warn('class_weight presets \"balanced\" or '\n",
      "/opt/conda/lib/python3.6/site-packages/sklearn/ensemble/_forest.py:569: UserWarning: class_weight presets \"balanced\" or \"balanced_subsample\" are not recommended for warm_start if the fitted data differs from the full dataset. In order to use \"balanced\" weights, use compute_class_weight (\"balanced\", classes, y). In place of y you can use a large enough sample of the full training set target to properly estimate the class frequency distributions. Pass the resulting weights as the class_weight parameter.\n",
      "  warn('class_weight presets \"balanced\" or '\n",
      "/opt/conda/lib/python3.6/site-packages/sklearn/ensemble/_forest.py:569: UserWarning: class_weight presets \"balanced\" or \"balanced_subsample\" are not recommended for warm_start if the fitted data differs from the full dataset. In order to use \"balanced\" weights, use compute_class_weight (\"balanced\", classes, y). In place of y you can use a large enough sample of the full training set target to properly estimate the class frequency distributions. Pass the resulting weights as the class_weight parameter.\n",
      "  warn('class_weight presets \"balanced\" or '\n",
      "/opt/conda/lib/python3.6/site-packages/sklearn/ensemble/_forest.py:569: UserWarning: class_weight presets \"balanced\" or \"balanced_subsample\" are not recommended for warm_start if the fitted data differs from the full dataset. In order to use \"balanced\" weights, use compute_class_weight (\"balanced\", classes, y). In place of y you can use a large enough sample of the full training set target to properly estimate the class frequency distributions. Pass the resulting weights as the class_weight parameter.\n",
      "  warn('class_weight presets \"balanced\" or '\n",
      "/opt/conda/lib/python3.6/site-packages/sklearn/ensemble/_forest.py:569: UserWarning: class_weight presets \"balanced\" or \"balanced_subsample\" are not recommended for warm_start if the fitted data differs from the full dataset. In order to use \"balanced\" weights, use compute_class_weight (\"balanced\", classes, y). In place of y you can use a large enough sample of the full training set target to properly estimate the class frequency distributions. Pass the resulting weights as the class_weight parameter.\n",
      "  warn('class_weight presets \"balanced\" or '\n",
      "/opt/conda/lib/python3.6/site-packages/sklearn/ensemble/_forest.py:569: UserWarning: class_weight presets \"balanced\" or \"balanced_subsample\" are not recommended for warm_start if the fitted data differs from the full dataset. In order to use \"balanced\" weights, use compute_class_weight (\"balanced\", classes, y). In place of y you can use a large enough sample of the full training set target to properly estimate the class frequency distributions. Pass the resulting weights as the class_weight parameter.\n",
      "  warn('class_weight presets \"balanced\" or '\n",
      "/opt/conda/lib/python3.6/site-packages/sklearn/ensemble/_forest.py:569: UserWarning: class_weight presets \"balanced\" or \"balanced_subsample\" are not recommended for warm_start if the fitted data differs from the full dataset. In order to use \"balanced\" weights, use compute_class_weight (\"balanced\", classes, y). In place of y you can use a large enough sample of the full training set target to properly estimate the class frequency distributions. Pass the resulting weights as the class_weight parameter.\n",
      "  warn('class_weight presets \"balanced\" or '\n",
      "/opt/conda/lib/python3.6/site-packages/sklearn/ensemble/_forest.py:569: UserWarning: class_weight presets \"balanced\" or \"balanced_subsample\" are not recommended for warm_start if the fitted data differs from the full dataset. In order to use \"balanced\" weights, use compute_class_weight (\"balanced\", classes, y). In place of y you can use a large enough sample of the full training set target to properly estimate the class frequency distributions. Pass the resulting weights as the class_weight parameter.\n",
      "  warn('class_weight presets \"balanced\" or '\n",
      "/opt/conda/lib/python3.6/site-packages/sklearn/ensemble/_forest.py:569: UserWarning: class_weight presets \"balanced\" or \"balanced_subsample\" are not recommended for warm_start if the fitted data differs from the full dataset. In order to use \"balanced\" weights, use compute_class_weight (\"balanced\", classes, y). In place of y you can use a large enough sample of the full training set target to properly estimate the class frequency distributions. Pass the resulting weights as the class_weight parameter.\n",
      "  warn('class_weight presets \"balanced\" or '\n",
      "/opt/conda/lib/python3.6/site-packages/sklearn/ensemble/_forest.py:569: UserWarning: class_weight presets \"balanced\" or \"balanced_subsample\" are not recommended for warm_start if the fitted data differs from the full dataset. In order to use \"balanced\" weights, use compute_class_weight (\"balanced\", classes, y). In place of y you can use a large enough sample of the full training set target to properly estimate the class frequency distributions. Pass the resulting weights as the class_weight parameter.\n",
      "  warn('class_weight presets \"balanced\" or '\n",
      "/opt/conda/lib/python3.6/site-packages/sklearn/ensemble/_forest.py:569: UserWarning: class_weight presets \"balanced\" or \"balanced_subsample\" are not recommended for warm_start if the fitted data differs from the full dataset. In order to use \"balanced\" weights, use compute_class_weight (\"balanced\", classes, y). In place of y you can use a large enough sample of the full training set target to properly estimate the class frequency distributions. Pass the resulting weights as the class_weight parameter.\n",
      "  warn('class_weight presets \"balanced\" or '\n",
      "/opt/conda/lib/python3.6/site-packages/sklearn/ensemble/_forest.py:569: UserWarning: class_weight presets \"balanced\" or \"balanced_subsample\" are not recommended for warm_start if the fitted data differs from the full dataset. In order to use \"balanced\" weights, use compute_class_weight (\"balanced\", classes, y). In place of y you can use a large enough sample of the full training set target to properly estimate the class frequency distributions. Pass the resulting weights as the class_weight parameter.\n",
      "  warn('class_weight presets \"balanced\" or '\n",
      "/opt/conda/lib/python3.6/site-packages/sklearn/ensemble/_forest.py:569: UserWarning: class_weight presets \"balanced\" or \"balanced_subsample\" are not recommended for warm_start if the fitted data differs from the full dataset. In order to use \"balanced\" weights, use compute_class_weight (\"balanced\", classes, y). In place of y you can use a large enough sample of the full training set target to properly estimate the class frequency distributions. Pass the resulting weights as the class_weight parameter.\n",
      "  warn('class_weight presets \"balanced\" or '\n",
      "/opt/conda/lib/python3.6/site-packages/sklearn/ensemble/_forest.py:569: UserWarning: class_weight presets \"balanced\" or \"balanced_subsample\" are not recommended for warm_start if the fitted data differs from the full dataset. In order to use \"balanced\" weights, use compute_class_weight (\"balanced\", classes, y). In place of y you can use a large enough sample of the full training set target to properly estimate the class frequency distributions. Pass the resulting weights as the class_weight parameter.\n",
      "  warn('class_weight presets \"balanced\" or '\n",
      "/opt/conda/lib/python3.6/site-packages/sklearn/ensemble/_forest.py:569: UserWarning: class_weight presets \"balanced\" or \"balanced_subsample\" are not recommended for warm_start if the fitted data differs from the full dataset. In order to use \"balanced\" weights, use compute_class_weight (\"balanced\", classes, y). In place of y you can use a large enough sample of the full training set target to properly estimate the class frequency distributions. Pass the resulting weights as the class_weight parameter.\n",
      "  warn('class_weight presets \"balanced\" or '\n",
      "/opt/conda/lib/python3.6/site-packages/sklearn/ensemble/_forest.py:569: UserWarning: class_weight presets \"balanced\" or \"balanced_subsample\" are not recommended for warm_start if the fitted data differs from the full dataset. In order to use \"balanced\" weights, use compute_class_weight (\"balanced\", classes, y). In place of y you can use a large enough sample of the full training set target to properly estimate the class frequency distributions. Pass the resulting weights as the class_weight parameter.\n",
      "  warn('class_weight presets \"balanced\" or '\n",
      "/opt/conda/lib/python3.6/site-packages/sklearn/ensemble/_forest.py:569: UserWarning: class_weight presets \"balanced\" or \"balanced_subsample\" are not recommended for warm_start if the fitted data differs from the full dataset. In order to use \"balanced\" weights, use compute_class_weight (\"balanced\", classes, y). In place of y you can use a large enough sample of the full training set target to properly estimate the class frequency distributions. Pass the resulting weights as the class_weight parameter.\n",
      "  warn('class_weight presets \"balanced\" or '\n",
      "/opt/conda/lib/python3.6/site-packages/sklearn/ensemble/_forest.py:569: UserWarning: class_weight presets \"balanced\" or \"balanced_subsample\" are not recommended for warm_start if the fitted data differs from the full dataset. In order to use \"balanced\" weights, use compute_class_weight (\"balanced\", classes, y). In place of y you can use a large enough sample of the full training set target to properly estimate the class frequency distributions. Pass the resulting weights as the class_weight parameter.\n",
      "  warn('class_weight presets \"balanced\" or '\n",
      "/opt/conda/lib/python3.6/site-packages/sklearn/ensemble/_forest.py:569: UserWarning: class_weight presets \"balanced\" or \"balanced_subsample\" are not recommended for warm_start if the fitted data differs from the full dataset. In order to use \"balanced\" weights, use compute_class_weight (\"balanced\", classes, y). In place of y you can use a large enough sample of the full training set target to properly estimate the class frequency distributions. Pass the resulting weights as the class_weight parameter.\n",
      "  warn('class_weight presets \"balanced\" or '\n",
      "/opt/conda/lib/python3.6/site-packages/sklearn/ensemble/_forest.py:569: UserWarning: class_weight presets \"balanced\" or \"balanced_subsample\" are not recommended for warm_start if the fitted data differs from the full dataset. In order to use \"balanced\" weights, use compute_class_weight (\"balanced\", classes, y). In place of y you can use a large enough sample of the full training set target to properly estimate the class frequency distributions. Pass the resulting weights as the class_weight parameter.\n",
      "  warn('class_weight presets \"balanced\" or '\n",
      "/opt/conda/lib/python3.6/site-packages/sklearn/ensemble/_forest.py:569: UserWarning: class_weight presets \"balanced\" or \"balanced_subsample\" are not recommended for warm_start if the fitted data differs from the full dataset. In order to use \"balanced\" weights, use compute_class_weight (\"balanced\", classes, y). In place of y you can use a large enough sample of the full training set target to properly estimate the class frequency distributions. Pass the resulting weights as the class_weight parameter.\n",
      "  warn('class_weight presets \"balanced\" or '\n",
      "/opt/conda/lib/python3.6/site-packages/sklearn/ensemble/_forest.py:569: UserWarning: class_weight presets \"balanced\" or \"balanced_subsample\" are not recommended for warm_start if the fitted data differs from the full dataset. In order to use \"balanced\" weights, use compute_class_weight (\"balanced\", classes, y). In place of y you can use a large enough sample of the full training set target to properly estimate the class frequency distributions. Pass the resulting weights as the class_weight parameter.\n",
      "  warn('class_weight presets \"balanced\" or '\n",
      "/opt/conda/lib/python3.6/site-packages/sklearn/ensemble/_forest.py:569: UserWarning: class_weight presets \"balanced\" or \"balanced_subsample\" are not recommended for warm_start if the fitted data differs from the full dataset. In order to use \"balanced\" weights, use compute_class_weight (\"balanced\", classes, y). In place of y you can use a large enough sample of the full training set target to properly estimate the class frequency distributions. Pass the resulting weights as the class_weight parameter.\n",
      "  warn('class_weight presets \"balanced\" or '\n",
      "/opt/conda/lib/python3.6/site-packages/sklearn/ensemble/_forest.py:569: UserWarning: class_weight presets \"balanced\" or \"balanced_subsample\" are not recommended for warm_start if the fitted data differs from the full dataset. In order to use \"balanced\" weights, use compute_class_weight (\"balanced\", classes, y). In place of y you can use a large enough sample of the full training set target to properly estimate the class frequency distributions. Pass the resulting weights as the class_weight parameter.\n",
      "  warn('class_weight presets \"balanced\" or '\n",
      "/opt/conda/lib/python3.6/site-packages/sklearn/ensemble/_forest.py:569: UserWarning: class_weight presets \"balanced\" or \"balanced_subsample\" are not recommended for warm_start if the fitted data differs from the full dataset. In order to use \"balanced\" weights, use compute_class_weight (\"balanced\", classes, y). In place of y you can use a large enough sample of the full training set target to properly estimate the class frequency distributions. Pass the resulting weights as the class_weight parameter.\n",
      "  warn('class_weight presets \"balanced\" or '\n",
      "/opt/conda/lib/python3.6/site-packages/sklearn/ensemble/_forest.py:569: UserWarning: class_weight presets \"balanced\" or \"balanced_subsample\" are not recommended for warm_start if the fitted data differs from the full dataset. In order to use \"balanced\" weights, use compute_class_weight (\"balanced\", classes, y). In place of y you can use a large enough sample of the full training set target to properly estimate the class frequency distributions. Pass the resulting weights as the class_weight parameter.\n",
      "  warn('class_weight presets \"balanced\" or '\n",
      "/opt/conda/lib/python3.6/site-packages/sklearn/ensemble/_forest.py:569: UserWarning: class_weight presets \"balanced\" or \"balanced_subsample\" are not recommended for warm_start if the fitted data differs from the full dataset. In order to use \"balanced\" weights, use compute_class_weight (\"balanced\", classes, y). In place of y you can use a large enough sample of the full training set target to properly estimate the class frequency distributions. Pass the resulting weights as the class_weight parameter.\n",
      "  warn('class_weight presets \"balanced\" or '\n",
      "/opt/conda/lib/python3.6/site-packages/sklearn/ensemble/_forest.py:569: UserWarning: class_weight presets \"balanced\" or \"balanced_subsample\" are not recommended for warm_start if the fitted data differs from the full dataset. In order to use \"balanced\" weights, use compute_class_weight (\"balanced\", classes, y). In place of y you can use a large enough sample of the full training set target to properly estimate the class frequency distributions. Pass the resulting weights as the class_weight parameter.\n",
      "  warn('class_weight presets \"balanced\" or '\n",
      "/opt/conda/lib/python3.6/site-packages/sklearn/ensemble/_forest.py:569: UserWarning: class_weight presets \"balanced\" or \"balanced_subsample\" are not recommended for warm_start if the fitted data differs from the full dataset. In order to use \"balanced\" weights, use compute_class_weight (\"balanced\", classes, y). In place of y you can use a large enough sample of the full training set target to properly estimate the class frequency distributions. Pass the resulting weights as the class_weight parameter.\n",
      "  warn('class_weight presets \"balanced\" or '\n",
      "/opt/conda/lib/python3.6/site-packages/sklearn/ensemble/_forest.py:569: UserWarning: class_weight presets \"balanced\" or \"balanced_subsample\" are not recommended for warm_start if the fitted data differs from the full dataset. In order to use \"balanced\" weights, use compute_class_weight (\"balanced\", classes, y). In place of y you can use a large enough sample of the full training set target to properly estimate the class frequency distributions. Pass the resulting weights as the class_weight parameter.\n",
      "  warn('class_weight presets \"balanced\" or '\n",
      "/opt/conda/lib/python3.6/site-packages/sklearn/ensemble/_forest.py:569: UserWarning: class_weight presets \"balanced\" or \"balanced_subsample\" are not recommended for warm_start if the fitted data differs from the full dataset. In order to use \"balanced\" weights, use compute_class_weight (\"balanced\", classes, y). In place of y you can use a large enough sample of the full training set target to properly estimate the class frequency distributions. Pass the resulting weights as the class_weight parameter.\n",
      "  warn('class_weight presets \"balanced\" or '\n",
      "/opt/conda/lib/python3.6/site-packages/sklearn/ensemble/_forest.py:569: UserWarning: class_weight presets \"balanced\" or \"balanced_subsample\" are not recommended for warm_start if the fitted data differs from the full dataset. In order to use \"balanced\" weights, use compute_class_weight (\"balanced\", classes, y). In place of y you can use a large enough sample of the full training set target to properly estimate the class frequency distributions. Pass the resulting weights as the class_weight parameter.\n",
      "  warn('class_weight presets \"balanced\" or '\n",
      "/opt/conda/lib/python3.6/site-packages/sklearn/ensemble/_forest.py:569: UserWarning: class_weight presets \"balanced\" or \"balanced_subsample\" are not recommended for warm_start if the fitted data differs from the full dataset. In order to use \"balanced\" weights, use compute_class_weight (\"balanced\", classes, y). In place of y you can use a large enough sample of the full training set target to properly estimate the class frequency distributions. Pass the resulting weights as the class_weight parameter.\n",
      "  warn('class_weight presets \"balanced\" or '\n",
      "/opt/conda/lib/python3.6/site-packages/sklearn/ensemble/_forest.py:569: UserWarning: class_weight presets \"balanced\" or \"balanced_subsample\" are not recommended for warm_start if the fitted data differs from the full dataset. In order to use \"balanced\" weights, use compute_class_weight (\"balanced\", classes, y). In place of y you can use a large enough sample of the full training set target to properly estimate the class frequency distributions. Pass the resulting weights as the class_weight parameter.\n",
      "  warn('class_weight presets \"balanced\" or '\n",
      "/opt/conda/lib/python3.6/site-packages/sklearn/ensemble/_forest.py:569: UserWarning: class_weight presets \"balanced\" or \"balanced_subsample\" are not recommended for warm_start if the fitted data differs from the full dataset. In order to use \"balanced\" weights, use compute_class_weight (\"balanced\", classes, y). In place of y you can use a large enough sample of the full training set target to properly estimate the class frequency distributions. Pass the resulting weights as the class_weight parameter.\n",
      "  warn('class_weight presets \"balanced\" or '\n",
      "/opt/conda/lib/python3.6/site-packages/sklearn/ensemble/_forest.py:569: UserWarning: class_weight presets \"balanced\" or \"balanced_subsample\" are not recommended for warm_start if the fitted data differs from the full dataset. In order to use \"balanced\" weights, use compute_class_weight (\"balanced\", classes, y). In place of y you can use a large enough sample of the full training set target to properly estimate the class frequency distributions. Pass the resulting weights as the class_weight parameter.\n",
      "  warn('class_weight presets \"balanced\" or '\n",
      "/opt/conda/lib/python3.6/site-packages/sklearn/ensemble/_forest.py:569: UserWarning: class_weight presets \"balanced\" or \"balanced_subsample\" are not recommended for warm_start if the fitted data differs from the full dataset. In order to use \"balanced\" weights, use compute_class_weight (\"balanced\", classes, y). In place of y you can use a large enough sample of the full training set target to properly estimate the class frequency distributions. Pass the resulting weights as the class_weight parameter.\n",
      "  warn('class_weight presets \"balanced\" or '\n",
      "/opt/conda/lib/python3.6/site-packages/sklearn/ensemble/_forest.py:569: UserWarning: class_weight presets \"balanced\" or \"balanced_subsample\" are not recommended for warm_start if the fitted data differs from the full dataset. In order to use \"balanced\" weights, use compute_class_weight (\"balanced\", classes, y). In place of y you can use a large enough sample of the full training set target to properly estimate the class frequency distributions. Pass the resulting weights as the class_weight parameter.\n",
      "  warn('class_weight presets \"balanced\" or '\n",
      "/opt/conda/lib/python3.6/site-packages/sklearn/ensemble/_forest.py:569: UserWarning: class_weight presets \"balanced\" or \"balanced_subsample\" are not recommended for warm_start if the fitted data differs from the full dataset. In order to use \"balanced\" weights, use compute_class_weight (\"balanced\", classes, y). In place of y you can use a large enough sample of the full training set target to properly estimate the class frequency distributions. Pass the resulting weights as the class_weight parameter.\n",
      "  warn('class_weight presets \"balanced\" or '\n",
      "/opt/conda/lib/python3.6/site-packages/sklearn/ensemble/_forest.py:569: UserWarning: class_weight presets \"balanced\" or \"balanced_subsample\" are not recommended for warm_start if the fitted data differs from the full dataset. In order to use \"balanced\" weights, use compute_class_weight (\"balanced\", classes, y). In place of y you can use a large enough sample of the full training set target to properly estimate the class frequency distributions. Pass the resulting weights as the class_weight parameter.\n",
      "  warn('class_weight presets \"balanced\" or '\n",
      "/opt/conda/lib/python3.6/site-packages/sklearn/ensemble/_forest.py:569: UserWarning: class_weight presets \"balanced\" or \"balanced_subsample\" are not recommended for warm_start if the fitted data differs from the full dataset. In order to use \"balanced\" weights, use compute_class_weight (\"balanced\", classes, y). In place of y you can use a large enough sample of the full training set target to properly estimate the class frequency distributions. Pass the resulting weights as the class_weight parameter.\n",
      "  warn('class_weight presets \"balanced\" or '\n",
      "/opt/conda/lib/python3.6/site-packages/sklearn/ensemble/_forest.py:569: UserWarning: class_weight presets \"balanced\" or \"balanced_subsample\" are not recommended for warm_start if the fitted data differs from the full dataset. In order to use \"balanced\" weights, use compute_class_weight (\"balanced\", classes, y). In place of y you can use a large enough sample of the full training set target to properly estimate the class frequency distributions. Pass the resulting weights as the class_weight parameter.\n",
      "  warn('class_weight presets \"balanced\" or '\n",
      "/opt/conda/lib/python3.6/site-packages/sklearn/ensemble/_forest.py:569: UserWarning: class_weight presets \"balanced\" or \"balanced_subsample\" are not recommended for warm_start if the fitted data differs from the full dataset. In order to use \"balanced\" weights, use compute_class_weight (\"balanced\", classes, y). In place of y you can use a large enough sample of the full training set target to properly estimate the class frequency distributions. Pass the resulting weights as the class_weight parameter.\n",
      "  warn('class_weight presets \"balanced\" or '\n",
      "/opt/conda/lib/python3.6/site-packages/sklearn/ensemble/_forest.py:569: UserWarning: class_weight presets \"balanced\" or \"balanced_subsample\" are not recommended for warm_start if the fitted data differs from the full dataset. In order to use \"balanced\" weights, use compute_class_weight (\"balanced\", classes, y). In place of y you can use a large enough sample of the full training set target to properly estimate the class frequency distributions. Pass the resulting weights as the class_weight parameter.\n",
      "  warn('class_weight presets \"balanced\" or '\n",
      "/opt/conda/lib/python3.6/site-packages/sklearn/ensemble/_forest.py:569: UserWarning: class_weight presets \"balanced\" or \"balanced_subsample\" are not recommended for warm_start if the fitted data differs from the full dataset. In order to use \"balanced\" weights, use compute_class_weight (\"balanced\", classes, y). In place of y you can use a large enough sample of the full training set target to properly estimate the class frequency distributions. Pass the resulting weights as the class_weight parameter.\n",
      "  warn('class_weight presets \"balanced\" or '\n",
      "/opt/conda/lib/python3.6/site-packages/sklearn/ensemble/_forest.py:569: UserWarning: class_weight presets \"balanced\" or \"balanced_subsample\" are not recommended for warm_start if the fitted data differs from the full dataset. In order to use \"balanced\" weights, use compute_class_weight (\"balanced\", classes, y). In place of y you can use a large enough sample of the full training set target to properly estimate the class frequency distributions. Pass the resulting weights as the class_weight parameter.\n",
      "  warn('class_weight presets \"balanced\" or '\n",
      "/opt/conda/lib/python3.6/site-packages/sklearn/ensemble/_forest.py:569: UserWarning: class_weight presets \"balanced\" or \"balanced_subsample\" are not recommended for warm_start if the fitted data differs from the full dataset. In order to use \"balanced\" weights, use compute_class_weight (\"balanced\", classes, y). In place of y you can use a large enough sample of the full training set target to properly estimate the class frequency distributions. Pass the resulting weights as the class_weight parameter.\n",
      "  warn('class_weight presets \"balanced\" or '\n",
      "/opt/conda/lib/python3.6/site-packages/sklearn/ensemble/_forest.py:569: UserWarning: class_weight presets \"balanced\" or \"balanced_subsample\" are not recommended for warm_start if the fitted data differs from the full dataset. In order to use \"balanced\" weights, use compute_class_weight (\"balanced\", classes, y). In place of y you can use a large enough sample of the full training set target to properly estimate the class frequency distributions. Pass the resulting weights as the class_weight parameter.\n",
      "  warn('class_weight presets \"balanced\" or '\n",
      "/opt/conda/lib/python3.6/site-packages/sklearn/ensemble/_forest.py:569: UserWarning: class_weight presets \"balanced\" or \"balanced_subsample\" are not recommended for warm_start if the fitted data differs from the full dataset. In order to use \"balanced\" weights, use compute_class_weight (\"balanced\", classes, y). In place of y you can use a large enough sample of the full training set target to properly estimate the class frequency distributions. Pass the resulting weights as the class_weight parameter.\n",
      "  warn('class_weight presets \"balanced\" or '\n",
      "/opt/conda/lib/python3.6/site-packages/sklearn/ensemble/_forest.py:569: UserWarning: class_weight presets \"balanced\" or \"balanced_subsample\" are not recommended for warm_start if the fitted data differs from the full dataset. In order to use \"balanced\" weights, use compute_class_weight (\"balanced\", classes, y). In place of y you can use a large enough sample of the full training set target to properly estimate the class frequency distributions. Pass the resulting weights as the class_weight parameter.\n",
      "  warn('class_weight presets \"balanced\" or '\n",
      "/opt/conda/lib/python3.6/site-packages/sklearn/ensemble/_forest.py:569: UserWarning: class_weight presets \"balanced\" or \"balanced_subsample\" are not recommended for warm_start if the fitted data differs from the full dataset. In order to use \"balanced\" weights, use compute_class_weight (\"balanced\", classes, y). In place of y you can use a large enough sample of the full training set target to properly estimate the class frequency distributions. Pass the resulting weights as the class_weight parameter.\n",
      "  warn('class_weight presets \"balanced\" or '\n",
      "/opt/conda/lib/python3.6/site-packages/sklearn/ensemble/_forest.py:569: UserWarning: class_weight presets \"balanced\" or \"balanced_subsample\" are not recommended for warm_start if the fitted data differs from the full dataset. In order to use \"balanced\" weights, use compute_class_weight (\"balanced\", classes, y). In place of y you can use a large enough sample of the full training set target to properly estimate the class frequency distributions. Pass the resulting weights as the class_weight parameter.\n",
      "  warn('class_weight presets \"balanced\" or '\n",
      "/opt/conda/lib/python3.6/site-packages/sklearn/ensemble/_forest.py:569: UserWarning: class_weight presets \"balanced\" or \"balanced_subsample\" are not recommended for warm_start if the fitted data differs from the full dataset. In order to use \"balanced\" weights, use compute_class_weight (\"balanced\", classes, y). In place of y you can use a large enough sample of the full training set target to properly estimate the class frequency distributions. Pass the resulting weights as the class_weight parameter.\n",
      "  warn('class_weight presets \"balanced\" or '\n",
      "/opt/conda/lib/python3.6/site-packages/sklearn/ensemble/_forest.py:569: UserWarning: class_weight presets \"balanced\" or \"balanced_subsample\" are not recommended for warm_start if the fitted data differs from the full dataset. In order to use \"balanced\" weights, use compute_class_weight (\"balanced\", classes, y). In place of y you can use a large enough sample of the full training set target to properly estimate the class frequency distributions. Pass the resulting weights as the class_weight parameter.\n",
      "  warn('class_weight presets \"balanced\" or '\n",
      "/opt/conda/lib/python3.6/site-packages/sklearn/ensemble/_forest.py:569: UserWarning: class_weight presets \"balanced\" or \"balanced_subsample\" are not recommended for warm_start if the fitted data differs from the full dataset. In order to use \"balanced\" weights, use compute_class_weight (\"balanced\", classes, y). In place of y you can use a large enough sample of the full training set target to properly estimate the class frequency distributions. Pass the resulting weights as the class_weight parameter.\n",
      "  warn('class_weight presets \"balanced\" or '\n",
      "/opt/conda/lib/python3.6/site-packages/sklearn/ensemble/_forest.py:569: UserWarning: class_weight presets \"balanced\" or \"balanced_subsample\" are not recommended for warm_start if the fitted data differs from the full dataset. In order to use \"balanced\" weights, use compute_class_weight (\"balanced\", classes, y). In place of y you can use a large enough sample of the full training set target to properly estimate the class frequency distributions. Pass the resulting weights as the class_weight parameter.\n",
      "  warn('class_weight presets \"balanced\" or '\n",
      "/opt/conda/lib/python3.6/site-packages/sklearn/ensemble/_forest.py:569: UserWarning: class_weight presets \"balanced\" or \"balanced_subsample\" are not recommended for warm_start if the fitted data differs from the full dataset. In order to use \"balanced\" weights, use compute_class_weight (\"balanced\", classes, y). In place of y you can use a large enough sample of the full training set target to properly estimate the class frequency distributions. Pass the resulting weights as the class_weight parameter.\n",
      "  warn('class_weight presets \"balanced\" or '\n",
      "/opt/conda/lib/python3.6/site-packages/sklearn/ensemble/_forest.py:569: UserWarning: class_weight presets \"balanced\" or \"balanced_subsample\" are not recommended for warm_start if the fitted data differs from the full dataset. In order to use \"balanced\" weights, use compute_class_weight (\"balanced\", classes, y). In place of y you can use a large enough sample of the full training set target to properly estimate the class frequency distributions. Pass the resulting weights as the class_weight parameter.\n",
      "  warn('class_weight presets \"balanced\" or '\n",
      "/opt/conda/lib/python3.6/site-packages/sklearn/ensemble/_forest.py:569: UserWarning: class_weight presets \"balanced\" or \"balanced_subsample\" are not recommended for warm_start if the fitted data differs from the full dataset. In order to use \"balanced\" weights, use compute_class_weight (\"balanced\", classes, y). In place of y you can use a large enough sample of the full training set target to properly estimate the class frequency distributions. Pass the resulting weights as the class_weight parameter.\n",
      "  warn('class_weight presets \"balanced\" or '\n",
      "/opt/conda/lib/python3.6/site-packages/sklearn/ensemble/_forest.py:569: UserWarning: class_weight presets \"balanced\" or \"balanced_subsample\" are not recommended for warm_start if the fitted data differs from the full dataset. In order to use \"balanced\" weights, use compute_class_weight (\"balanced\", classes, y). In place of y you can use a large enough sample of the full training set target to properly estimate the class frequency distributions. Pass the resulting weights as the class_weight parameter.\n",
      "  warn('class_weight presets \"balanced\" or '\n",
      "/opt/conda/lib/python3.6/site-packages/sklearn/ensemble/_forest.py:569: UserWarning: class_weight presets \"balanced\" or \"balanced_subsample\" are not recommended for warm_start if the fitted data differs from the full dataset. In order to use \"balanced\" weights, use compute_class_weight (\"balanced\", classes, y). In place of y you can use a large enough sample of the full training set target to properly estimate the class frequency distributions. Pass the resulting weights as the class_weight parameter.\n",
      "  warn('class_weight presets \"balanced\" or '\n",
      "/opt/conda/lib/python3.6/site-packages/sklearn/ensemble/_forest.py:569: UserWarning: class_weight presets \"balanced\" or \"balanced_subsample\" are not recommended for warm_start if the fitted data differs from the full dataset. In order to use \"balanced\" weights, use compute_class_weight (\"balanced\", classes, y). In place of y you can use a large enough sample of the full training set target to properly estimate the class frequency distributions. Pass the resulting weights as the class_weight parameter.\n",
      "  warn('class_weight presets \"balanced\" or '\n",
      "/opt/conda/lib/python3.6/site-packages/sklearn/ensemble/_forest.py:569: UserWarning: class_weight presets \"balanced\" or \"balanced_subsample\" are not recommended for warm_start if the fitted data differs from the full dataset. In order to use \"balanced\" weights, use compute_class_weight (\"balanced\", classes, y). In place of y you can use a large enough sample of the full training set target to properly estimate the class frequency distributions. Pass the resulting weights as the class_weight parameter.\n",
      "  warn('class_weight presets \"balanced\" or '\n",
      "/opt/conda/lib/python3.6/site-packages/sklearn/ensemble/_forest.py:569: UserWarning: class_weight presets \"balanced\" or \"balanced_subsample\" are not recommended for warm_start if the fitted data differs from the full dataset. In order to use \"balanced\" weights, use compute_class_weight (\"balanced\", classes, y). In place of y you can use a large enough sample of the full training set target to properly estimate the class frequency distributions. Pass the resulting weights as the class_weight parameter.\n",
      "  warn('class_weight presets \"balanced\" or '\n",
      "/opt/conda/lib/python3.6/site-packages/sklearn/ensemble/_forest.py:569: UserWarning: class_weight presets \"balanced\" or \"balanced_subsample\" are not recommended for warm_start if the fitted data differs from the full dataset. In order to use \"balanced\" weights, use compute_class_weight (\"balanced\", classes, y). In place of y you can use a large enough sample of the full training set target to properly estimate the class frequency distributions. Pass the resulting weights as the class_weight parameter.\n",
      "  warn('class_weight presets \"balanced\" or '\n",
      "/opt/conda/lib/python3.6/site-packages/sklearn/ensemble/_forest.py:569: UserWarning: class_weight presets \"balanced\" or \"balanced_subsample\" are not recommended for warm_start if the fitted data differs from the full dataset. In order to use \"balanced\" weights, use compute_class_weight (\"balanced\", classes, y). In place of y you can use a large enough sample of the full training set target to properly estimate the class frequency distributions. Pass the resulting weights as the class_weight parameter.\n",
      "  warn('class_weight presets \"balanced\" or '\n",
      "/opt/conda/lib/python3.6/site-packages/sklearn/ensemble/_forest.py:569: UserWarning: class_weight presets \"balanced\" or \"balanced_subsample\" are not recommended for warm_start if the fitted data differs from the full dataset. In order to use \"balanced\" weights, use compute_class_weight (\"balanced\", classes, y). In place of y you can use a large enough sample of the full training set target to properly estimate the class frequency distributions. Pass the resulting weights as the class_weight parameter.\n",
      "  warn('class_weight presets \"balanced\" or '\n",
      "/opt/conda/lib/python3.6/site-packages/sklearn/ensemble/_forest.py:569: UserWarning: class_weight presets \"balanced\" or \"balanced_subsample\" are not recommended for warm_start if the fitted data differs from the full dataset. In order to use \"balanced\" weights, use compute_class_weight (\"balanced\", classes, y). In place of y you can use a large enough sample of the full training set target to properly estimate the class frequency distributions. Pass the resulting weights as the class_weight parameter.\n",
      "  warn('class_weight presets \"balanced\" or '\n",
      "/opt/conda/lib/python3.6/site-packages/sklearn/ensemble/_forest.py:569: UserWarning: class_weight presets \"balanced\" or \"balanced_subsample\" are not recommended for warm_start if the fitted data differs from the full dataset. In order to use \"balanced\" weights, use compute_class_weight (\"balanced\", classes, y). In place of y you can use a large enough sample of the full training set target to properly estimate the class frequency distributions. Pass the resulting weights as the class_weight parameter.\n",
      "  warn('class_weight presets \"balanced\" or '\n",
      "/opt/conda/lib/python3.6/site-packages/sklearn/ensemble/_forest.py:569: UserWarning: class_weight presets \"balanced\" or \"balanced_subsample\" are not recommended for warm_start if the fitted data differs from the full dataset. In order to use \"balanced\" weights, use compute_class_weight (\"balanced\", classes, y). In place of y you can use a large enough sample of the full training set target to properly estimate the class frequency distributions. Pass the resulting weights as the class_weight parameter.\n",
      "  warn('class_weight presets \"balanced\" or '\n",
      "/opt/conda/lib/python3.6/site-packages/sklearn/ensemble/_forest.py:569: UserWarning: class_weight presets \"balanced\" or \"balanced_subsample\" are not recommended for warm_start if the fitted data differs from the full dataset. In order to use \"balanced\" weights, use compute_class_weight (\"balanced\", classes, y). In place of y you can use a large enough sample of the full training set target to properly estimate the class frequency distributions. Pass the resulting weights as the class_weight parameter.\n",
      "  warn('class_weight presets \"balanced\" or '\n",
      "/opt/conda/lib/python3.6/site-packages/sklearn/ensemble/_forest.py:569: UserWarning: class_weight presets \"balanced\" or \"balanced_subsample\" are not recommended for warm_start if the fitted data differs from the full dataset. In order to use \"balanced\" weights, use compute_class_weight (\"balanced\", classes, y). In place of y you can use a large enough sample of the full training set target to properly estimate the class frequency distributions. Pass the resulting weights as the class_weight parameter.\n",
      "  warn('class_weight presets \"balanced\" or '\n",
      "/opt/conda/lib/python3.6/site-packages/sklearn/ensemble/_forest.py:569: UserWarning: class_weight presets \"balanced\" or \"balanced_subsample\" are not recommended for warm_start if the fitted data differs from the full dataset. In order to use \"balanced\" weights, use compute_class_weight (\"balanced\", classes, y). In place of y you can use a large enough sample of the full training set target to properly estimate the class frequency distributions. Pass the resulting weights as the class_weight parameter.\n",
      "  warn('class_weight presets \"balanced\" or '\n",
      "/opt/conda/lib/python3.6/site-packages/sklearn/ensemble/_forest.py:569: UserWarning: class_weight presets \"balanced\" or \"balanced_subsample\" are not recommended for warm_start if the fitted data differs from the full dataset. In order to use \"balanced\" weights, use compute_class_weight (\"balanced\", classes, y). In place of y you can use a large enough sample of the full training set target to properly estimate the class frequency distributions. Pass the resulting weights as the class_weight parameter.\n",
      "  warn('class_weight presets \"balanced\" or '\n",
      "/opt/conda/lib/python3.6/site-packages/sklearn/ensemble/_forest.py:569: UserWarning: class_weight presets \"balanced\" or \"balanced_subsample\" are not recommended for warm_start if the fitted data differs from the full dataset. In order to use \"balanced\" weights, use compute_class_weight (\"balanced\", classes, y). In place of y you can use a large enough sample of the full training set target to properly estimate the class frequency distributions. Pass the resulting weights as the class_weight parameter.\n",
      "  warn('class_weight presets \"balanced\" or '\n",
      "/opt/conda/lib/python3.6/site-packages/sklearn/ensemble/_forest.py:569: UserWarning: class_weight presets \"balanced\" or \"balanced_subsample\" are not recommended for warm_start if the fitted data differs from the full dataset. In order to use \"balanced\" weights, use compute_class_weight (\"balanced\", classes, y). In place of y you can use a large enough sample of the full training set target to properly estimate the class frequency distributions. Pass the resulting weights as the class_weight parameter.\n",
      "  warn('class_weight presets \"balanced\" or '\n",
      "/opt/conda/lib/python3.6/site-packages/sklearn/ensemble/_forest.py:569: UserWarning: class_weight presets \"balanced\" or \"balanced_subsample\" are not recommended for warm_start if the fitted data differs from the full dataset. In order to use \"balanced\" weights, use compute_class_weight (\"balanced\", classes, y). In place of y you can use a large enough sample of the full training set target to properly estimate the class frequency distributions. Pass the resulting weights as the class_weight parameter.\n",
      "  warn('class_weight presets \"balanced\" or '\n",
      "/opt/conda/lib/python3.6/site-packages/sklearn/ensemble/_forest.py:569: UserWarning: class_weight presets \"balanced\" or \"balanced_subsample\" are not recommended for warm_start if the fitted data differs from the full dataset. In order to use \"balanced\" weights, use compute_class_weight (\"balanced\", classes, y). In place of y you can use a large enough sample of the full training set target to properly estimate the class frequency distributions. Pass the resulting weights as the class_weight parameter.\n",
      "  warn('class_weight presets \"balanced\" or '\n",
      "/opt/conda/lib/python3.6/site-packages/sklearn/ensemble/_forest.py:569: UserWarning: class_weight presets \"balanced\" or \"balanced_subsample\" are not recommended for warm_start if the fitted data differs from the full dataset. In order to use \"balanced\" weights, use compute_class_weight (\"balanced\", classes, y). In place of y you can use a large enough sample of the full training set target to properly estimate the class frequency distributions. Pass the resulting weights as the class_weight parameter.\n",
      "  warn('class_weight presets \"balanced\" or '\n",
      "/opt/conda/lib/python3.6/site-packages/sklearn/ensemble/_forest.py:569: UserWarning: class_weight presets \"balanced\" or \"balanced_subsample\" are not recommended for warm_start if the fitted data differs from the full dataset. In order to use \"balanced\" weights, use compute_class_weight (\"balanced\", classes, y). In place of y you can use a large enough sample of the full training set target to properly estimate the class frequency distributions. Pass the resulting weights as the class_weight parameter.\n",
      "  warn('class_weight presets \"balanced\" or '\n",
      "/opt/conda/lib/python3.6/site-packages/sklearn/ensemble/_forest.py:569: UserWarning: class_weight presets \"balanced\" or \"balanced_subsample\" are not recommended for warm_start if the fitted data differs from the full dataset. In order to use \"balanced\" weights, use compute_class_weight (\"balanced\", classes, y). In place of y you can use a large enough sample of the full training set target to properly estimate the class frequency distributions. Pass the resulting weights as the class_weight parameter.\n",
      "  warn('class_weight presets \"balanced\" or '\n",
      "/opt/conda/lib/python3.6/site-packages/sklearn/ensemble/_forest.py:569: UserWarning: class_weight presets \"balanced\" or \"balanced_subsample\" are not recommended for warm_start if the fitted data differs from the full dataset. In order to use \"balanced\" weights, use compute_class_weight (\"balanced\", classes, y). In place of y you can use a large enough sample of the full training set target to properly estimate the class frequency distributions. Pass the resulting weights as the class_weight parameter.\n",
      "  warn('class_weight presets \"balanced\" or '\n",
      "/opt/conda/lib/python3.6/site-packages/sklearn/ensemble/_forest.py:569: UserWarning: class_weight presets \"balanced\" or \"balanced_subsample\" are not recommended for warm_start if the fitted data differs from the full dataset. In order to use \"balanced\" weights, use compute_class_weight (\"balanced\", classes, y). In place of y you can use a large enough sample of the full training set target to properly estimate the class frequency distributions. Pass the resulting weights as the class_weight parameter.\n",
      "  warn('class_weight presets \"balanced\" or '\n",
      "/opt/conda/lib/python3.6/site-packages/sklearn/ensemble/_forest.py:569: UserWarning: class_weight presets \"balanced\" or \"balanced_subsample\" are not recommended for warm_start if the fitted data differs from the full dataset. In order to use \"balanced\" weights, use compute_class_weight (\"balanced\", classes, y). In place of y you can use a large enough sample of the full training set target to properly estimate the class frequency distributions. Pass the resulting weights as the class_weight parameter.\n",
      "  warn('class_weight presets \"balanced\" or '\n",
      "/opt/conda/lib/python3.6/site-packages/sklearn/ensemble/_forest.py:569: UserWarning: class_weight presets \"balanced\" or \"balanced_subsample\" are not recommended for warm_start if the fitted data differs from the full dataset. In order to use \"balanced\" weights, use compute_class_weight (\"balanced\", classes, y). In place of y you can use a large enough sample of the full training set target to properly estimate the class frequency distributions. Pass the resulting weights as the class_weight parameter.\n",
      "  warn('class_weight presets \"balanced\" or '\n",
      "/opt/conda/lib/python3.6/site-packages/sklearn/ensemble/_forest.py:569: UserWarning: class_weight presets \"balanced\" or \"balanced_subsample\" are not recommended for warm_start if the fitted data differs from the full dataset. In order to use \"balanced\" weights, use compute_class_weight (\"balanced\", classes, y). In place of y you can use a large enough sample of the full training set target to properly estimate the class frequency distributions. Pass the resulting weights as the class_weight parameter.\n",
      "  warn('class_weight presets \"balanced\" or '\n",
      "/opt/conda/lib/python3.6/site-packages/sklearn/ensemble/_forest.py:569: UserWarning: class_weight presets \"balanced\" or \"balanced_subsample\" are not recommended for warm_start if the fitted data differs from the full dataset. In order to use \"balanced\" weights, use compute_class_weight (\"balanced\", classes, y). In place of y you can use a large enough sample of the full training set target to properly estimate the class frequency distributions. Pass the resulting weights as the class_weight parameter.\n",
      "  warn('class_weight presets \"balanced\" or '\n",
      "/opt/conda/lib/python3.6/site-packages/sklearn/ensemble/_forest.py:569: UserWarning: class_weight presets \"balanced\" or \"balanced_subsample\" are not recommended for warm_start if the fitted data differs from the full dataset. In order to use \"balanced\" weights, use compute_class_weight (\"balanced\", classes, y). In place of y you can use a large enough sample of the full training set target to properly estimate the class frequency distributions. Pass the resulting weights as the class_weight parameter.\n",
      "  warn('class_weight presets \"balanced\" or '\n",
      "/opt/conda/lib/python3.6/site-packages/sklearn/ensemble/_forest.py:569: UserWarning: class_weight presets \"balanced\" or \"balanced_subsample\" are not recommended for warm_start if the fitted data differs from the full dataset. In order to use \"balanced\" weights, use compute_class_weight (\"balanced\", classes, y). In place of y you can use a large enough sample of the full training set target to properly estimate the class frequency distributions. Pass the resulting weights as the class_weight parameter.\n",
      "  warn('class_weight presets \"balanced\" or '\n",
      "/opt/conda/lib/python3.6/site-packages/sklearn/ensemble/_forest.py:569: UserWarning: class_weight presets \"balanced\" or \"balanced_subsample\" are not recommended for warm_start if the fitted data differs from the full dataset. In order to use \"balanced\" weights, use compute_class_weight (\"balanced\", classes, y). In place of y you can use a large enough sample of the full training set target to properly estimate the class frequency distributions. Pass the resulting weights as the class_weight parameter.\n",
      "  warn('class_weight presets \"balanced\" or '\n",
      "/opt/conda/lib/python3.6/site-packages/sklearn/ensemble/_forest.py:569: UserWarning: class_weight presets \"balanced\" or \"balanced_subsample\" are not recommended for warm_start if the fitted data differs from the full dataset. In order to use \"balanced\" weights, use compute_class_weight (\"balanced\", classes, y). In place of y you can use a large enough sample of the full training set target to properly estimate the class frequency distributions. Pass the resulting weights as the class_weight parameter.\n",
      "  warn('class_weight presets \"balanced\" or '\n",
      "/opt/conda/lib/python3.6/site-packages/sklearn/ensemble/_forest.py:569: UserWarning: class_weight presets \"balanced\" or \"balanced_subsample\" are not recommended for warm_start if the fitted data differs from the full dataset. In order to use \"balanced\" weights, use compute_class_weight (\"balanced\", classes, y). In place of y you can use a large enough sample of the full training set target to properly estimate the class frequency distributions. Pass the resulting weights as the class_weight parameter.\n",
      "  warn('class_weight presets \"balanced\" or '\n",
      "/opt/conda/lib/python3.6/site-packages/sklearn/ensemble/_forest.py:569: UserWarning: class_weight presets \"balanced\" or \"balanced_subsample\" are not recommended for warm_start if the fitted data differs from the full dataset. In order to use \"balanced\" weights, use compute_class_weight (\"balanced\", classes, y). In place of y you can use a large enough sample of the full training set target to properly estimate the class frequency distributions. Pass the resulting weights as the class_weight parameter.\n",
      "  warn('class_weight presets \"balanced\" or '\n",
      "/opt/conda/lib/python3.6/site-packages/sklearn/ensemble/_forest.py:569: UserWarning: class_weight presets \"balanced\" or \"balanced_subsample\" are not recommended for warm_start if the fitted data differs from the full dataset. In order to use \"balanced\" weights, use compute_class_weight (\"balanced\", classes, y). In place of y you can use a large enough sample of the full training set target to properly estimate the class frequency distributions. Pass the resulting weights as the class_weight parameter.\n",
      "  warn('class_weight presets \"balanced\" or '\n",
      "/opt/conda/lib/python3.6/site-packages/sklearn/ensemble/_forest.py:569: UserWarning: class_weight presets \"balanced\" or \"balanced_subsample\" are not recommended for warm_start if the fitted data differs from the full dataset. In order to use \"balanced\" weights, use compute_class_weight (\"balanced\", classes, y). In place of y you can use a large enough sample of the full training set target to properly estimate the class frequency distributions. Pass the resulting weights as the class_weight parameter.\n",
      "  warn('class_weight presets \"balanced\" or '\n",
      "/opt/conda/lib/python3.6/site-packages/sklearn/ensemble/_forest.py:569: UserWarning: class_weight presets \"balanced\" or \"balanced_subsample\" are not recommended for warm_start if the fitted data differs from the full dataset. In order to use \"balanced\" weights, use compute_class_weight (\"balanced\", classes, y). In place of y you can use a large enough sample of the full training set target to properly estimate the class frequency distributions. Pass the resulting weights as the class_weight parameter.\n",
      "  warn('class_weight presets \"balanced\" or '\n"
     ]
    }
   ],
   "source": [
    "####\n",
    "for i in range(min_estimators + 1, max_estimators + 1):\n",
    "    \n",
    "    rdf_clf.set_params(warm_start=True)\n",
    "    rdf_clf.set_params(n_estimators=i)\n",
    "    rdf_clf.fit(X=X_train.values, y=y_train.values.ravel())\n",
    "    \n",
    "    #\n",
    "    scores = get_accuracy_auc(rdf_clf, X_valid.values, y_valid.values.ravel())\n",
    "    all_scores.append(scores)\n",
    "    \n",
    "    scores_train = get_accuracy_auc(rdf_clf, X_train.values, y_train.values.ravel())\n",
    "    all_scores_train.append(scores_train)"
   ]
  },
  {
   "cell_type": "code",
   "execution_count": 36,
   "metadata": {},
   "outputs": [],
   "source": [
    "all_scores = np.asarray(all_scores)\n",
    "\n",
    "all_scores_train = np.asarray(all_scores_train)"
   ]
  },
  {
   "cell_type": "markdown",
   "metadata": {},
   "source": [
    "**plot the AUC scores on training set and validation set as a function of tree number**"
   ]
  },
  {
   "cell_type": "code",
   "execution_count": 45,
   "metadata": {},
   "outputs": [
    {
     "data": {
      "text/plain": [
       "<matplotlib.legend.Legend at 0x7fe8f34cff28>"
      ]
     },
     "execution_count": 45,
     "metadata": {},
     "output_type": "execute_result"
    },
    {
     "data": {
      "image/png": "[encoded data removed]",
      "text/plain": [
       "<matplotlib.figure.Figure at 0x7fe8f34fe668>"
      ]
     },
     "metadata": {
      "needs_background": "light"
     },
     "output_type": "display_data"
    }
   ],
   "source": [
    "fig, ax = plt.subplots(nrows=1, ncols=1, figsize=(9,9))\n",
    "\n",
    "ax.plot(np.arange(min_estimators, max_estimators + 1), all_scores[:,1], \"-b\", label=\"valid (AUC)\")\n",
    "ax.set_title(\"AUC for Random Forest\")\n",
    "ax.set_xlabel(\"n_estimator\")\n",
    "ax.set_ylabel(\"valid-set AUC\")\n",
    "ax.legend(loc='upper left')\n",
    "\n",
    "ax2 = ax.twinx()\n",
    "ax2.plot(np.arange(min_estimators, max_estimators + 1), all_scores_train[:,1], \"-r\", label=\"train (AUC)\")\n",
    "ax2.set_ylabel(\"training-set AUC\")\n",
    "ax2.legend(loc='upper right')"
   ]
  },
  {
   "cell_type": "code",
   "execution_count": 49,
   "metadata": {},
   "outputs": [
    {
     "name": "stdout",
     "output_type": "stream",
     "text": [
      "200\n"
     ]
    }
   ],
   "source": [
    "best_tree_number = np.argmax(all_scores[:,1]) + min_estimators\n",
    "print(best_tree_number)"
   ]
  },
  {
   "cell_type": "markdown",
   "metadata": {},
   "source": [
    "### 2.2.5 use logistic regression (2020/02/23)"
   ]
  },
  {
   "cell_type": "code",
   "execution_count": 51,
   "metadata": {},
   "outputs": [],
   "source": [
    "### use logistic regression, LASSO\n",
    "from sklearn.model_selection import ParameterGrid"
   ]
  },
  {
   "cell_type": "markdown",
   "metadata": {},
   "source": [
    "**Tune the penalty and regularization strength coarsely**"
   ]
  },
  {
   "cell_type": "code",
   "execution_count": 35,
   "metadata": {},
   "outputs": [
    {
     "name": "stdout",
     "output_type": "stream",
     "text": [
      "[92]\n",
      "[6]\n",
      "[100]\n",
      "[6]\n",
      "[115]\n",
      "[6]\n"
     ]
    }
   ],
   "source": [
    "from sklearn.linear_model import LogisticRegression\n",
    "\n",
    "all_scores_train = []\n",
    "all_scores = []\n",
    "\n",
    "lg_hyperparam = {\"penalty\": [\"l1\", 'l2'], \"C\": [1, 10, 50], \n",
    "                 \"tol\": [0.001], \"max_iter\": [200],\n",
    "                 \"class_weight\": [\"balanced\"]}\n",
    "\n",
    "for hyperparam in list(ParameterGrid(lg_hyperparam)):\n",
    "    lg_clf = LogisticRegression(**hyperparam, random_state = seed)\n",
    "    lg_clf.fit(X=X_train.values, y=y_train.values.ravel())\n",
    "    \n",
    "    print(lg_clf.n_iter_)\n",
    "    \n",
    "    scores_train = get_accuracy_auc(lg_clf, X_train.values, y_train.values.ravel())\n",
    "    \n",
    "    scores = get_accuracy_auc(lg_clf, X_valid.values, y_valid.values.ravel())\n",
    "\n",
    "    all_scores_train.append(scores_train)\n",
    "    all_scores.append(scores)"
   ]
  },
  {
   "cell_type": "code",
   "execution_count": 36,
   "metadata": {},
   "outputs": [
    {
     "data": {
      "text/plain": [
       "[(0.71161455504693927, 0.63603238667609396, 0.018804807760532963),\n",
       " (0.71138179843277216, 0.63585120590776967, 0.018802301155531977),\n",
       " (0.71122662735666076, 0.63563565480399087, 0.018785144978542306),\n",
       " (0.71122662735666076, 0.63560717652604293, 0.018783185019239448),\n",
       " (0.71130421289471646, 0.63558802733914688, 0.018781421980326979),\n",
       " (0.71130421289471646, 0.63559195537748447, 0.018782755550956376)]"
      ]
     },
     "execution_count": 36,
     "metadata": {},
     "output_type": "execute_result"
    }
   ],
   "source": [
    "# model performance on validation set with different hyperparameters\n",
    "# (Accuracy, AUC-ROC, AUC-PR)\n",
    "all_scores"
   ]
  },
  {
   "cell_type": "code",
   "execution_count": 38,
   "metadata": {},
   "outputs": [
    {
     "data": {
      "text/plain": [
       "[(0.71758720446912516, 0.77000928247953726, 0.032282212601384558),\n",
       " (0.71742094237355769, 0.76996601975314538, 0.03225033591155424),\n",
       " (0.7174874472117847, 0.77001552751744717, 0.032232936159567016),\n",
       " (0.7175539520500116, 0.77001932884487079, 0.032230044564508398),\n",
       " (0.7175539520500116, 0.77001950986046253, 0.03222751302894622),\n",
       " (0.7175539520500116, 0.77002186306315312, 0.032226971611277189)]"
      ]
     },
     "execution_count": 38,
     "metadata": {},
     "output_type": "execute_result"
    }
   ],
   "source": [
    "# model performance on training set with different hyperparameters\n",
    "# (Accuracy, AUC-ROC, AUC-PR)\n",
    "all_scores_train"
   ]
  },
  {
   "cell_type": "code",
   "execution_count": 39,
   "metadata": {},
   "outputs": [
    {
     "data": {
      "text/plain": [
       "[{'C': 1,\n",
       "  'class_weight': 'balanced',\n",
       "  'max_iter': 200,\n",
       "  'penalty': 'l1',\n",
       "  'tol': 0.001},\n",
       " {'C': 1,\n",
       "  'class_weight': 'balanced',\n",
       "  'max_iter': 200,\n",
       "  'penalty': 'l2',\n",
       "  'tol': 0.001},\n",
       " {'C': 10,\n",
       "  'class_weight': 'balanced',\n",
       "  'max_iter': 200,\n",
       "  'penalty': 'l1',\n",
       "  'tol': 0.001},\n",
       " {'C': 10,\n",
       "  'class_weight': 'balanced',\n",
       "  'max_iter': 200,\n",
       "  'penalty': 'l2',\n",
       "  'tol': 0.001},\n",
       " {'C': 50,\n",
       "  'class_weight': 'balanced',\n",
       "  'max_iter': 200,\n",
       "  'penalty': 'l1',\n",
       "  'tol': 0.001},\n",
       " {'C': 50,\n",
       "  'class_weight': 'balanced',\n",
       "  'max_iter': 200,\n",
       "  'penalty': 'l2',\n",
       "  'tol': 0.001}]"
      ]
     },
     "execution_count": 39,
     "metadata": {},
     "output_type": "execute_result"
    }
   ],
   "source": [
    "list(ParameterGrid(lg_hyperparam))"
   ]
  },
  {
   "cell_type": "markdown",
   "metadata": {},
   "source": [
    "### ====== ###"
   ]
  },
  {
   "cell_type": "markdown",
   "metadata": {},
   "source": [
    "**Now fine tune the \"C\" regularization strength**"
   ]
  },
  {
   "cell_type": "code",
   "execution_count": 54,
   "metadata": {},
   "outputs": [
    {
     "name": "stdout",
     "output_type": "stream",
     "text": [
      "[35]\n",
      "[6]\n",
      "[122]\n",
      "[6]\n"
     ]
    }
   ],
   "source": [
    "from sklearn.linear_model import LogisticRegression\n",
    "\n",
    "all_scores_train = []\n",
    "all_scores = []\n",
    "\n",
    "lg_hyperparam = {\"penalty\": [\"l1\", 'l2'], \"C\": [0.1, 0.5],\n",
    "                 \"solver\": [\"liblinear\"],\n",
    "                 \"tol\": [0.001], \"max_iter\": [200],\n",
    "                 \"class_weight\": [\"balanced\"]}\n",
    "\n",
    "for hyperparam in list(ParameterGrid(lg_hyperparam)):\n",
    "    lg_clf = LogisticRegression(**hyperparam, random_state = seed)\n",
    "    lg_clf.fit(X=X_train.values, y=y_train.values.ravel())\n",
    "    \n",
    "    print(lg_clf.n_iter_)\n",
    "    \n",
    "    scores_train = get_accuracy_auc(lg_clf, X_train.values, y_train.values.ravel())\n",
    "    \n",
    "    scores = get_accuracy_auc(lg_clf, X_valid.values, y_valid.values.ravel())\n",
    "\n",
    "    all_scores_train.append(scores_train)\n",
    "    all_scores.append(scores)"
   ]
  },
  {
   "cell_type": "code",
   "execution_count": 55,
   "metadata": {},
   "outputs": [
    {
     "data": {
      "text/plain": [
       "[(0.71208006827527348, 0.63988775630450156, 0.018945214652270274),\n",
       " (0.71037318643804792, 0.63730850813103934, 0.018914408058388534),\n",
       " (0.71239041042749629, 0.63639229318878154, 0.01881896607198616),\n",
       " (0.71122662735666076, 0.63608787021761326, 0.018824691268956518)]"
      ]
     },
     "execution_count": 55,
     "metadata": {},
     "output_type": "execute_result"
    }
   ],
   "source": [
    "all_scores"
   ]
  },
  {
   "cell_type": "code",
   "execution_count": 56,
   "metadata": {},
   "outputs": [
    {
     "data": {
      "text/plain": [
       "[(0.71632361254281252, 0.76828538049296347, 0.032667990251133212),\n",
       " (0.71652312705749344, 0.76958353380810107, 0.032461903064753848),\n",
       " (0.71715492302064976, 0.76998783213193289, 0.032350269810889377),\n",
       " (0.71758720446912516, 0.76993787182865203, 0.032279506168562941)]"
      ]
     },
     "execution_count": 56,
     "metadata": {},
     "output_type": "execute_result"
    }
   ],
   "source": [
    "all_scores_train"
   ]
  },
  {
   "cell_type": "markdown",
   "metadata": {},
   "source": [
    "**train the lg model with whole dataset**"
   ]
  },
  {
   "cell_type": "code",
   "execution_count": 58,
   "metadata": {},
   "outputs": [
    {
     "name": "stdout",
     "output_type": "stream",
     "text": [
      "[55]\n"
     ]
    }
   ],
   "source": [
    "#### train the lg model with whole dataset\n",
    "hyperparam_best = {\"penalty\": \"l1\", \"C\": 0.1, \n",
    "                   \"solver\": \"liblinear\",\n",
    "                 \"tol\": 0.001, \"max_iter\": 200,\n",
    "                 \"class_weight\": \"balanced\"}\n",
    "\n",
    "\n",
    "lg_clf = LogisticRegression(**hyperparam_best, random_state = seed)\n",
    "lg_clf.fit(X=mailout_train_X_pca.values, y=mailout_train_clean_Y.values.ravel())\n",
    "\n",
    "print(lg_clf.n_iter_)\n",
    "\n",
    "scores_whole = get_accuracy_auc(lg_clf, mailout_train_X_pca.values, mailout_train_clean_Y.values.ravel())\n"
   ]
  },
  {
   "cell_type": "code",
   "execution_count": 71,
   "metadata": {},
   "outputs": [
    {
     "data": {
      "text/plain": [
       "(0.69291466877705876, 0.75103797674719441, 0.029975729745582939)"
      ]
     },
     "execution_count": 71,
     "metadata": {},
     "output_type": "execute_result"
    }
   ],
   "source": [
    "scores_whole"
   ]
  },
  {
   "cell_type": "code",
   "execution_count": 72,
   "metadata": {},
   "outputs": [],
   "source": [
    "# save the trained classifer into plickle file\n",
    "with open(\"./clean_data/02_23_2020/models/lg_clg_v1.pkl\", 'wb') as pickle_file:\n",
    "    pickle.dump(lg_clf, pickle_file)"
   ]
  },
  {
   "cell_type": "markdown",
   "metadata": {},
   "source": [
    "### 2.2.6 other attempts\n",
    "\n",
    "**just for achive, didn't help**"
   ]
  },
  {
   "cell_type": "markdown",
   "metadata": {},
   "source": [
    "#### 2.2.6.1 GradientBoostingClassifier"
   ]
  },
  {
   "cell_type": "markdown",
   "metadata": {},
   "source": [
    "__upsample the positive instances to have a balance dataset__"
   ]
  },
  {
   "cell_type": "code",
   "execution_count": 76,
   "metadata": {},
   "outputs": [
    {
     "name": "stdout",
     "output_type": "stream",
     "text": [
      "Before upsample: negative v.s. positive\n",
      "(42430, 151) (532, 151)\n",
      "After upsample: negative v.s. positive\n",
      "(42430, 151) (4256, 151)\n"
     ]
    }
   ],
   "source": [
    "## # \"helper_functions/upsample_for_balance.py\"\n",
    "\n",
    "from upsample import upsample_for_balance\n",
    "\n",
    "mailout_train_X_pca_up_sample, mailout_train_Y_up_sample = upsample_for_balance(mailout_train_X_pca, mailout_train_clean_Y, seed=1234)"
   ]
  },
  {
   "cell_type": "markdown",
   "metadata": {},
   "source": [
    "**Early stopping to tune tree number**"
   ]
  },
  {
   "cell_type": "code",
   "execution_count": 106,
   "metadata": {},
   "outputs": [
    {
     "name": "stderr",
     "output_type": "stream",
     "text": [
      "/opt/conda/lib/python3.6/site-packages/sklearn/ensemble/_gb.py:1454: DataConversionWarning: A column-vector y was passed when a 1d array was expected. Please change the shape of y to (n_samples, ), for example using ravel().\n",
      "  y = column_or_1d(y, warn=True)\n"
     ]
    },
    {
     "data": {
      "text/plain": [
       "GradientBoostingClassifier(ccp_alpha=0.0, criterion='friedman_mse', init=None,\n",
       "                           learning_rate=0.05, loss='deviance', max_depth=4,\n",
       "                           max_features=0.8, max_leaf_nodes=None,\n",
       "                           min_impurity_decrease=0.0, min_impurity_split=None,\n",
       "                           min_samples_leaf=1, min_samples_split=2,\n",
       "                           min_weight_fraction_leaf=0.0, n_estimators=400,\n",
       "                           n_iter_no_change=10, presort='deprecated',\n",
       "                           random_state=1234, subsample=1.0, tol=0.01,\n",
       "                           validation_fraction=0.3, verbose=0,\n",
       "                           warm_start=False)"
      ]
     },
     "execution_count": 106,
     "metadata": {},
     "output_type": "execute_result"
    }
   ],
   "source": [
    "from sklearn.ensemble import GradientBoostingClassifier\n",
    "\n",
    "gbm_hyperparam = {\"n_estimators\": 400, \"max_depth\": 4, \"max_features\": 0.8, \n",
    "                  \"learning_rate\": 0.05, \"random_state\": seed}\n",
    "\n",
    "gbm_clf = GradientBoostingClassifier(**gbm_hyperparam,  validation_fraction=0.3, n_iter_no_change=10, tol=0.01,)\n",
    "\n",
    "gbm_clf.fit(X=mailout_train_X_pca_up_sample, y=mailout_train_Y_up_sample)"
   ]
  },
  {
   "cell_type": "code",
   "execution_count": 108,
   "metadata": {},
   "outputs": [
    {
     "data": {
      "text/plain": [
       "64"
      ]
     },
     "execution_count": 108,
     "metadata": {},
     "output_type": "execute_result"
    }
   ],
   "source": [
    "# check the number of trained trees\n",
    "gbm_clf.n_estimators_"
   ]
  },
  {
   "cell_type": "code",
   "execution_count": 109,
   "metadata": {},
   "outputs": [
    {
     "name": "stdout",
     "output_type": "stream",
     "text": [
      "(0.91190078396093044, 0.89527374200142107, 0.68085814771815767)\n",
      "(0.98781907052525408, 0.8847137933066227, 0.39300401808273111)\n"
     ]
    }
   ],
   "source": [
    "# check the performance, here we see the model performs very good on both the training set and validation set\n",
    "\n",
    "scores_whole = get_accuracy_auc(gbm_clf, \n",
    "                                mailout_train_X_pca_up_sample.values, mailout_train_Y_up_sample.values.ravel())\n",
    "print(scores_whole)\n",
    "\n",
    "scores = get_accuracy_auc(gbm_clf, X_valid.values, y_valid.values.ravel())\n",
    "print(scores)"
   ]
  },
  {
   "cell_type": "markdown",
   "metadata": {},
   "source": [
    "#### use whole dataset to train model"
   ]
  },
  {
   "cell_type": "code",
   "execution_count": 110,
   "metadata": {},
   "outputs": [
    {
     "name": "stderr",
     "output_type": "stream",
     "text": [
      "/opt/conda/lib/python3.6/site-packages/sklearn/ensemble/_gb.py:1454: DataConversionWarning: A column-vector y was passed when a 1d array was expected. Please change the shape of y to (n_samples, ), for example using ravel().\n",
      "  y = column_or_1d(y, warn=True)\n"
     ]
    },
    {
     "data": {
      "text/plain": [
       "GradientBoostingClassifier(ccp_alpha=0.0, criterion='friedman_mse', init=None,\n",
       "                           learning_rate=0.05, loss='deviance', max_depth=4,\n",
       "                           max_features=0.8, max_leaf_nodes=None,\n",
       "                           min_impurity_decrease=0.0, min_impurity_split=None,\n",
       "                           min_samples_leaf=1, min_samples_split=2,\n",
       "                           min_weight_fraction_leaf=0.0, n_estimators=64,\n",
       "                           n_iter_no_change=None, presort='deprecated',\n",
       "                           random_state=1234, subsample=1.0, tol=0.0001,\n",
       "                           validation_fraction=0.1, verbose=0,\n",
       "                           warm_start=False)"
      ]
     },
     "execution_count": 110,
     "metadata": {},
     "output_type": "execute_result"
    }
   ],
   "source": [
    "### use whole dataset to train model\n",
    "\n",
    "from sklearn.ensemble import GradientBoostingClassifier\n",
    "\n",
    "gbm_hyperparam = {\"n_estimators\": 400, \"max_depth\": 4, \"max_features\": 0.8, \n",
    "                  \"learning_rate\": 0.05, \"n_estimators\": 64,\"random_state\": seed}\n",
    "\n",
    "gbm_clf_v2_whole = GradientBoostingClassifier(**gbm_hyperparam)\n",
    "\n",
    "gbm_clf_v2_whole.fit(X=mailout_train_X_pca_up_sample, y=mailout_train_Y_up_sample)"
   ]
  },
  {
   "cell_type": "code",
   "execution_count": 117,
   "metadata": {},
   "outputs": [
    {
     "name": "stdout",
     "output_type": "stream",
     "text": [
      "(0.91082979908323691, 0.90356667726941675, 0.71980952996360581)\n"
     ]
    }
   ],
   "source": [
    "# check the new-fitted gbm on the whole dataset\n",
    "\n",
    "scores_whole = get_accuracy_auc(gbm_clf_v2_whole, \n",
    "                                mailout_train_X_pca_up_sample.values, mailout_train_Y_up_sample.values.ravel())\n",
    "print(scores_whole)"
   ]
  },
  {
   "cell_type": "code",
   "execution_count": 119,
   "metadata": {},
   "outputs": [],
   "source": [
    "# dump the model\n",
    "with open(\"./clean_data/02_23_2020/models/gbm_v2_whole.pkl\", 'wb') as pickle_file:\n",
    "    pickle.dump(gbm_clf_v2_whole, pickle_file)"
   ]
  },
  {
   "cell_type": "markdown",
   "metadata": {},
   "source": [
    "### ====="
   ]
  },
  {
   "cell_type": "markdown",
   "metadata": {},
   "source": [
    "#### 2.2.6.2 try the NB ()"
   ]
  },
  {
   "cell_type": "markdown",
   "metadata": {},
   "source": [
    "__upsample the positive instances to have a balance dataset__"
   ]
  },
  {
   "cell_type": "code",
   "execution_count": 20,
   "metadata": {},
   "outputs": [
    {
     "name": "stdout",
     "output_type": "stream",
     "text": [
      "Before upsample: negative v.s. positive\n",
      "(42430, 151) (532, 151)\n",
      "After upsample: negative v.s. positive\n",
      "(42430, 151) (4256, 151)\n"
     ]
    }
   ],
   "source": [
    "# \"helper_functions/upsample_for_balance.py\"\n",
    "\n",
    "from upsample import upsample_for_balance\n",
    "\n",
    "mailout_train_X_pca_up_sample, mailout_train_Y_up_sample = upsample_for_balance(mailout_train_X_pca, mailout_train_clean_Y, seed=1234)"
   ]
  },
  {
   "cell_type": "code",
   "execution_count": 21,
   "metadata": {},
   "outputs": [],
   "source": [
    "from sklearn.naive_bayes import GaussianNB"
   ]
  },
  {
   "cell_type": "code",
   "execution_count": 23,
   "metadata": {},
   "outputs": [
    {
     "data": {
      "text/plain": [
       "GaussianNB(priors=None, var_smoothing=1e-09)"
      ]
     },
     "execution_count": 23,
     "metadata": {},
     "output_type": "execute_result"
    }
   ],
   "source": [
    "# Gaussian Naive Bayes\n",
    "\n",
    "NB_clf_v2 = GaussianNB()\n",
    "NB_clf_v2.fit(mailout_train_X_pca_up_sample.values, mailout_train_Y_up_sample.values.ravel())"
   ]
  },
  {
   "cell_type": "code",
   "execution_count": 24,
   "metadata": {},
   "outputs": [
    {
     "name": "stdout",
     "output_type": "stream",
     "text": [
      "(0.87681531936769053, 0.69194691965005606, 0.206352125232731)\n"
     ]
    }
   ],
   "source": [
    "scores_train = get_accuracy_auc(NB_clf_v2, mailout_train_X_pca_up_sample.values, mailout_train_Y_up_sample.values.ravel())\n",
    "print(scores_train)"
   ]
  },
  {
   "cell_type": "markdown",
   "metadata": {},
   "source": [
    "#### 2.2.6.3 More...\n",
    "\n",
    "Some other ensemble techniques such as simple average/min/max have also been tried, but didn't help. It turned out the logistic regression is always the superior one."
   ]
  },
  {
   "cell_type": "markdown",
   "metadata": {},
   "source": [
    "<a id=\"part-3\"><br>\n",
    "## Part 3: Kaggle Competition\n",
    "</a></br>\n",
    "Now that you've created a model to predict which individuals are most likely to respond to a mailout campaign, it's time to test that model in competition through Kaggle. If you click on the link [here](http://www.kaggle.com/t/21e6d45d4c574c7fa2d868f0e8c83140), you'll be taken to the competition page where, if you have a Kaggle account, you can enter. If you're one of the top performers, you may have the chance to be contacted by a hiring manager from Arvato or Bertelsmann for an interview!\n",
    "\n",
    "Your entry to the competition should be a CSV file with two columns. The first column should be a copy of \"LNR\", which acts as an ID number for each individual in the \"TEST\" partition. The second column, \"RESPONSE\", should be some measure of how likely each individual became a customer – this might not be a straightforward probability. As you should have found in Part 2, there is a large output class imbalance, where most individuals did not respond to the mailout. Thus, predicting individual classes and using accuracy does not seem to be an appropriate performance evaluation method. Instead, the competition will be using AUC to evaluate performance. The exact values of the \"RESPONSE\" column do not matter as much: only that the higher values try to capture as many of the actual customers as possible, early in the ROC curve sweep."
   ]
  },
  {
   "cell_type": "code",
   "execution_count": 25,
   "metadata": {},
   "outputs": [
    {
     "name": "stderr",
     "output_type": "stream",
     "text": [
      "/opt/conda/lib/python3.6/site-packages/IPython/core/interactiveshell.py:2785: DtypeWarning: Columns (18,19) have mixed types. Specify dtype option on import or set low_memory=False.\n",
      "  interactivity=interactivity, compiler=compiler, result=result)\n"
     ]
    }
   ],
   "source": [
    "mailout_test = pd.read_csv('../../data/Term2/capstone/arvato_data/Udacity_MAILOUT_052018_TEST.csv', sep=';')"
   ]
  },
  {
   "cell_type": "markdown",
   "metadata": {},
   "source": [
    "### 3.1. some basic information check on the test set"
   ]
  },
  {
   "cell_type": "code",
   "execution_count": 26,
   "metadata": {},
   "outputs": [
    {
     "data": {
      "text/html": [
       "<div>\n",
       "<style scoped>\n",
       "    .dataframe tbody tr th:only-of-type {\n",
       "        vertical-align: middle;\n",
       "    }\n",
       "\n",
       "    .dataframe tbody tr th {\n",
       "        vertical-align: top;\n",
       "    }\n",
       "\n",
       "    .dataframe thead th {\n",
       "        text-align: right;\n",
       "    }\n",
       "</style>\n",
       "<table border=\"1\" class=\"dataframe\">\n",
       "  <thead>\n",
       "    <tr style=\"text-align: right;\">\n",
       "      <th></th>\n",
       "      <th>LNR</th>\n",
       "      <th>AGER_TYP</th>\n",
       "      <th>AKT_DAT_KL</th>\n",
       "      <th>ALTER_HH</th>\n",
       "      <th>ALTER_KIND1</th>\n",
       "      <th>ALTER_KIND2</th>\n",
       "      <th>ALTER_KIND3</th>\n",
       "      <th>ALTER_KIND4</th>\n",
       "      <th>ALTERSKATEGORIE_FEIN</th>\n",
       "      <th>ANZ_HAUSHALTE_AKTIV</th>\n",
       "      <th>...</th>\n",
       "      <th>VHN</th>\n",
       "      <th>VK_DHT4A</th>\n",
       "      <th>VK_DISTANZ</th>\n",
       "      <th>VK_ZG11</th>\n",
       "      <th>W_KEIT_KIND_HH</th>\n",
       "      <th>WOHNDAUER_2008</th>\n",
       "      <th>WOHNLAGE</th>\n",
       "      <th>ZABEOTYP</th>\n",
       "      <th>ANREDE_KZ</th>\n",
       "      <th>ALTERSKATEGORIE_GROB</th>\n",
       "    </tr>\n",
       "  </thead>\n",
       "  <tbody>\n",
       "    <tr>\n",
       "      <th>0</th>\n",
       "      <td>1754</td>\n",
       "      <td>2</td>\n",
       "      <td>1.0</td>\n",
       "      <td>7.0</td>\n",
       "      <td>NaN</td>\n",
       "      <td>NaN</td>\n",
       "      <td>NaN</td>\n",
       "      <td>NaN</td>\n",
       "      <td>6.0</td>\n",
       "      <td>2.0</td>\n",
       "      <td>...</td>\n",
       "      <td>4.0</td>\n",
       "      <td>5.0</td>\n",
       "      <td>6.0</td>\n",
       "      <td>3.0</td>\n",
       "      <td>6.0</td>\n",
       "      <td>9.0</td>\n",
       "      <td>3.0</td>\n",
       "      <td>3</td>\n",
       "      <td>1</td>\n",
       "      <td>4</td>\n",
       "    </tr>\n",
       "    <tr>\n",
       "      <th>1</th>\n",
       "      <td>1770</td>\n",
       "      <td>-1</td>\n",
       "      <td>1.0</td>\n",
       "      <td>0.0</td>\n",
       "      <td>NaN</td>\n",
       "      <td>NaN</td>\n",
       "      <td>NaN</td>\n",
       "      <td>NaN</td>\n",
       "      <td>0.0</td>\n",
       "      <td>20.0</td>\n",
       "      <td>...</td>\n",
       "      <td>1.0</td>\n",
       "      <td>5.0</td>\n",
       "      <td>2.0</td>\n",
       "      <td>1.0</td>\n",
       "      <td>6.0</td>\n",
       "      <td>9.0</td>\n",
       "      <td>5.0</td>\n",
       "      <td>3</td>\n",
       "      <td>1</td>\n",
       "      <td>4</td>\n",
       "    </tr>\n",
       "    <tr>\n",
       "      <th>2</th>\n",
       "      <td>1465</td>\n",
       "      <td>2</td>\n",
       "      <td>9.0</td>\n",
       "      <td>16.0</td>\n",
       "      <td>NaN</td>\n",
       "      <td>NaN</td>\n",
       "      <td>NaN</td>\n",
       "      <td>NaN</td>\n",
       "      <td>11.0</td>\n",
       "      <td>2.0</td>\n",
       "      <td>...</td>\n",
       "      <td>3.0</td>\n",
       "      <td>9.0</td>\n",
       "      <td>6.0</td>\n",
       "      <td>3.0</td>\n",
       "      <td>2.0</td>\n",
       "      <td>9.0</td>\n",
       "      <td>4.0</td>\n",
       "      <td>3</td>\n",
       "      <td>2</td>\n",
       "      <td>4</td>\n",
       "    </tr>\n",
       "    <tr>\n",
       "      <th>3</th>\n",
       "      <td>1470</td>\n",
       "      <td>-1</td>\n",
       "      <td>7.0</td>\n",
       "      <td>0.0</td>\n",
       "      <td>NaN</td>\n",
       "      <td>NaN</td>\n",
       "      <td>NaN</td>\n",
       "      <td>NaN</td>\n",
       "      <td>0.0</td>\n",
       "      <td>1.0</td>\n",
       "      <td>...</td>\n",
       "      <td>2.0</td>\n",
       "      <td>6.0</td>\n",
       "      <td>6.0</td>\n",
       "      <td>3.0</td>\n",
       "      <td>NaN</td>\n",
       "      <td>9.0</td>\n",
       "      <td>2.0</td>\n",
       "      <td>3</td>\n",
       "      <td>2</td>\n",
       "      <td>4</td>\n",
       "    </tr>\n",
       "    <tr>\n",
       "      <th>4</th>\n",
       "      <td>1478</td>\n",
       "      <td>1</td>\n",
       "      <td>1.0</td>\n",
       "      <td>21.0</td>\n",
       "      <td>NaN</td>\n",
       "      <td>NaN</td>\n",
       "      <td>NaN</td>\n",
       "      <td>NaN</td>\n",
       "      <td>13.0</td>\n",
       "      <td>1.0</td>\n",
       "      <td>...</td>\n",
       "      <td>1.0</td>\n",
       "      <td>2.0</td>\n",
       "      <td>4.0</td>\n",
       "      <td>3.0</td>\n",
       "      <td>3.0</td>\n",
       "      <td>9.0</td>\n",
       "      <td>7.0</td>\n",
       "      <td>4</td>\n",
       "      <td>2</td>\n",
       "      <td>4</td>\n",
       "    </tr>\n",
       "  </tbody>\n",
       "</table>\n",
       "<p>5 rows × 366 columns</p>\n",
       "</div>"
      ],
      "text/plain": [
       "    LNR  AGER_TYP  AKT_DAT_KL  ALTER_HH  ALTER_KIND1  ALTER_KIND2  \\\n",
       "0  1754         2         1.0       7.0          NaN          NaN   \n",
       "1  1770        -1         1.0       0.0          NaN          NaN   \n",
       "2  1465         2         9.0      16.0          NaN          NaN   \n",
       "3  1470        -1         7.0       0.0          NaN          NaN   \n",
       "4  1478         1         1.0      21.0          NaN          NaN   \n",
       "\n",
       "   ALTER_KIND3  ALTER_KIND4  ALTERSKATEGORIE_FEIN  ANZ_HAUSHALTE_AKTIV  \\\n",
       "0          NaN          NaN                   6.0                  2.0   \n",
       "1          NaN          NaN                   0.0                 20.0   \n",
       "2          NaN          NaN                  11.0                  2.0   \n",
       "3          NaN          NaN                   0.0                  1.0   \n",
       "4          NaN          NaN                  13.0                  1.0   \n",
       "\n",
       "          ...           VHN  VK_DHT4A  VK_DISTANZ  VK_ZG11  W_KEIT_KIND_HH  \\\n",
       "0         ...           4.0       5.0         6.0      3.0             6.0   \n",
       "1         ...           1.0       5.0         2.0      1.0             6.0   \n",
       "2         ...           3.0       9.0         6.0      3.0             2.0   \n",
       "3         ...           2.0       6.0         6.0      3.0             NaN   \n",
       "4         ...           1.0       2.0         4.0      3.0             3.0   \n",
       "\n",
       "   WOHNDAUER_2008  WOHNLAGE ZABEOTYP ANREDE_KZ ALTERSKATEGORIE_GROB  \n",
       "0             9.0       3.0        3         1                    4  \n",
       "1             9.0       5.0        3         1                    4  \n",
       "2             9.0       4.0        3         2                    4  \n",
       "3             9.0       2.0        3         2                    4  \n",
       "4             9.0       7.0        4         2                    4  \n",
       "\n",
       "[5 rows x 366 columns]"
      ]
     },
     "execution_count": 26,
     "metadata": {},
     "output_type": "execute_result"
    }
   ],
   "source": [
    "mailout_test.head(5)"
   ]
  },
  {
   "cell_type": "code",
   "execution_count": 27,
   "metadata": {
    "scrolled": true
   },
   "outputs": [
    {
     "name": "stdout",
     "output_type": "stream",
     "text": [
      "----------\n",
      "Row null values histogram (Row number counts V.S. Missing value percentage):\n",
      "\n"
     ]
    },
    {
     "data": {
      "image/png": "[encoded data removed]",
      "text/plain": [
       "<matplotlib.figure.Figure at 0x7f3c0d7fb198>"
      ]
     },
     "metadata": {
      "needs_background": "light"
     },
     "output_type": "display_data"
    }
   ],
   "source": [
    "miss_data_check_row(mailout_test)"
   ]
  },
  {
   "cell_type": "code",
   "execution_count": 31,
   "metadata": {
    "collapsed": true
   },
   "outputs": [
    {
     "data": {
      "text/plain": [
       "ALTER_KIND4                  0.999089\n",
       "ALTER_KIND3                  0.995307\n",
       "ALTER_KIND2                  0.982210\n",
       "ALTER_KIND1                  0.953004\n",
       "KK_KUNDENTYP                 0.584479\n",
       "EXTSEL992                    0.369085\n",
       "HH_DELTA_FLAG                0.224570\n",
       "W_KEIT_KIND_HH               0.224570\n",
       "KBA05_MAXVORB                0.199309\n",
       "KBA05_MOTOR                  0.199309\n",
       "KBA05_MOD4                   0.199309\n",
       "KBA05_MOD3                   0.199309\n",
       "KBA05_MOD2                   0.199309\n",
       "KBA05_MOD1                   0.199309\n",
       "KBA05_MAXSEG                 0.199309\n",
       "KBA05_KRSZUL                 0.199309\n",
       "KBA05_MOTRAD                 0.199309\n",
       "KBA05_MAXBJ                  0.199309\n",
       "KBA05_MAXAH                  0.199309\n",
       "KBA05_KW3                    0.199309\n",
       "KBA05_KW2                    0.199309\n",
       "MOBI_REGIO                   0.199309\n",
       "KBA05_KW1                    0.199309\n",
       "KBA05_MAXHERST               0.199309\n",
       "KBA05_ZUL3                   0.199309\n",
       "KBA05_SEG1                   0.199309\n",
       "KBA05_KRSOBER                0.199309\n",
       "KBA05_ZUL4                   0.199309\n",
       "KBA05_ZUL2                   0.199309\n",
       "KBA05_ZUL1                   0.199309\n",
       "                               ...   \n",
       "D19_RATGEBER                 0.000000\n",
       "FINANZ_ANLEGER               0.000000\n",
       "D19_REISEN                   0.000000\n",
       "D19_SAMMELARTIKEL            0.000000\n",
       "D19_SCHUHE                   0.000000\n",
       "D19_SONSTIGE                 0.000000\n",
       "D19_TECHNIK                  0.000000\n",
       "D19_TELKO_ANZ_12             0.000000\n",
       "D19_TELKO_ANZ_24             0.000000\n",
       "D19_TELKO_DATUM              0.000000\n",
       "D19_TELKO_MOBILE             0.000000\n",
       "D19_TELKO_OFFLINE_DATUM      0.000000\n",
       "D19_TELKO_ONLINE_DATUM       0.000000\n",
       "D19_TELKO_REST               0.000000\n",
       "D19_TIERARTIKEL              0.000000\n",
       "D19_VERSAND_ANZ_12           0.000000\n",
       "D19_VERSAND_ANZ_24           0.000000\n",
       "D19_VERSAND_DATUM            0.000000\n",
       "D19_VERSAND_OFFLINE_DATUM    0.000000\n",
       "D19_VERSAND_ONLINE_DATUM     0.000000\n",
       "D19_VERSAND_REST             0.000000\n",
       "D19_VERSI_ANZ_12             0.000000\n",
       "D19_VERSI_ANZ_24             0.000000\n",
       "D19_VERSI_DATUM              0.000000\n",
       "D19_VERSI_OFFLINE_DATUM      0.000000\n",
       "D19_VERSI_ONLINE_DATUM       0.000000\n",
       "D19_VERSICHERUNGEN           0.000000\n",
       "D19_VOLLSORTIMENT            0.000000\n",
       "D19_WEIN_FEINKOST            0.000000\n",
       "LNR                          0.000000\n",
       "Length: 366, dtype: float64"
      ]
     },
     "execution_count": 31,
     "metadata": {},
     "output_type": "execute_result"
    }
   ],
   "source": [
    "# informaiton of missing columns\n",
    "mail_out_null_info = mailout_test.isnull().sum()/mailout_test.shape[0]\n",
    "mail_out_null_info.sort_values(ascending=False)"
   ]
  },
  {
   "cell_type": "code",
   "execution_count": null,
   "metadata": {},
   "outputs": [],
   "source": []
  },
  {
   "cell_type": "markdown",
   "metadata": {},
   "source": [
    "### 3.2 Apply the same pre-processing to test set\n",
    "\n",
    "You can either tun the code in the following cell, or call the function transform_test_data(mailout_test, max_abs_scaler_customer, pca_all)\n",
    "\n",
    "```Python\n",
    "    from helper_functions.predict_test import transform_test_data\n",
    "```"
   ]
  },
  {
   "cell_type": "code",
   "execution_count": 30,
   "metadata": {},
   "outputs": [
    {
     "name": "stdout",
     "output_type": "stream",
     "text": [
      "(42833, 357)\n",
      "(42833, 357)\n"
     ]
    }
   ],
   "source": [
    "# same preprocess\n",
    "\n",
    "# 1. ===============\n",
    "cols_to_drop = list(map(lambda x: \"ALTER_KIND\"+str(x), [1,2,3,4])) \\\n",
    "+ [\"EXTSEL992\", \"CAMEO_DEU_2015\"] \\\n",
    "+ [\"D19_LETZTER_KAUF_BRANCHE\", \"EINGEFUEGT_AM\", \"OST_WEST_KZ\"]\n",
    "\n",
    "mailout_test_clean = drop_columns(mailout_test, cols_to_drop)\n",
    "#mailout_test_clean = remove_row(mailout_test_clean)\n",
    "mailout_test_clean = miss_data_impu(mailout_test_clean)\n",
    "\n",
    "print(mailout_test_clean.shape)\n",
    "\n",
    "cols_X = [col for col in mailout_test_clean.columns.tolist()]\n",
    "\n",
    "mailout_test_clean_X = mailout_test_clean[cols_X]\n",
    "\n",
    "print(mailout_test_clean_X.shape)\n",
    "\n",
    "# 2. ===============\n",
    "# rescale\n",
    "mailout_test_X_scaled = max_abs_scaler_customer.transform(mailout_test_clean_X)\n",
    "# 3. ===============\n",
    "# PCA\n",
    "# mailout_test_X_pca = pca_population.transform(mailout_test_X_scaled)\n",
    "\n",
    "mailout_test_X_pca = pca_all.transform(mailout_test_X_scaled)"
   ]
  },
  {
   "cell_type": "code",
   "execution_count": 31,
   "metadata": {},
   "outputs": [
    {
     "name": "stdout",
     "output_type": "stream",
     "text": [
      "(42833, 150)\n"
     ]
    }
   ],
   "source": [
    "# check if the shape is corret\n",
    "print(mailout_test_X_pca.shape)"
   ]
  },
  {
   "cell_type": "markdown",
   "metadata": {},
   "source": [
    "#### ========="
   ]
  },
  {
   "cell_type": "markdown",
   "metadata": {},
   "source": [
    "### 3.3 Use the model to do the prediction\n",
    "\n",
    "**Note:** \n",
    "1. For the sake of conciseness, I just gave the example for the logistic regression classifier\n",
    "2. To avoid the repetition of same code, I also created a function to do the prediction on the test set, only work for classifers that have the sklearn API clf.predict_proba"
   ]
  },
  {
   "cell_type": "markdown",
   "metadata": {},
   "source": [
    "### logistic regression (PCA2)\n",
    "\n",
    "Usually you should have the trained classifer saved, for example, as pickle file, and just load the classifier first"
   ]
  },
  {
   "cell_type": "code",
   "execution_count": 28,
   "metadata": {},
   "outputs": [],
   "source": [
    "### first create the dataframe to hold the prediction results\n",
    "testset_prediction = mailout_test[[\"LNR\"]].copy()"
   ]
  },
  {
   "cell_type": "code",
   "execution_count": 52,
   "metadata": {},
   "outputs": [],
   "source": [
    "# do the prediction by calling the API predict_proba\n",
    "\n",
    "predict_y_proba_test = lg_clf.predict_proba(mailout_test_X_pca)\n",
    "\n",
    "# only save the probabilty of being predicted as positive (1)\n",
    "testset_prediction[\"RESPONSE\"] = predict_y_proba_test[:,1]\n",
    "# save the prediction results\n",
    "testset_prediction.to_csv(\"./clean_data/models/lg_clf_v1.csv\", index=False)"
   ]
  },
  {
   "cell_type": "markdown",
   "metadata": {},
   "source": [
    "__Or use the handy funciton to do the prediction__"
   ]
  },
  {
   "cell_type": "code",
   "execution_count": 38,
   "metadata": {},
   "outputs": [],
   "source": [
    "# \"./helper_functions/predict_test.py\"\n",
    "\n",
    "from predict_test import predict_test\n",
    "\n",
    "\n",
    "predict_test(lg_clf_clf, mailout_test_X_pca, testset_prediction, predict_result_file=\"./clean_data/models/lg_clf_v1.csv\")"
   ]
  },
  {
   "cell_type": "markdown",
   "metadata": {},
   "source": [
    "### go to the Kaggle website and submit the csv file"
   ]
  },
  {
   "cell_type": "markdown",
   "metadata": {},
   "source": [
    "## =======Notebook END============="
   ]
  }
 ],
 "metadata": {
  "kernelspec": {
   "display_name": "Python 3",
   "language": "python",
   "name": "python3"
  },
  "language_info": {
   "codemirror_mode": {
    "name": "ipython",
    "version": 3
   },
   "file_extension": ".py",
   "mimetype": "text/x-python",
   "name": "python",
   "nbconvert_exporter": "python",
   "pygments_lexer": "ipython3",
   "version": "3.7.5"
  }
 },
 "nbformat": 4,
 "nbformat_minor": 2
}
